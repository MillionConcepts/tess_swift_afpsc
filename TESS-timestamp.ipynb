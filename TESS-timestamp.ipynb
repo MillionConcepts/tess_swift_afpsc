{
 "cells": [
  {
   "cell_type": "code",
   "execution_count": 44,
   "metadata": {},
   "outputs": [],
   "source": [
    "from pathlib import Path\n",
    "from astropy.io import fits\n",
    "import os\n",
    "import numpy as np\n",
    "from fast_histogram import histogram, histogram2d\n",
    "from matplotlib import animation\n",
    "from IPython.display import HTML # requires ffmpeg\n",
    "from astropy.wcs import WCS\n",
    "from astropy.time import Time"
   ]
  },
  {
   "cell_type": "code",
   "execution_count": 45,
   "metadata": {},
   "outputs": [],
   "source": [
    "tess_fn = '/Users/katborski/Documents/GitHub/AFPSC/TESS/tess2021232031932-s0042-0000000250081915-0213-a_fast-lc.fits'\n",
    "tess_data = fits.open(tess_fn)"
   ]
  },
  {
   "cell_type": "code",
   "execution_count": 46,
   "metadata": {},
   "outputs": [
    {
     "data": {
      "text/plain": [
       "XTENSION= 'IMAGE   '           / marks the beginning of a new HDU               \n",
       "BITPIX  =                   32 / array data type                                \n",
       "NAXIS   =                    2 / number of array dimensions                     \n",
       "NAXIS1  =                   11 / length of first array dimension                \n",
       "NAXIS2  =                   11 / length of second array dimension               \n",
       "PCOUNT  =                    0 / group parameter count (not used)               \n",
       "GCOUNT  =                    1 / group count (not used)                         \n",
       "INHERIT =                    T / inherit the primary header                     \n",
       "EXTNAME = 'APERTURE'           / name of extension                              \n",
       "EXTVER  =                    1 / extension version number (not format version)  \n",
       "SIMDATA =                    F / file is based on simulated data                \n",
       "TELESCOP= 'TESS    '           / telescope                                      \n",
       "INSTRUME= 'TESS Photometer'    / detector type                                  \n",
       "OBJECT  = 'TIC 250081915'      / string version of target id                    \n",
       "TICID   =            250081915 / unique tess target identifier                  \n",
       "RADESYS = 'ICRS    '           / reference frame of celestial coordinates       \n",
       "RA_OBJ  = 352.9377564209164600 / [deg] right ascension                          \n",
       "DEC_OBJ =  -2.7443168090708200 / [deg] declination                              \n",
       "EQUINOX =               2000.0 / equinox of celestial coordinate system         \n",
       "WCSAXES =                    2 / number of WCS axes                             \n",
       "CTYPE1  = 'RA---TAN'           / right ascension coordinate type                \n",
       "CTYPE2  = 'DEC--TAN'           / declination coordinate type                    \n",
       "CRPIX1  =    6.976927713566255 / [pixel] reference pixel along image axis 1     \n",
       "CRPIX2  =    6.450120420997507 / [pixel] reference pixel along image axis 2     \n",
       "CRVAL1  = 352.9377564209164600 / [deg] right ascension at reference pixel       \n",
       "CRVAL2  =  -2.7447498552968836 / [deg] declination at reference pixel           \n",
       "CUNIT1  = 'deg     '           / physical unit in column dimension              \n",
       "CUNIT2  = 'deg     '           / physical unit in row dimension                 \n",
       "CDELT1  =   -0.005662109842087 / [deg] pixel scale in RA dimension              \n",
       "CDELT2  = 0.005662109842087214 / [deg] pixel scale in Dec dimension             \n",
       "PC1_1   =  -0.4031504302631151 / linear transformation element cos(th)          \n",
       "PC1_2   =  -0.9050905178710669 / linear transformation element -sin(th)         \n",
       "PC2_1   =  -0.9317283372108942 / linear transformation element sin(th)          \n",
       "PC2_2   =   0.3886924209813515 / linear transformation element cos(th)          \n",
       "WCSNAMEP= 'PHYSICAL'           / name of world coordinate system alternate P    \n",
       "WCSAXESP=                    2 / number of WCS physical axes                    \n",
       "CTYPE1P = 'RAWX    '           / physical WCS axis 1 type CCD col               \n",
       "CUNIT1P = 'PIXEL   '           / physical WCS axis 1 unit                       \n",
       "CRPIX1P =                    1 / reference CCD column                           \n",
       "CRVAL1P =                   51 / value at reference CCD column                  \n",
       "CDELT1P =                  1.0 / physical WCS axis 1 step                       \n",
       "CTYPE2P = 'RAWY    '           / physical WCS axis 2 type CCD row               \n",
       "CUNIT2P = 'PIXEL   '           / physical WCS axis 2 units                      \n",
       "CRPIX2P =                    1 / reference CCD row                              \n",
       "CRVAL2P =                  373 / value at reference CCD row                     \n",
       "CDELT2P =                  1.0 / physical WCS axis 2 step                       \n",
       "NPIXSAP =                    8 / Number of pixels in optimal aperture           \n",
       "NPIXMISS=                    0 / Number of op. aperture pixels not collected    \n",
       "CHECKSUM= 'LAAbN55aLAAaL53a'   / HDU checksum updated 2021-09-21T21:21:04Z      "
      ]
     },
     "execution_count": 46,
     "metadata": {},
     "output_type": "execute_result"
    }
   ],
   "source": [
    "tess_data[2].header"
   ]
  },
  {
   "cell_type": "code",
   "execution_count": 47,
   "metadata": {},
   "outputs": [
    {
     "data": {
      "text/plain": [
       "array([2447.68999325, 2447.69022474, 2447.69045624, ..., 2473.1654577 ,\n",
       "       2473.16568918, 2473.16592066])"
      ]
     },
     "execution_count": 47,
     "metadata": {},
     "output_type": "execute_result"
    }
   ],
   "source": [
    "tess_data[1].data['TIME']"
   ]
  },
  {
   "cell_type": "code",
   "execution_count": 48,
   "metadata": {},
   "outputs": [],
   "source": [
    "tesstime = tess_data[1].data['TIME']+2457000\n",
    "ix = np.where(np.isfinite(tesstime))\n"
   ]
  },
  {
   "cell_type": "code",
   "execution_count": 49,
   "metadata": {},
   "outputs": [
    {
     "data": {
      "text/plain": [
       "array([59447.18999325, 59447.19022474, 59447.19045624, ...,\n",
       "       59472.6654577 , 59472.66568918, 59472.66592066])"
      ]
     },
     "execution_count": 49,
     "metadata": {},
     "output_type": "execute_result"
    }
   ],
   "source": [
    "time.Time(tesstime[ix],format='jd').mjd"
   ]
  },
  {
   "cell_type": "code",
   "execution_count": null,
   "metadata": {},
   "outputs": [],
   "source": []
  }
 ],
 "metadata": {
  "kernelspec": {
   "display_name": "Python 3 (ipykernel)",
   "language": "python",
   "name": "python3"
  },
  "language_info": {
   "codemirror_mode": {
    "name": "ipython",
    "version": 3
   },
   "file_extension": ".py",
   "mimetype": "text/x-python",
   "name": "python",
   "nbconvert_exporter": "python",
   "pygments_lexer": "ipython3",
   "version": "3.9.12"
  }
 },
 "nbformat": 4,
 "nbformat_minor": 4
}
