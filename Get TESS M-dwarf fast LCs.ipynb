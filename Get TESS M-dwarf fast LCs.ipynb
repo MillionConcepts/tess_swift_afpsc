{
 "cells": [
  {
   "cell_type": "code",
   "execution_count": 104,
   "id": "0140e6c5",
   "metadata": {},
   "outputs": [],
   "source": [
    "import numpy as np\n",
    "import pandas as pd\n",
    "from astroquery.mast import Catalogs\n",
    "import astropy.units as u\n",
    "from astroquery.gaia import Gaia\n",
    "from astroquery.simbad import Simbad\n",
    "import astropy.coordinates as coord\n",
    "import os\n",
    "from astropy.table import Table,vstack\n",
    "from tqdm import tqdm\n",
    "import warnings\n",
    "import time"
   ]
  },
  {
   "cell_type": "code",
   "execution_count": 62,
   "id": "d2b19287",
   "metadata": {},
   "outputs": [],
   "source": [
    "Simbad.add_votable_fields(\"otype\",\"sp\")"
   ]
  },
  {
   "cell_type": "code",
   "execution_count": 67,
   "id": "6faa283a",
   "metadata": {},
   "outputs": [],
   "source": [
    "curls = []\n",
    "for fn in os.listdir('ref'):\n",
    "    with open(f\"ref/{fn}\",'r') as f:\n",
    "        curls += f.readlines()[1:]\n",
    "#print(curls)"
   ]
  },
  {
   "cell_type": "code",
   "execution_count": 71,
   "id": "c9395b41",
   "metadata": {},
   "outputs": [
    {
     "name": "stdout",
     "output_type": "stream",
     "text": [
      "There are 47055 fast light curves available.\n"
     ]
    }
   ],
   "source": [
    "tic_ids = []\n",
    "for curl in curls[1:]:\n",
    "    tic_ids += [int(curl.strip().split(' ')[-1].split('-')[2])]\n",
    "print(f\"There are {len(curls)} fast light curves available.\")"
   ]
  },
  {
   "cell_type": "code",
   "execution_count": 72,
   "id": "7a7e7b24",
   "metadata": {},
   "outputs": [],
   "source": [
    "tic = Catalogs.query_criteria(catalog='TIC',ID=tic_ids)"
   ]
  },
  {
   "cell_type": "code",
   "execution_count": 73,
   "id": "3285d289",
   "metadata": {},
   "outputs": [],
   "source": [
    "cat = pd.DataFrame({'ID':tic['ID'],\n",
    "                    'ra':tic['ra'],\n",
    "                    'dec':tic['dec']})#,\n",
    "                    #'match_dist':np.zeros(len(tic)),\n",
    "                    #'spectra_type':['']*len(tic)})"
   ]
  },
  {
   "cell_type": "code",
   "execution_count": 111,
   "id": "6050a395",
   "metadata": {},
   "outputs": [
    {
     "name": "stderr",
     "output_type": "stream",
     "text": [
      "  4%|█▊                                          | 1/24 [00:10<04:05, 10.69s/it]WARNING: MergeConflictWarning: Cannot merge meta key 'description' types <class 'str'> and <class 'str'>, choosing description='Simbad script executed on 2023.04.07CEST21:40:34' [astropy.utils.metadata]\n",
      "  8%|███▋                                        | 2/24 [00:41<08:12, 22.37s/it]WARNING: MergeConflictWarning: Cannot merge meta key 'description' types <class 'str'> and <class 'str'>, choosing description='Simbad script executed on 2023.04.07CEST21:41:04' [astropy.utils.metadata]\n",
      " 12%|█████▌                                      | 3/24 [01:13<09:27, 27.01s/it]WARNING: MergeConflictWarning: Cannot merge meta key 'description' types <class 'str'> and <class 'str'>, choosing description='Simbad script executed on 2023.04.07CEST21:41:36' [astropy.utils.metadata]\n",
      " 17%|███████▎                                    | 4/24 [01:43<09:24, 28.25s/it]WARNING: MergeConflictWarning: Cannot merge meta key 'description' types <class 'str'> and <class 'str'>, choosing description='Simbad script executed on 2023.04.07CEST21:42:07' [astropy.utils.metadata]\n",
      " 21%|█████████▏                                  | 5/24 [02:13<09:05, 28.71s/it]WARNING: MergeConflictWarning: Cannot merge meta key 'description' types <class 'str'> and <class 'str'>, choosing description='Simbad script executed on 2023.04.07CEST21:42:40' [astropy.utils.metadata]\n",
      " 25%|███████████                                 | 6/24 [02:46<09:01, 30.09s/it]WARNING: MergeConflictWarning: Cannot merge meta key 'description' types <class 'str'> and <class 'str'>, choosing description='Simbad script executed on 2023.04.07CEST21:43:09' [astropy.utils.metadata]\n",
      " 29%|████████████▊                               | 7/24 [03:19<08:51, 31.25s/it]WARNING: MergeConflictWarning: Cannot merge meta key 'description' types <class 'str'> and <class 'str'>, choosing description='Simbad script executed on 2023.04.07CEST21:43:42' [astropy.utils.metadata]\n",
      " 33%|██████████████▋                             | 8/24 [03:51<08:23, 31.48s/it]WARNING: MergeConflictWarning: Cannot merge meta key 'description' types <class 'str'> and <class 'str'>, choosing description='Simbad script executed on 2023.04.07CEST21:44:14' [astropy.utils.metadata]\n",
      " 38%|████████████████▌                           | 9/24 [04:23<07:52, 31.52s/it]WARNING: MergeConflictWarning: Cannot merge meta key 'description' types <class 'str'> and <class 'str'>, choosing description='Simbad script executed on 2023.04.07CEST21:44:46' [astropy.utils.metadata]\n",
      " 42%|█████████████████▉                         | 10/24 [04:51<07:07, 30.52s/it]WARNING: MergeConflictWarning: Cannot merge meta key 'description' types <class 'str'> and <class 'str'>, choosing description='Simbad script executed on 2023.04.07CEST21:45:14' [astropy.utils.metadata]\n",
      " 46%|███████████████████▋                       | 11/24 [05:18<06:21, 29.32s/it]WARNING: MergeConflictWarning: Cannot merge meta key 'description' types <class 'str'> and <class 'str'>, choosing description='Simbad script executed on 2023.04.07CEST21:45:41' [astropy.utils.metadata]\n",
      " 50%|█████████████████████▌                     | 12/24 [05:47<05:52, 29.37s/it]WARNING: MergeConflictWarning: Cannot merge meta key 'description' types <class 'str'> and <class 'str'>, choosing description='Simbad script executed on 2023.04.07CEST21:46:10' [astropy.utils.metadata]\n",
      " 54%|███████████████████████▎                   | 13/24 [06:15<05:18, 28.94s/it]WARNING: MergeConflictWarning: Cannot merge meta key 'description' types <class 'str'> and <class 'str'>, choosing description='Simbad script executed on 2023.04.07CEST21:46:38' [astropy.utils.metadata]\n",
      " 58%|█████████████████████████                  | 14/24 [06:44<04:48, 28.88s/it]WARNING: MergeConflictWarning: Cannot merge meta key 'description' types <class 'str'> and <class 'str'>, choosing description='Simbad script executed on 2023.04.07CEST21:47:08' [astropy.utils.metadata]\n",
      " 62%|██████████████████████████▉                | 15/24 [07:12<04:18, 28.73s/it]WARNING: MergeConflictWarning: Cannot merge meta key 'description' types <class 'str'> and <class 'str'>, choosing description='Simbad script executed on 2023.04.07CEST21:47:35' [astropy.utils.metadata]\n",
      " 67%|████████████████████████████▋              | 16/24 [07:43<03:55, 29.45s/it]WARNING: MergeConflictWarning: Cannot merge meta key 'description' types <class 'str'> and <class 'str'>, choosing description='Simbad script executed on 2023.04.07CEST21:48:07' [astropy.utils.metadata]\n",
      " 71%|██████████████████████████████▍            | 17/24 [08:14<03:29, 29.92s/it]WARNING: MergeConflictWarning: Cannot merge meta key 'description' types <class 'str'> and <class 'str'>, choosing description='Simbad script executed on 2023.04.07CEST21:48:38' [astropy.utils.metadata]\n",
      " 75%|████████████████████████████████▎          | 18/24 [08:45<02:59, 29.97s/it]WARNING: MergeConflictWarning: Cannot merge meta key 'description' types <class 'str'> and <class 'str'>, choosing description='Simbad script executed on 2023.04.07CEST21:49:08' [astropy.utils.metadata]\n",
      " 79%|██████████████████████████████████         | 19/24 [09:14<02:29, 29.84s/it]WARNING: MergeConflictWarning: Cannot merge meta key 'description' types <class 'str'> and <class 'str'>, choosing description='Simbad script executed on 2023.04.07CEST21:49:37' [astropy.utils.metadata]\n",
      " 83%|███████████████████████████████████▊       | 20/24 [09:42<01:56, 29.14s/it]WARNING: MergeConflictWarning: Cannot merge meta key 'description' types <class 'str'> and <class 'str'>, choosing description='Simbad script executed on 2023.04.07CEST21:50:05' [astropy.utils.metadata]\n",
      " 88%|█████████████████████████████████████▋     | 21/24 [10:09<01:25, 28.66s/it]WARNING: MergeConflictWarning: Cannot merge meta key 'description' types <class 'str'> and <class 'str'>, choosing description='Simbad script executed on 2023.04.07CEST21:50:32' [astropy.utils.metadata]\n",
      " 92%|███████████████████████████████████████▍   | 22/24 [10:37<00:57, 28.54s/it]WARNING: MergeConflictWarning: Cannot merge meta key 'description' types <class 'str'> and <class 'str'>, choosing description='Simbad script executed on 2023.04.07CEST21:51:00' [astropy.utils.metadata]\n",
      " 96%|█████████████████████████████████████████▏ | 23/24 [11:06<00:28, 28.68s/it]WARNING: MergeConflictWarning: Cannot merge meta key 'description' types <class 'str'> and <class 'str'>, choosing description='Simbad script executed on 2023.04.07CEST21:51:29' [astropy.utils.metadata]\n",
      "100%|███████████████████████████████████████████| 24/24 [11:36<00:00, 29.03s/it]\n"
     ]
    }
   ],
   "source": [
    "simbad = Table()\n",
    "for i in tqdm(np.arange(0,len(cat),1000)): # if you submit too large of a bulk request, SIMBAD will time out\n",
    "    with warnings.catch_warnings():\n",
    "        warnings.simplefilter(\"ignore\")\n",
    "        simbad_temp = Simbad.query_region(\n",
    "            coord.SkyCoord( cat['ra'][i:i+1000].tolist(),\n",
    "                           cat['dec'][i:i+1000].tolist(),\n",
    "                   unit=(u.deg, u.deg)),\n",
    "            radius=35/60/60*u.deg) # 35as search radius\n",
    "    simbad = vstack([simbad,simbad_temp])\n",
    "    time.sleep(10) # if you submit too many requests per minute, SIMBAD will blacklist you"
   ]
  },
  {
   "cell_type": "code",
   "execution_count": 112,
   "id": "aa229edc",
   "metadata": {},
   "outputs": [
    {
     "data": {
      "text/html": [
       "<div><i>Table length=29097</i>\n",
       "<table id=\"table6978888368\" class=\"table-striped table-bordered table-condensed\">\n",
       "<thead><tr><th>MAIN_ID</th><th>RA</th><th>DEC</th><th>RA_PREC</th><th>DEC_PREC</th><th>COO_ERR_MAJA</th><th>COO_ERR_MINA</th><th>COO_ERR_ANGLE</th><th>COO_QUAL</th><th>COO_WAVELENGTH</th><th>COO_BIBCODE</th><th>OTYPE</th><th>PLX_VALUE</th><th>PLX_PREC</th><th>PLX_ERROR</th><th>PLX_QUAL</th><th>PLX_BIBCODE</th><th>SP_TYPE</th><th>OTYPE_2</th><th>SP_TYPE_2</th><th>OTYPE_3</th><th>SP_TYPE_3</th><th>SCRIPT_NUMBER_ID</th></tr></thead>\n",
       "<thead><tr><th></th><th>&quot;h:m:s&quot;</th><th>&quot;d:m:s&quot;</th><th></th><th></th><th>mas</th><th>mas</th><th>deg</th><th></th><th></th><th></th><th></th><th>mas</th><th></th><th>mas</th><th></th><th></th><th></th><th></th><th></th><th></th><th></th><th></th></tr></thead>\n",
       "<thead><tr><th>object</th><th>str13</th><th>str13</th><th>int16</th><th>int16</th><th>float32</th><th>float32</th><th>int16</th><th>str1</th><th>str1</th><th>object</th><th>object</th><th>float64</th><th>int16</th><th>float32</th><th>str1</th><th>object</th><th>object</th><th>object</th><th>object</th><th>object</th><th>object</th><th>int32</th></tr></thead>\n",
       "<tr><td>BD+33  4813</td><td>00 00 04.0830</td><td>+34 11 18.792</td><td>14</td><td>14</td><td>0.157</td><td>0.127</td><td>90</td><td>A</td><td>O</td><td>2020yCat.1350....0G</td><td>SB*</td><td>20.194</td><td>3</td><td>0.225</td><td>A</td><td>2020yCat.1350....0G</td><td>G0</td><td>SB*</td><td>G0</td><td>SB*</td><td>G0</td><td>1</td></tr>\n",
       "<tr><td>...</td><td>...</td><td>...</td><td>...</td><td>...</td><td>...</td><td>...</td><td>...</td><td>...</td><td>...</td><td>...</td><td>...</td><td>...</td><td>...</td><td>...</td><td>...</td><td>...</td><td>...</td><td>...</td><td>...</td><td>...</td><td>...</td><td>...</td></tr>\n",
       "<tr><td>SDSSCGB 18665.3</td><td>12 53 52.2695</td><td>-00 10 32.217</td><td>14</td><td>14</td><td>39.687</td><td>17.750</td><td>90</td><td>C</td><td>O</td><td>2020yCat.1350....0G</td><td>Galaxy</td><td>--</td><td>0</td><td>--</td><td></td><td></td><td></td><td>Galaxy</td><td></td><td>Galaxy</td><td></td><td>980</td></tr>\n",
       "</table></div>"
      ],
      "text/plain": [
       "<Table length=29097>\n",
       "    MAIN_ID           RA           DEC      ... SP_TYPE_3 SCRIPT_NUMBER_ID\n",
       "                   \"h:m:s\"       \"d:m:s\"    ...                           \n",
       "     object         str13         str13     ...   object       int32      \n",
       "--------------- ------------- ------------- ... --------- ----------------\n",
       "    BD+33  4813 00 00 04.0830 +34 11 18.792 ...        G0                1\n",
       "            ...           ...           ... ...       ...              ...\n",
       "SDSSCGB 18665.3 12 53 52.2695 -00 10 32.217 ...                        980"
      ]
     },
     "execution_count": 112,
     "metadata": {},
     "output_type": "execute_result"
    }
   ],
   "source": [
    "simbad"
   ]
  },
  {
   "cell_type": "code",
   "execution_count": 113,
   "id": "bd4ab49f",
   "metadata": {
    "scrolled": true
   },
   "outputs": [],
   "source": [
    "simbad_positions = coord.SkyCoord(simbad['RA'].tolist(),\n",
    "                                  simbad['DEC'].tolist(),\n",
    "                                  unit=(u.hourangle, u.deg))"
   ]
  },
  {
   "cell_type": "code",
   "execution_count": 114,
   "id": "6a084a9b",
   "metadata": {},
   "outputs": [],
   "source": [
    "tess_position = coord.SkyCoord(tic[0]['ra'],tic[0]['dec'],\n",
    "                               unit = (u.deg,u.deg))"
   ]
  },
  {
   "cell_type": "code",
   "execution_count": 118,
   "id": "60778c41",
   "metadata": {},
   "outputs": [],
   "source": [
    "for i,skypos in enumerate(zip(ra,dec)):\n",
    "    tess_position = coord.SkyCoord(skypos[0],skypos[1],\n",
    "                                   unit = (u.deg,u.deg))\n",
    "    match = tess_position.match_to_catalog_sky(simbad_positions)\n",
    "    if match[1].deg>1e-05: # maximum radius for a valid match, ~0.36\"\n",
    "        cat.loc[i,'match_dist_as']=match[1].deg*60*60\n",
    "        cat.loc[i,'spectral_type']='-'\n",
    "        continue\n",
    "    cat.loc[i,'match_dist_as']=match[1].deg*60*60\n",
    "    cat.loc[i,'spectral_type']=simbad[match[0]]['SP_TYPE']"
   ]
  },
  {
   "cell_type": "code",
   "execution_count": 145,
   "id": "2e28a31c",
   "metadata": {},
   "outputs": [],
   "source": [
    "cat.to_csv('object_table.csv',index=None)"
   ]
  },
  {
   "cell_type": "code",
   "execution_count": 139,
   "id": "4cd99e79",
   "metadata": {},
   "outputs": [
    {
     "name": "stdout",
     "output_type": "stream",
     "text": [
      "233 318\n"
     ]
    }
   ],
   "source": [
    "dwarf_curls=[]\n",
    "n,m=0,0\n",
    "for source in cat.iterrows():\n",
    "    if (str(source[1]['spectral_type']).startswith('M') or\n",
    "        str(source[1]['spectral_type']).startswith('K')):\n",
    "        tic_id = source[1]['ID']\n",
    "        n+=1\n",
    "        for curl in curls:\n",
    "            if f\"{tic_id}-\" in curl:\n",
    "                dwarf_curls+=[curl]\n",
    "                m+=1\n",
    "print(n,m)"
   ]
  },
  {
   "cell_type": "code",
   "execution_count": 144,
   "id": "118b773e",
   "metadata": {},
   "outputs": [],
   "source": [
    "with open('ref/dwarf_curls.sh','w') as f:\n",
    "    for c in dwarf_curls:\n",
    "        f.write(c)"
   ]
  },
  {
   "cell_type": "code",
   "execution_count": null,
   "id": "04f01c83",
   "metadata": {},
   "outputs": [],
   "source": []
  }
 ],
 "metadata": {
  "kernelspec": {
   "display_name": "Python 3 (ipykernel)",
   "language": "python",
   "name": "python3"
  },
  "language_info": {
   "codemirror_mode": {
    "name": "ipython",
    "version": 3
   },
   "file_extension": ".py",
   "mimetype": "text/x-python",
   "name": "python",
   "nbconvert_exporter": "python",
   "pygments_lexer": "ipython3",
   "version": "3.9.16"
  }
 },
 "nbformat": 4,
 "nbformat_minor": 5
}
