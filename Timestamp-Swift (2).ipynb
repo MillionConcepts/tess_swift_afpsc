{
 "cells": [
  {
   "cell_type": "code",
   "execution_count": null,
   "metadata": {},
   "outputs": [],
   "source": []
  },
  {
   "cell_type": "code",
   "execution_count": 16,
   "metadata": {},
   "outputs": [],
   "source": [
    "from pathlib import Path\n",
    "from astropy.io import fits \n",
    "import os\n",
    "import astropy\n",
    "from fast_histogram import histogram, histogram2d\n",
    "from matplotlib import animation\n",
    "from IPython.display import HTML # requires ffmpeg\n",
    "from astropy.wcs import WCS\n",
    "import astropy.time as atime\n",
    "import datetime\n",
    "\n",
    "skypos = (352.9378,-2.7447) # position of AF Psc"
   ]
  },
  {
   "cell_type": "code",
   "execution_count": 2,
   "metadata": {},
   "outputs": [],
   "source": [
    "swift_path = '/Users/katborski/Documents/GitHub/AFPSC/Swift/'\n",
    "swift_path = '/Volumes/MERTOOLS/AFPSC/Swift/'\n",
    "#os.path.isdir(swift_path)"
   ]
  },
  {
   "cell_type": "code",
   "execution_count": 3,
   "metadata": {},
   "outputs": [
    {
     "name": "stdout",
     "output_type": "stream",
     "text": [
      "29\n"
     ]
    }
   ],
   "source": [
    "event_files = []\n",
    "for visit in os.listdir(swift_path):\n",
    "    if visit == '00087201006': # Does not have event data\n",
    "        continue\n",
    "    if visit == '00014769003': # Does not have data\n",
    "        continue\n",
    "for fn in os.listdir(swift_path):\n",
    "    if 'DS_Store' in fn:      #skip over \n",
    "        continue\n",
    "    visit_path = swift_path+visit+'/'\n",
    "    for img in os.listdir(visit_path+'uvot/event/'):\n",
    "        fn=visit_path+'uvot/event/'+img\n",
    "        data = fits.open(fn)\n",
    "        event_files+=[fn]\n",
    "\n",
    "print(len(event_files))"
   ]
  },
  {
   "cell_type": "code",
   "execution_count": 4,
   "metadata": {
    "scrolled": true
   },
   "outputs": [
    {
     "data": {
      "text/plain": [
       "SIMPLE  =                    T / file does conform to FITS standard             \n",
       "BITPIX  =                    8 / number of bits per data pixel                  \n",
       "NAXIS   =                    0 / number of data axes                            \n",
       "EXTEND  =                    T / FITS dataset may contain extensions            \n",
       "COMMENT   FITS (Flexible Image Transport System) format is defined in 'Astronomy\n",
       "COMMENT   and Astrophysics', volume 376, page 359; bibcode: 2001A&A...376..359H \n",
       "TELESCOP= 'SWIFT '             / Telescope (mission) name                       \n",
       "INSTRUME= 'UVOTA '             / Instrument name                                \n",
       "DETNAM  = '1400    '                                                            \n",
       "FILTER  = 'U'                  / Filter                                         \n",
       "OBS_ID  = '00014769020'        / Observation ID                                 \n",
       "TARG_ID =                14769 / Target ID                                      \n",
       "SEG_NUM =                   20 / Segment number                                 \n",
       "TIMESYS = 'TT      '           / time system                                    \n",
       "MJDREFI =                51910 / MJD reference day 01 Jan 2001 00:00:00         \n",
       "MJDREFF =        0.00074287037 / MJD reference (fraction of day) 01 Jan 2001 00:\n",
       "CLOCKAPP=                    F / If clock correction are applied (F/T)          \n",
       "TIMEUNIT= 's       '           / Time unit for timing header keywords           \n",
       "TSTART  =      652446378.54316 / Start time                                     \n",
       "TSTOP   =     652448040.887398 / Stop time                                      \n",
       "DATE-OBS= '2021-09-04T11:06:13'                                                 \n",
       "DATE-END= '2021-09-04T11:33:55'                                                 \n",
       "ORIGIN  = 'GSFC'               / Source of FITS file                            \n",
       "CREATOR = 'UVOT2FITS V3.34'    / Program that created this FITS file            \n",
       "TLM2FITS= 'V3.34'              / Telemetry converter version number             \n",
       "DATE    = '2021-09-14T08:29:47' / file creation date (YYYY-MM-DDThh:mm:ss UT)   \n",
       "WHEELPOS=                 1400 / Actual filter wheel telemetry value            \n",
       "HISTORY                                                                         \n",
       "HISTORY START PARAMETER list for ftcopy_1.00 at 2021-09-14T08:32:57             \n",
       "HISTORY                                                                         \n",
       "HISTORY P1 infile = sw00014769020uuuw1po_uf.evt[EVENTS][col *; QUALITY = gtifilt\n",
       "HISTORY P1 er('sw00014769020sat.gti') ? QUALITY : QUALITY+256]                  \n",
       "HISTORY P2 outfile = events.tmp                                                 \n",
       "HISTORY P3 copyall = yes                                                        \n",
       "HISTORY P4 clobber = NO                                                         \n",
       "HISTORY P5 chatter = 1                                                          \n",
       "HISTORY P6 history = yes                                                        \n",
       "HISTORY P7 mode = hl                                                            \n",
       "HISTORY END PARAMETER list for ftcopy_1.00                                      \n",
       "HISTORY                                                                         \n",
       "PROCVER = '3.18.17 '           / Processing script version                      \n",
       "SOFTVER = 'Hea_27Jul2015_V6.17_Swift_Rel4.5(Bld34)_27Jul2015_SDCpatch_18'       \n",
       "CALDBVER= 'b20171016_u20201215_x20200724_m20210907' / CALDB index versions used \n",
       "SEQPNUM =                    6 / Number of times the dataset processed          \n",
       "OBJECT  = 'AFPsc   '           / Object name                                    \n",
       "RA_OBJ  =     352.945823735624 / [deg] R.A. Object                              \n",
       "DEC_OBJ =     -2.7121000919476 / [deg] Dec Object                               \n",
       "RA_PNT  =     352.945823735624 / [deg] RA pointing                              \n",
       "DEC_PNT =     -2.7121000919476 / [deg] Dec pointing                             \n",
       "PA_PNT  =     64.9587303343426 / [deg] Position angle (roll)                    \n",
       "ATTFLAG = '111     '           / Attitude file: 100=sat, x10=pat, xx1=uat       \n",
       "UTCFINIT=    -27.6681000000000 / [s] UTCF at TSTART                             \n",
       "CHECKSUM= '0EgG3CZD0CdD0CZD'   / HDU checksum updated 2021-09-14T08:35:14       \n",
       "DATASUM = '         0'         / data unit checksum updated 2021-09-14T08:35:14 \n",
       "                                                                                \n",
       "                                                                                \n",
       "                                                                                \n",
       "                                                                                \n",
       "                                                                                \n",
       "                                                                                \n",
       "                                                                                \n",
       "                                                                                \n",
       "                                                                                \n",
       "                                                                                \n",
       "                                                                                \n",
       "                                                                                \n",
       "                                                                                \n",
       "                                                                                \n",
       "                                                                                \n",
       "                                                                                \n",
       "                                                                                \n",
       "                                                                                \n",
       "                                                                                \n",
       "                                                                                \n",
       "                                                                                \n",
       "                                                                                \n",
       "                                                                                \n",
       "                                                                                \n",
       "                                                                                \n",
       "                                                                                \n",
       "                                                                                \n",
       "                                                                                \n",
       "                                                                                \n",
       "                                                                                \n",
       "                                                                                \n",
       "                                                                                \n",
       "                                                                                \n",
       "                                                                                \n",
       "                                                                                \n",
       "                                                                                \n",
       "                                                                                \n",
       "                                                                                \n",
       "                                                                                \n",
       "                                                                                \n",
       "                                                                                \n",
       "                                                                                \n",
       "                                                                                \n",
       "                                                                                \n",
       "                                                                                \n",
       "                                                                                \n",
       "                                                                                \n",
       "                                                                                \n",
       "                                                                                \n",
       "                                                                                \n",
       "                                                                                \n",
       "                                                                                \n",
       "                                                                                \n",
       "                                                                                "
      ]
     },
     "execution_count": 4,
     "metadata": {},
     "output_type": "execute_result"
    }
   ],
   "source": [
    "data[0].header\n"
   ]
  },
  {
   "cell_type": "code",
   "execution_count": null,
   "metadata": {},
   "outputs": [],
   "source": []
  },
  {
   "cell_type": "code",
   "execution_count": 5,
   "metadata": {},
   "outputs": [
    {
     "name": "stdout",
     "output_type": "stream",
     "text": [
      "Filename: /Volumes/MERTOOLS/AFPSC/Swift/00014769020/uvot/event/sw00014769020uuuw1po_uf.evt.gz\n",
      "No.    Name      Ver    Type      Cards   Dimensions   Format\n",
      "  0  PRIMARY       1 PrimaryHDU     108   ()      \n",
      "  1  EVENTS        1 BinTableHDU    324   20189881R x 9C   [1D, 1I, 1I, 1I, 1I, 1I, 1I, 1I, 1I]   \n",
      "  2  STDGTI        1 BinTableHDU     58   2R x 2C   [1D, 1D]   \n",
      "  3  GTI1          1 BinTableHDU     60   2R x 2C   [1D, 1D]   \n",
      "  4  WINDOW        1 BinTableHDU    144   1R x 18C   [1D, 1J, 1I, 1I, 1J, 1J, 1J, 1J, 1D, 1D, 1D, 1D, 1D, 1D, 1D, 1D, 1D, 1D]   \n"
     ]
    }
   ],
   "source": [
    "data.info()"
   ]
  },
  {
   "cell_type": "code",
   "execution_count": 6,
   "metadata": {},
   "outputs": [
    {
     "name": "stdout",
     "output_type": "stream",
     "text": [
      "652446378.54316\n",
      "652448040.887398\n"
     ]
    }
   ],
   "source": [
    "print(data[0].header['TSTART'])\n",
    "print(data[0].header['TSTOP'])"
   ]
  },
  {
   "cell_type": "code",
   "execution_count": 28,
   "metadata": {},
   "outputs": [
    {
     "name": "stdout",
     "output_type": "stream",
     "text": [
      "59461.46239438727 including reference date\n",
      "20.688938066814444 years since reference date\n",
      "59461.46239438727\n"
     ]
    }
   ],
   "source": [
    "UTC_start = data[0].header['MJDREFI']  + (data[0].header['TSTART'] + data[0].header['UTCFINIT'])/86400.0 #(in days)\n",
    "print(UTC_start, \"including reference date\") #Start time in Days including \n",
    "days_sinceStart = UTC_start-51910\n",
    "year_start = (UTC_start - data[0].header['MJDREFI'])/365\n",
    "print(year_start, \"years since reference date\")\n",
    "#Initial Reference Date Jan 1, 2001 (51910)\n",
    "print(UTC_start)"
   ]
  },
  {
   "cell_type": "code",
   "execution_count": 8,
   "metadata": {},
   "outputs": [
    {
     "name": "stdout",
     "output_type": "stream",
     "text": [
      "59461.48163448262 including reference date\n",
      "20.68899077940443 years since reference date\n"
     ]
    }
   ],
   "source": [
    "UTC_stop = data[0].header['MJDREFI']  + (data[0].header['TSTOP'] + data[0].header['UTCFINIT'])/86400.0 #(in days)\n",
    "print(UTC_stop, \"including reference date\")\n",
    "days_sinceEnd = UTC_stop-51910\n",
    "#same date as above\n",
    "year_stop = (UTC_stop - data[0].header['MJDREFI'])/365\n",
    "print(year_stop, \"years since reference date\")\n"
   ]
  },
  {
   "cell_type": "code",
   "execution_count": 9,
   "metadata": {},
   "outputs": [
    {
     "name": "stdout",
     "output_type": "stream",
     "text": [
      "2021-09-04 11:05:50.875060\n"
     ]
    }
   ],
   "source": [
    "timestamp_start = datetime.datetime(2001,1,1) + datetime.timedelta(days_sinceStart)\n",
    "print(timestamp_start)"
   ]
  },
  {
   "cell_type": "code",
   "execution_count": 10,
   "metadata": {},
   "outputs": [
    {
     "name": "stdout",
     "output_type": "stream",
     "text": [
      "2021-09-04 11:33:33.219298\n"
     ]
    }
   ],
   "source": [
    "timestamp_end = datetime.datetime(2001,1,1) + datetime.timedelta(days_sinceEnd)\n",
    "print(timestamp_end)"
   ]
  },
  {
   "cell_type": "markdown",
   "metadata": {},
   "source": [
    "# new stuff"
   ]
  },
  {
   "cell_type": "code",
   "execution_count": 20,
   "metadata": {},
   "outputs": [],
   "source": [
    "epoch = atime.Time('2001-01-01 00:00:00')"
   ]
  },
  {
   "cell_type": "code",
   "execution_count": 27,
   "metadata": {},
   "outputs": [
    {
     "name": "stdout",
     "output_type": "stream",
     "text": [
      "2021-09-04 11:06:13.543\n"
     ]
    }
   ],
   "source": [
    "dt_start = atime.TimeDelta(data[0].header['TSTART'],format='sec')\n",
    "print((epoch+dt_start).iso)"
   ]
  },
  {
   "cell_type": "code",
   "execution_count": 34,
   "metadata": {},
   "outputs": [
    {
     "name": "stdout",
     "output_type": "stream",
     "text": [
      "59461.462336516895\n"
     ]
    }
   ],
   "source": [
    "dt_start = atime.TimeDelta(data[0].header['TSTART'] + data[0].header['UTCFINIT'],format='sec')\n",
    "print((epoch+dt_start).mjd)"
   ]
  },
  {
   "cell_type": "code",
   "execution_count": 48,
   "metadata": {
    "scrolled": true
   },
   "outputs": [],
   "source": [
    "def swift_time_to_utc(time,epoch = atime.Time('2001-01-01 00:00:00')):\n",
    "    dt_start = atime.TimeDelta(time,format='sec')\n",
    "    return (epoch+dt_start).mjd"
   ]
  },
  {
   "cell_type": "code",
   "execution_count": 50,
   "metadata": {},
   "outputs": [],
   "source": [
    "t = swift_time_to_utc(data[1].data['TIME'])"
   ]
  },
  {
   "cell_type": "code",
   "execution_count": null,
   "metadata": {},
   "outputs": [],
   "source": []
  }
 ],
 "metadata": {
  "kernelspec": {
   "display_name": "Python 3",
   "language": "python",
   "name": "python3"
  },
  "language_info": {
   "codemirror_mode": {
    "name": "ipython",
    "version": 3
   },
   "file_extension": ".py",
   "mimetype": "text/x-python",
   "name": "python",
   "nbconvert_exporter": "python",
   "pygments_lexer": "ipython3",
   "version": "3.9.12"
  }
 },
 "nbformat": 4,
 "nbformat_minor": 5
}
