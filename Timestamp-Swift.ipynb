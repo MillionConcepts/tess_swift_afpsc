{
 "cells": [
  {
   "cell_type": "code",
   "execution_count": null,
   "metadata": {},
   "outputs": [],
   "source": []
  },
  {
   "cell_type": "code",
   "execution_count": 1,
   "metadata": {},
   "outputs": [],
   "source": [
    "from pathlib import Path\n",
    "from astropy.io import fits \n",
    "import os\n",
    "import astropy\n",
    "from fast_histogram import histogram, histogram2d\n",
    "from matplotlib import animation\n",
    "from IPython.display import HTML # requires ffmpeg\n",
    "from astropy.wcs import WCS\n",
    "from astropy.time import Time\n",
    "\n",
    "skypos = (352.9378,-2.7447) # position of AF Psc"
   ]
  },
  {
   "cell_type": "code",
   "execution_count": 2,
   "metadata": {},
   "outputs": [],
   "source": [
    "swift_path = '/Users/katborski/Documents/GitHub/AFPSC/Swift/'\n",
    "#os.path.isdir(swift_path) verify path"
   ]
  },
  {
   "cell_type": "code",
   "execution_count": 9,
   "metadata": {},
   "outputs": [
    {
     "ename": "NotADirectoryError",
     "evalue": "[Errno 20] Not a directory: '/Users/katborski/Documents/GitHub/AFPSC/Swift/.DS_Store/uvot/event/'",
     "output_type": "error",
     "traceback": [
      "\u001b[0;31m---------------------------------------------------------------------------\u001b[0m",
      "\u001b[0;31mNotADirectoryError\u001b[0m                        Traceback (most recent call last)",
      "Input \u001b[0;32mIn [9]\u001b[0m, in \u001b[0;36m<cell line: 2>\u001b[0;34m()\u001b[0m\n\u001b[1;32m      6\u001b[0m     \u001b[38;5;28;01mcontinue\u001b[39;00m\n\u001b[1;32m      7\u001b[0m visit_path \u001b[38;5;241m=\u001b[39m swift_path\u001b[38;5;241m+\u001b[39mvisit\u001b[38;5;241m+\u001b[39m\u001b[38;5;124m'\u001b[39m\u001b[38;5;124m/\u001b[39m\u001b[38;5;124m'\u001b[39m\n\u001b[0;32m----> 8\u001b[0m \u001b[38;5;28;01mfor\u001b[39;00m img \u001b[38;5;129;01min\u001b[39;00m \u001b[43mos\u001b[49m\u001b[38;5;241;43m.\u001b[39;49m\u001b[43mlistdir\u001b[49m\u001b[43m(\u001b[49m\u001b[43mvisit_path\u001b[49m\u001b[38;5;241;43m+\u001b[39;49m\u001b[38;5;124;43m'\u001b[39;49m\u001b[38;5;124;43muvot/event/\u001b[39;49m\u001b[38;5;124;43m'\u001b[39;49m\u001b[43m)\u001b[49m:\n\u001b[1;32m      9\u001b[0m     fn\u001b[38;5;241m=\u001b[39mvisit_path\u001b[38;5;241m+\u001b[39m\u001b[38;5;124m'\u001b[39m\u001b[38;5;124muvot/event/\u001b[39m\u001b[38;5;124m'\u001b[39m\u001b[38;5;241m+\u001b[39mimg\n\u001b[1;32m     10\u001b[0m     data \u001b[38;5;241m=\u001b[39m fits\u001b[38;5;241m.\u001b[39mopen(fn)\n",
      "\u001b[0;31mNotADirectoryError\u001b[0m: [Errno 20] Not a directory: '/Users/katborski/Documents/GitHub/AFPSC/Swift/.DS_Store/uvot/event/'"
     ]
    }
   ],
   "source": [
    "event_files = []\n",
    "for visit in os.listdir(swift_path):\n",
    "    if visit == '00087201006': # Does not have event data\n",
    "        continue\n",
    "    if visit == '00014769003': # Does not have data\n",
    "        continue\n",
    "    visit_path = swift_path+visit+'/'\n",
    "    for img in os.listdir(visit_path+'uvot/event/'):\n",
    "        fn=visit_path+'uvot/event/'+img\n",
    "        data = fits.open(fn)\n",
    "        event_files+=[fn]\n",
    "\n",
    "print(len(event_files))"
   ]
  },
  {
   "cell_type": "code",
   "execution_count": null,
   "metadata": {},
   "outputs": [],
   "source": []
  },
  {
   "cell_type": "code",
   "execution_count": null,
   "metadata": {},
   "outputs": [],
   "source": []
  },
  {
   "cell_type": "code",
   "execution_count": null,
   "metadata": {},
   "outputs": [],
   "source": []
  }
 ],
 "metadata": {
  "kernelspec": {
   "display_name": "Python 3 (ipykernel)",
   "language": "python",
   "name": "python3"
  },
  "language_info": {
   "codemirror_mode": {
    "name": "ipython",
    "version": 3
   },
   "file_extension": ".py",
   "mimetype": "text/x-python",
   "name": "python",
   "nbconvert_exporter": "python",
   "pygments_lexer": "ipython3",
   "version": "3.9.12"
  }
 },
 "nbformat": 4,
 "nbformat_minor": 5
}
