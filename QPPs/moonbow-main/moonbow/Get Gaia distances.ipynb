{
 "cells": [
  {
   "cell_type": "code",
   "execution_count": 12,
   "id": "5bc53346",
   "metadata": {},
   "outputs": [],
   "source": [
    "import matplotlib.pyplot as plt\n",
    "import astropy.units as u\n",
    "from astroquery.gaia import Gaia\n",
    "from astroquery.simbad import Simbad\n",
    "import astropy.coordinates as coord\n",
    "import numpy as np"
   ]
  },
  {
   "cell_type": "code",
   "execution_count": 6,
   "id": "13e988d1",
   "metadata": {},
   "outputs": [],
   "source": [
    "import warnings\n",
    "warnings.filterwarnings('ignore') # setting ignore as a parameter"
   ]
  },
  {
   "cell_type": "code",
   "execution_count": 7,
   "id": "4d286110",
   "metadata": {},
   "outputs": [],
   "source": [
    "Gaia.MAIN_GAIA_TABLE = \"gaiaedr3.gaia_source\""
   ]
  },
  {
   "cell_type": "code",
   "execution_count": 8,
   "id": "9c01b030",
   "metadata": {},
   "outputs": [],
   "source": [
    "def angularSeparation(ra1, dec1, ra2, dec2):\n",
    "    d2r = np.pi/180.\n",
    "    ra2deg = 1./d2r\n",
    "    d1 = dec1*d2r,\n",
    "    d2 = dec2*d2r\n",
    "    r1 = ra1*d2r\n",
    "    r2 = ra2*d2r\n",
    "    a = np.sin((d2-d1)/2.)**2.+np.cos(d1)*np.cos(d2)*np.sin((r2-r1)/2.)**2.\n",
    "    r = 2*np.arcsin(np.sqrt(a))\n",
    "    return r*ra2deg"
   ]
  },
  {
   "cell_type": "code",
   "execution_count": 77,
   "id": "e24fcacf",
   "metadata": {},
   "outputs": [],
   "source": [
    "ra,dec=283.13907937703993, 49.1195445113176"
   ]
  },
  {
   "cell_type": "code",
   "execution_count": 36,
   "id": "0f9fec81",
   "metadata": {},
   "outputs": [
    {
     "name": "stdout",
     "output_type": "stream",
     "text": [
      "INFO: Query finished. [astroquery.utils.tap.core]\n"
     ]
    }
   ],
   "source": [
    "# define the search box\n",
    "width = u.Quantity(0.05, u.deg)\n",
    "height = u.Quantity(0.05, u.deg)\n",
    "\n",
    "query_success=0\n",
    "while query_success==0:\n",
    "    #print(ra,dec)\n",
    "    try:\n",
    "        r = Gaia.query_object_async(coordinate=coord.SkyCoord(ra=ra, dec=dec, unit=(u.degree, u.degree),\n",
    "                                                      frame='icrs'), width=width, height=height)\n",
    "        query_success=1\n",
    "    except TimeoutError:\n",
    "        pass"
   ]
  },
  {
   "cell_type": "code",
   "execution_count": 39,
   "id": "d226b357",
   "metadata": {},
   "outputs": [
    {
     "data": {
      "text/plain": [
       "[<matplotlib.lines.Line2D at 0x19743dd80>]"
      ]
     },
     "execution_count": 39,
     "metadata": {},
     "output_type": "execute_result"
    },
    {
     "data": {
      "image/png": "[encoded data removed]",
      "text/plain": [
       "<Figure size 300x300 with 1 Axes>"
      ]
     },
     "metadata": {},
     "output_type": "display_data"
    }
   ],
   "source": [
    "plt.figure(figsize=(3,3))\n",
    "plt.xticks([]);plt.yticks([]);\n",
    "ra_gaia,dec_gaia = np.array(r['ra']),np.array(r['dec'])\n",
    "plt.plot(ra_gaia,dec_gaia,'kx')"
   ]
  },
  {
   "cell_type": "code",
   "execution_count": 55,
   "id": "eeab8eb0",
   "metadata": {},
   "outputs": [],
   "source": [
    "ix_finite = np.where(np.isfinite(ra_gaia) & np.isfinite(dec_gaia))\n",
    "d = angularSeparation(ra,dec,ra_gaia[ix_finite],dec_gaia[ix_finite])\n",
    "try:\n",
    "    ix_match = np.argmin(d)\n",
    "except ValueError:\n",
    "    print(f\"No matching Gaia source for {i}\")\n",
    "    raise"
   ]
  },
  {
   "cell_type": "code",
   "execution_count": 60,
   "id": "f55add86",
   "metadata": {},
   "outputs": [],
   "source": [
    "ix_match = np.argmin(r[np.where(d*60*60 < 3)]['parallax_over_error'])"
   ]
  },
  {
   "cell_type": "code",
   "execution_count": 61,
   "id": "cab61600",
   "metadata": {},
   "outputs": [
    {
     "name": "stdout",
     "output_type": "stream",
     "text": [
      "2.085979420602551 as\n"
     ]
    }
   ],
   "source": [
    "ix = ix_finite[0][ix_match]\n",
    "gaia_match_offset=angularSeparation(ra,dec,r[ix]['ra'],r[ix]['dec'])*60*60\n",
    "print(f\"{gaia_match_offset[0]} as\")"
   ]
  },
  {
   "cell_type": "code",
   "execution_count": 62,
   "id": "6ac09d44",
   "metadata": {},
   "outputs": [
    {
     "name": "stdout",
     "output_type": "stream",
     "text": [
      "2134924171493605504 @ 593.1873791674067 parsecs\n"
     ]
    }
   ],
   "source": [
    "gaia_dr3_source_id=r[ix]['source_id']\n",
    "par,par_err = r[ix]['parallax'],r[ix]['parallax_error']\n",
    "gaia_distance=1000/par\n",
    "print(gaia_dr3_source_id,'@',f'{gaia_distance} parsecs')"
   ]
  },
  {
   "cell_type": "code",
   "execution_count": 68,
   "id": "bcb9931e",
   "metadata": {},
   "outputs": [
    {
     "data": {
      "text/plain": [
       "4.280282"
      ]
     },
     "execution_count": 68,
     "metadata": {},
     "output_type": "execute_result"
    }
   ],
   "source": [
    "gaia_parallax_over_err = r[ix]['parallax_over_error']\n",
    "gaia_parallax_over_err"
   ]
  },
  {
   "cell_type": "code",
   "execution_count": null,
   "id": "f21f20fb",
   "metadata": {},
   "outputs": [],
   "source": [
    "######\n",
    "# LEGAL VOTable fields defined in:\n",
    "# https://github.com/astropy/astroquery/blob/main/astroquery/simbad/data/votable_fields_dict.json"
   ]
  },
  {
   "cell_type": "code",
   "execution_count": 78,
   "id": "6af25a06",
   "metadata": {},
   "outputs": [],
   "source": [
    "Simbad.add_votable_fields(\"otype\",\"parallax\",\"sp\")\n",
    "r = Simbad.query_region(coord.SkyCoord(ra,dec,\n",
    "                        unit=(u.deg, u.deg)),#, frame='icrs'),\n",
    "                        radius=35/60/60*u.deg)"
   ]
  },
  {
   "cell_type": "code",
   "execution_count": 81,
   "id": "90533b0c",
   "metadata": {},
   "outputs": [
    {
     "data": {
      "text/html": [
       "&lt;MaskedColumn name=&apos;SP_TYPE&apos; dtype=&apos;object&apos; description=&apos;MK spectral type&apos; length=1&gt;\n",
       "<table>\n",
       "<tr><td>K0</td></tr>\n",
       "</table>"
      ],
      "text/plain": [
       "<MaskedColumn name='SP_TYPE' dtype='object' description='MK spectral type' length=1>\n",
       "K0"
      ]
     },
     "execution_count": 81,
     "metadata": {},
     "output_type": "execute_result"
    }
   ],
   "source": [
    "r['SP_TYPE']"
   ]
  },
  {
   "cell_type": "code",
   "execution_count": null,
   "id": "d9e32652",
   "metadata": {},
   "outputs": [],
   "source": []
  }
 ],
 "metadata": {
  "kernelspec": {
   "display_name": "Python 3 (ipykernel)",
   "language": "python",
   "name": "python3"
  },
  "language_info": {
   "codemirror_mode": {
    "name": "ipython",
    "version": 3
   },
   "file_extension": ".py",
   "mimetype": "text/x-python",
   "name": "python",
   "nbconvert_exporter": "python",
   "pygments_lexer": "ipython3",
   "version": "3.10.8"
  }
 },
 "nbformat": 4,
 "nbformat_minor": 5
}
