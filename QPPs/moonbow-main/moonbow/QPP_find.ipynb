{
 "cells": [
  {
   "cell_type": "code",
   "execution_count": 1,
   "id": "781880d6",
   "metadata": {},
   "outputs": [],
   "source": [
    "import astropy\n",
    "from astropy.io import fits \n",
    "from astropy.time import Time\n",
    "from astropy.visualization import time_support\n",
    "from astropy.timeseries import LombScargle\n",
    "from astropy.convolution import Box1DKernel\n",
    "from astropy.convolution import convolve\n",
    "import matplotlib.pyplot as plt\n",
    "import numpy as np\n",
    "import numpy.ma as ma\n",
    "import pandas as pd\n",
    "import scipy.signal as sig\n",
    "from astropy.stats import sigma_clip\n",
    "import warnings"
   ]
  },
  {
   "cell_type": "code",
   "execution_count": null,
   "id": "55bf2621",
   "metadata": {},
   "outputs": [],
   "source": []
  },
  {
   "cell_type": "code",
   "execution_count": 2,
   "id": "0ed32bc4",
   "metadata": {},
   "outputs": [],
   "source": [
    "from functools import partial\n",
    "\n",
    "import matplotlib as mpl\n",
    "from scipy import signal, stats\n",
    "from scipy.ndimage import center_of_mass\n",
    "\n",
    "# install moonbow first. in repo root:\n",
    "# pip install -e . --no-deps\n",
    "from moonbow.fit import Fit\n",
    "\n",
    "rng = np.random.default_rng()"
   ]
  },
  {
   "cell_type": "code",
   "execution_count": 3,
   "id": "62166d67",
   "metadata": {},
   "outputs": [],
   "source": [
    "def dataClean(filename,distance_pc,eff_width): \n",
    "    \n",
    "    \"\"\" This function removes nan values and corrects time values for TESS 20 second cadence data. \n",
    "        Also corrects TESS flux to energy in ergs.\"\"\"\n",
    "    \n",
    "    #Create an array of time and flux data with nans removed    \n",
    "    with fits.open(filename, mode=\"readonly\") as hdulist:\n",
    "        raw_time = hdulist[1].data['TIME']\n",
    "        raw_flux = hdulist[1].data['PDCSAP_FLUX']\n",
    "        raw_err = hdulist[1].data['PDCSAP_FLUX_ERR']\n",
    "    data = np.vstack((raw_time, raw_flux, raw_err))\n",
    "    nonan_data = data[:, ~np.isnan(data).any(axis=0)]\n",
    "\n",
    "    times = nonan_data[0]\n",
    "    flux = nonan_data[1]\n",
    "    error = nonan_data[2]\n",
    "    \n",
    "    #Create Dataframe of cleaned data\n",
    "    time = np.array(times)\n",
    "    flux = np.array(flux)\n",
    "    err = np.array(error)\n",
    "   \n",
    "\n",
    "    #Convert energy to ergs\n",
    "    dist_cm = distance_pc * 3.086e+18\n",
    "    ergs = []\n",
    "    ergs_err = []\n",
    "    \n",
    "    for i in flux: \n",
    "        fluence = i * eff_width\n",
    "        energy = (4 * np.pi * (dist_cm**2) * fluence)\n",
    "        ergs.append(energy*1.95829e-9) #AB system zero point\n",
    "        \n",
    "    for i in err:\n",
    "        fluence_err = i*eff_width\n",
    "        energy_err = (4 * np.pi * (dist_cm**2) * fluence_err)\n",
    "        ergs_err.append(energy_err*1.95829e-9) #AB system zero point\n",
    "        \n",
    "    energy = np.asarray(ergs)\n",
    "    error = np.asarray(ergs_err)\n",
    "\n",
    "    \n",
    "    #Return cleaned data\n",
    "    return pd.DataFrame({\n",
    "                        'Time': time,\n",
    "                        'Energy': energy,\n",
    "                        'Energy Error': error,\n",
    "                        'Flux': flux,\n",
    "                        'Flux Error': err\n",
    "    })"
   ]
  },
  {
   "cell_type": "code",
   "execution_count": 4,
   "id": "ae2a8751",
   "metadata": {},
   "outputs": [],
   "source": [
    "#Using only until large flare function is completed, need more stars to get a better idea for a good\n",
    "#model for stellar quiescence generation\n",
    "\n",
    "def generate_Qcurve(clean_dataframe):\n",
    "    \"\"\" This function takes cleaned data to create a dataframe of the estimated quiescent light curve\"\"\"\n",
    "\n",
    "    q_time = clean_dataframe['Time'] # time associated w/ quiescent flux\n",
    "    \n",
    "    #Set and index variables\n",
    "    fluxes = clean_dataframe['Energy']\n",
    "    times = clean_dataframe['Time']\n",
    "    F_err = clean_dataframe['Energy Error'] \n",
    "\n",
    "    #Smooth\n",
    "    smooth_1 = sig.savgol_filter(fluxes,1400,3)\n",
    "    q_flux = sig.savgol_filter(smooth_1,2000,3)\n",
    "    \n",
    "    #Create/return dataframe\n",
    "    \n",
    "    return pd.DataFrame({\n",
    "                'Time': q_time,\n",
    "                'Quiescent Energy':q_flux\n",
    "    })\n"
   ]
  },
  {
   "cell_type": "code",
   "execution_count": 5,
   "id": "04cf053b",
   "metadata": {},
   "outputs": [],
   "source": [
    "def find_ix_ranges(ix, buffer=False):\n",
    "    \"\"\" Finds indexes in the range.\n",
    "    \n",
    "        From MC GALEX function defs\"\"\"\n",
    "    \n",
    "    foo, bar = [], []\n",
    "    for n, i in enumerate(ix):\n",
    "        if len(bar) == 0 or bar[-1] == i-1:\n",
    "            bar += [i]\n",
    "        else:\n",
    "            if buffer:\n",
    "                bar.append(min(bar)-1)\n",
    "                bar.append(max(bar)+1)\n",
    "            foo += [np.sort(bar).tolist()]\n",
    "            bar = [i]\n",
    "        if n == len(ix)-1:\n",
    "            if buffer:\n",
    "                bar.append(min(bar)-1)\n",
    "                bar.append(max(bar)+1)\n",
    "            foo += [np.sort(bar).tolist()]\n",
    "    return foo"
   ]
  },
  {
   "cell_type": "code",
   "execution_count": 6,
   "id": "7dfd10c4",
   "metadata": {},
   "outputs": [],
   "source": [
    "def get_inff(curve,distance_pc, clipsigma=3, quiet=True, band='NUV',\n",
    "             binsize=20.):\n",
    "    \"\"\" Calculates the Instantaneous Non-Flare Flux values.\n",
    "    \n",
    "        From MC GALEX function defs\"\"\"\n",
    "    \n",
    "    sclip = sigma_clip(np.array(curve['Energy']), sigma_lower=clipsigma, sigma_upper=clipsigma)\n",
    "    inff = np.median(sclip)\n",
    "    inff_err = np.sqrt(inff*len(sclip)*binsize)/(len(sclip)*binsize)\n",
    "    if inff and not quiet:\n",
    "        print('Quiescent at {m} AB mag.'.format(m=gt.counts2mag(inff, band)))\n",
    "    inff_ = ((inff*(3.898e-5))*(4*np.pi*((distance_pc*3.086e+18)**2)))*1.95829e-9\n",
    "    inff_er = ((inff_err*(3.898e-5))*(4*np.pi*((distance_pc*3.086e+18)**2)))*1.95829e-9\n",
    "    return inff, inff_er"
   ]
  },
  {
   "cell_type": "code",
   "execution_count": 7,
   "id": "050fad91",
   "metadata": {},
   "outputs": [],
   "source": [
    "def find_flare_ranges(curve,q_curve,sig,dist,quiescence=None):\n",
    "    \"\"\"This function will run through the data to find \n",
    "    flares and ranges of flares. This function will return\n",
    "    a table of flares ranges. \n",
    "    \n",
    "    Adapted from MC GALEX function defs.\n",
    "    Stage: complete\"\"\"\n",
    "    \n",
    "    tranges = [[min(curve['Time']), max(curve['Time'])]] \n",
    "    if not quiescence:\n",
    "        q, q_err = get_inff(curve,dist)\n",
    "    else:\n",
    "        q, q_err = quiescence\n",
    "    flare_ranges = []\n",
    "    for trange in tranges:\n",
    "        ix = np.where(((np.array(curve['Energy'].values)-(sig*np.array(curve['Energy Error'].values)) >= q_curve['Quiescent Energy'])))[0]\n",
    "        flareFlux = ix\n",
    "        if not len(ix):\n",
    "            continue\n",
    "        flux_ix = []\n",
    "        \n",
    "        for ix_range in find_ix_ranges(ix):\n",
    "            # go backwards\n",
    "            consec = 0 \n",
    "            err = curve.iloc[ix_range[0]]['Energy Error'] \n",
    "            \n",
    "            #while flux - err > quiescence, find 2 consecutive points within quiescent curve\n",
    "            while (curve.iloc[ix_range[0]]['Energy']-err >= q_curve.iloc[ix_range[0]]['Quiescent Energy']) and ix_range[0] > 0 or (consec < 1 and ix_range[0] >0):\n",
    "                err = curve.iloc[ix_range[0]]['Energy Error']\n",
    "\n",
    "                if curve.iloc[ix_range[0]]['Energy']- err < q_curve.iloc[ix_range[0]]['Quiescent Energy']:\n",
    "                    consec +=1\n",
    "                else: \n",
    "                    consec = 0\n",
    "                if (curve.iloc[ix_range[0]+1]['Time']-curve.iloc[ix_range[0]]['Time']) > 1000: \n",
    "                    break               \n",
    "                ix_range = [ix_range[0] - 1] + ix_range\n",
    "                \n",
    "                # go forwards\n",
    "            consec = 0 \n",
    "            err = curve.iloc[ix_range[-1]]['Energy Error']\n",
    "            while (curve.iloc[ix_range[-1]]['Energy']-err >= q_curve.iloc[ix_range[-1]]['Quiescent Energy']) and ix_range[-1] != len(curve)-1 or (consec <1 and ix_range[:-1]!= len(curve)-1):\n",
    "                err = curve.iloc[ix_range[-1]]['Energy Error']\n",
    "                if curve.iloc[ix_range[-1]]['Energy']-err < q_curve.iloc[ix_range[-1]]['Quiescent Energy']:\n",
    "                    consec += 1\n",
    "                else: \n",
    "                    consec = 0\n",
    "                if curve.iloc[ix_range[0]]['Time']-curve.iloc[ix_range[-1]]['Time'] > 1000: \n",
    "                    break\n",
    "                ix_range = ix_range + [ix_range[-1] + 1]\n",
    "                \n",
    "            flux_ix += ix_range\n",
    "        ix = np.unique(flux_ix)\n",
    "        flare_ranges += find_ix_ranges(list(np.array(ix).flatten()))\n",
    "    return(flare_ranges,flareFlux)\n"
   ]
  },
  {
   "cell_type": "code",
   "execution_count": 8,
   "id": "0ee76f33",
   "metadata": {},
   "outputs": [],
   "source": [
    "def refine_flare_ranges(curve,q_curve, sig=3., flare_ranges=None):\n",
    "    \"\"\" Identify the start and stop indexes of a flare event after\n",
    "    refining the INFF by masking out the initial flare detection indexes. \n",
    "    From MC GALEX function defs.\"\"\"\n",
    "    time_support()\n",
    "    if not flare_ranges:\n",
    "        flare_ranges, _ = find_flare_ranges(curve, q_curve, sig)\n",
    "    flare_ix = list(itertools.chain.from_iterable(flare_ranges))\n",
    "    quiescience_mask = [False if i in flare_ix else True for i in\n",
    "                        np.arange(len(curve['Time']))]\n",
    "    quiescence = q_curve\n",
    "    quiescence_err = (np.sqrt(curve['Energy'][quiescience_mask].sum())/curve['Energy'].sum())\n",
    "    flare_ranges, flare_3sigs = find_flare_ranges(curve,q_curve,\n",
    "                                                  quiescence=(quiescence,\n",
    "                                                              quiescence_err),\n",
    "                                                  sig=sig)\n",
    "    flare_ix = list(itertools.chain.from_iterable(flare_ranges))\n",
    "    not_flare_ix = list(set([x for x in range(len(curve['Time']))]) - set(flare_ix))\n",
    "      \n",
    "    return flare_ranges, flare_ix"
   ]
  },
  {
   "cell_type": "code",
   "execution_count": null,
   "id": "a9dd668a",
   "metadata": {},
   "outputs": [],
   "source": [
    "def qpp_find(flaring_frame,ranges_ix,energy_ix):\n",
    "    \n",
    "    ranges = []\n",
    "    for i,v in enumerate(ranges_ix):\n",
    "        t = flaring_frame['Time'][v]\n",
    "        f = flaring_frame['Flux'][v]\n",
    "        ranges.append([i,t,f])\n",
    "\n",
    "        #Select Large Flares\n",
    "\n",
    "    large_flares = []\n",
    "    for i,v in enumerate(ranges_ix):\n",
    "        if len(v)>=45:                    #~15 minute minimum                    \n",
    "            large_flares.append((v))\n",
    "        else:\n",
    "            continue\n",
    "\n",
    "#Match Data to Large Flares\n",
    "\n",
    "    large_flare_data = []\n",
    "    for i,v in enumerate(large_flares):\n",
    "        data = flaring_frame['Energy'][large_flares[i]]\n",
    "        large_flare_data.append(data)\n",
    "    \n",
    "    norm_flares=[] #normalize flare values\n",
    "    for i in range(len(large_flare_data)):\n",
    "        mx = max(large_flare_data[i])\n",
    "        norm_flares.append(large_flare_data[i]/mx)\n",
    "    \n",
    "    times=[]\n",
    "    for i in range(len(large_flares)):\n",
    "        t = flaring_frame['Time'][large_flare_data[i].index]\n",
    "        times.append(t)\n",
    "        \n",
    "    lg_flare_data=[]\n",
    "    lg_flare_time=[]\n",
    "    lg_flare_det=[]\n",
    "    lg_flare_params = []\n",
    "    flare_fits = []\n",
    "\n",
    "    for i in range(len(large_flares)):\n",
    "        model = aflare2\n",
    "        x = flaring_frame['Time'][large_flares[i]]\n",
    "        y = norm_flares[i]\n",
    "        data = pd.DataFrame({'time': x, 'energy': y})\n",
    "    \n",
    "        rise = x[0:np.argmax(y)].values\n",
    "        fwhm = (max(rise)-min(rise))*2\n",
    "    \n",
    "        fitter = Fit(\n",
    "        underlying_function=model,\n",
    "        dimensionality=1,\n",
    "        data=data,\n",
    "        dependent_variable='energy')\n",
    "    \n",
    "        fitter.make_vector(independent_variables=['time'])\n",
    "        fitter.fit(guess=np.array((max(rise),fwhm,1,\n",
    "                              1.00000, 1.94053, -0.175084, -2.3769, -1.12498,\n",
    "                              0.689008, -1.600536, 0.302963, -0.278318))) \n",
    "        if fitter.det > 0.70:\n",
    "            lg_flare_time.append(x)\n",
    "            lg_flare_data.append(y)\n",
    "            lg_flare_det.append(fitter.det)\n",
    "            fit_params, covariance_matrix = fitter.curve_fit\n",
    "            lg_flare_params.append((fit_params))\n",
    "            fit = fitter.fitted_curve \n",
    "            flare_fits.append((fit))\n",
    "    return lg_flare_data, lg_flare_time, lg_flare_det, lg_flare_params, flare_fits"
   ]
  },
  {
   "cell_type": "code",
   "execution_count": 61,
   "id": "f3a23f82",
   "metadata": {},
   "outputs": [],
   "source": [
    "def fit_residuals(lg_flare_data,flare_fits):\n",
    "    residuals = []\n",
    "    for i in range(len(lg_flare_data)):\n",
    "        res_i = lg_flare_data[i]-flare_fits[i]\n",
    "        residuals.append((res_i))\n",
    "\n",
    "    kernel = Box1DKernel(8)\n",
    "    res_fits = []\n",
    "    for i in range(len(residuals)):\n",
    "        res_fit = sig.savgol_filter(residuals[i],21,3)\n",
    "        fit2 = convolve(res_fit,kernel,boundary='extend')\n",
    "        res_fits.append(fit2)\n",
    "    \n",
    "    return(residuals, res_fits)\n",
    "\n",
    "\n",
    "#to view/plot residual fits: \n",
    "    \n",
    "#fig,ax = plt.subplots((len(lg_flare_data)))\n",
    "#for i in range(len(res_fits)):\n",
    "#    ax.flat[i].plot(range(len(residuals[i])),residuals[i],c='grey')\n",
    "#    ax.flat[i].plot(range(len(res_fits[i])),res_fits[i],c='black')"
   ]
  },
  {
   "cell_type": "code",
   "execution_count": 62,
   "id": "f467b3d7",
   "metadata": {},
   "outputs": [],
   "source": [
    "def aflare2(t, tpeak, fwhm, ampl,\n",
    "            c0,c1,c2,c3,c4,\n",
    "            d0,d1,d2,d3):\n",
    "#    t : 1-d array\n",
    "#        The time array to evaluate the flare over\n",
    "#    tpeak : float\n",
    "#        The time of the flare peak\n",
    "#    fwhm : float\n",
    "#        The \"Full Width at Half Maximum\", timescale of the flare\n",
    "#   ampl : float\n",
    "#        The amplitude of the flare\n",
    "#    Returns\n",
    "#    flare : 1-d array\n",
    "#        The flux of the flare model evaluated at each time\n",
    "    #_fr = [1.00000, 1.94053, -0.175084, -2.24588, -1.12498]\n",
    "    _fr = [c0,c1,c2,c3,c4]\n",
    "    #_fd = [0.689008, -1.60053, 0.302963, -0.278318]\n",
    "    _fd = [d0,d1,d2,d3]\n",
    "    \n",
    "    t = np.array(t)\n",
    "    flare = np.piecewise(t, [(t<= tpeak) * (t-tpeak)/fwhm > -1.,\n",
    "                                (t > tpeak)],\n",
    "                            [lambda x: (_fr[0]+                       # 0th order\n",
    "                                        _fr[1]*((x-tpeak)/fwhm)+      # 1st order\n",
    "                                        _fr[2]*((x-tpeak)/fwhm)**2.+  # 2nd order\n",
    "                                        _fr[3]*((x-tpeak)/fwhm)**3.+  # 3rd order\n",
    "                                        _fr[4]*((x-tpeak)/fwhm)**4. ),# 4th order\n",
    "                             lambda x: (_fd[0]*np.exp( ((x-tpeak)/fwhm)*_fd[1] ) +\n",
    "                                        _fd[2]*np.exp( ((x-tpeak)/fwhm)*_fd[3] ))]\n",
    "                            ) * np.abs(ampl) # amplitude\n",
    "\n",
    "    return flare"
   ]
  },
  {
   "cell_type": "code",
   "execution_count": 63,
   "id": "ee7fb8b2",
   "metadata": {},
   "outputs": [],
   "source": [
    "rawdata = '/Users/katborski/Documents/GitHub/AFPSC/TESS/tess2021232031932-s0042-0000000250081915-0213-a_fast-lc.fits'\n",
    "flaring_frame = dataClean(rawdata,35,3.898e-5) #35=dist in pc, 3.898e-5=eff width for Af Psc\n",
    "q_frame = generate_Qcurve(flaring_frame)"
   ]
  },
  {
   "cell_type": "code",
   "execution_count": 65,
   "id": "fc946e72",
   "metadata": {},
   "outputs": [],
   "source": [
    "ranges_ix,energy_ix = find_flare_ranges(flaring_frame, q_frame, 3,35, quiescence=None)"
   ]
  },
  {
   "cell_type": "code",
   "execution_count": 66,
   "id": "893fdcc0",
   "metadata": {},
   "outputs": [],
   "source": [
    "qpps = qpp_find(flaring_frame, ranges_ix, energy_ix)"
   ]
  },
  {
   "cell_type": "code",
   "execution_count": 67,
   "id": "6de492be",
   "metadata": {},
   "outputs": [],
   "source": [
    "res_fit = fit_residuals(qpps[0],qpps[4])"
   ]
  },
  {
   "cell_type": "code",
   "execution_count": 70,
   "id": "33cda05a",
   "metadata": {},
   "outputs": [],
   "source": [
    "#to view/plot davenport fit: \n",
    "\n",
    "#fig,ax = plt.subplots((len(lg_flare_data)))\n",
    "#for i in range(len(lg_flare_data)):    \n",
    "#    ax.flat[i].plot(lg_flare_time[i],lg_flare_data[i])\n",
    "#    ax.flat[i].plot(lg_flare_time[i],fits_[i],c='black')\n",
    "#    ax.flat[i].set_title(lg_flare_det[i])\n",
    "#    plt.setp(ax, xticks=[]) "
   ]
  },
  {
   "cell_type": "code",
   "execution_count": 71,
   "id": "3c0a508c",
   "metadata": {},
   "outputs": [],
   "source": [
    "#to view/plot residual fits: \n",
    "    \n",
    "#fig,ax = plt.subplots((len(lg_flare_data)))\n",
    "#for i in range(len(res_fits)):\n",
    "#    ax.flat[i].plot(range(len(residuals[i])),residuals[i],c='grey')\n",
    "#    ax.flat[i].plot(range(len(res_fits[i])),res_fits[i],c='black')"
   ]
  },
  {
   "cell_type": "markdown",
   "id": "1575c3f2",
   "metadata": {},
   "source": [
    "### TEST with EV Lac"
   ]
  },
  {
   "cell_type": "code",
   "execution_count": 72,
   "id": "c6cd5920",
   "metadata": {},
   "outputs": [],
   "source": [
    "test_rawdata = '/Users/katborski/Documents/GitHub/QPPs/moonbow-main/tess2022244194134-s0056-0000000154101678-0243-a_fast-lc.fits'\n",
    "test_flaring_frame = dataClean(test_rawdata,5.05,3.898e-5) #5.05=dist in pc to EV Lac, 3.898e-5=eff width for TESS\n",
    "test_q_frame = generate_Qcurve(test_flaring_frame)\n"
   ]
  },
  {
   "cell_type": "code",
   "execution_count": 73,
   "id": "f61d19fb",
   "metadata": {},
   "outputs": [],
   "source": [
    "test_ranges_ix,test_energy_ix = find_flare_ranges(test_flaring_frame,test_q_frame,4,5.05,quiescence=None)"
   ]
  },
  {
   "cell_type": "code",
   "execution_count": 74,
   "id": "e2069169",
   "metadata": {},
   "outputs": [],
   "source": [
    "test_qpps = qpp_find(test_flaring_frame, test_ranges_ix, test_energy_ix)"
   ]
  },
  {
   "cell_type": "code",
   "execution_count": 75,
   "id": "e020f41b",
   "metadata": {},
   "outputs": [],
   "source": [
    "test_res_fit = fit_residuals(test_qpps[0],test_qpps[4])"
   ]
  },
  {
   "cell_type": "code",
   "execution_count": 87,
   "id": "a1bf0150",
   "metadata": {},
   "outputs": [],
   "source": [
    "#to view/plot davenport fit: \n",
    "\n",
    "#fig,ax = plt.subplots((len(test_qpps[0])))\n",
    "#for i in range(len(test_qpps[0])):    \n",
    "#    ax.flat[i].plot(test_qpps[1][i],test_qpps[0][i])\n",
    "#    ax.flat[i].plot(test_qpps[1][i],test_qpps[4][i],c='black')\n",
    "#    ax.flat[i].set_title(test_qpps[2][i])\n",
    "#    plt.setp(ax, xticks=[]) \n",
    "#plt.show()"
   ]
  },
  {
   "cell_type": "code",
   "execution_count": 86,
   "id": "6e44709d",
   "metadata": {},
   "outputs": [],
   "source": [
    "#to view/plot residual fits: \n",
    "    \n",
    "#fig,ax = plt.subplots((len(test_res_fit[0])))\n",
    "#for i in range(len(test_res_fit[0])):\n",
    "#    ax.flat[i].plot(range(len(test_res_fit[0][i])),test_res_fit[0][i],c='grey')\n",
    "#    ax.flat[i].plot(range(len(test_res_fit[1][i])),test_res_fit[1][i],c='black')\n",
    "#plt.show()"
   ]
  },
  {
   "cell_type": "code",
   "execution_count": null,
   "id": "fee95add",
   "metadata": {},
   "outputs": [],
   "source": [
    "#ALL WORKING :)"
   ]
  },
  {
   "cell_type": "markdown",
   "id": "3d1ce307",
   "metadata": {},
   "source": [
    "from astroquery.mast import Observations\n"
   ]
  },
  {
   "cell_type": "markdown",
   "id": "5e766d2d",
   "metadata": {},
   "source": [
    "tess_20sec = Observations.query_criteria(obs_collection = 'TESS', sequence_number = [40], t_exptime = [20], dataproduct_type = \"timeseries\",productSubGroupDescription\t\n",
    "='LC')\n"
   ]
  },
  {
   "cell_type": "markdown",
   "id": "816d32be",
   "metadata": {},
   "source": [
    "test_set = tess_20sec[0:299]"
   ]
  },
  {
   "cell_type": "markdown",
   "id": "40a3594b",
   "metadata": {},
   "source": [
    "dataproducts = Observations.get_product_list(test_set)"
   ]
  },
  {
   "cell_type": "markdown",
   "id": "6d4fcaf3",
   "metadata": {},
   "source": [
    "manifest = Observations.download_products(dataproducts, productType=\"SCIENCE\")"
   ]
  },
  {
   "cell_type": "code",
   "execution_count": null,
   "id": "5734a132",
   "metadata": {},
   "outputs": [],
   "source": []
  }
 ],
 "metadata": {
  "kernelspec": {
   "display_name": "Python 3 (ipykernel)",
   "language": "python",
   "name": "python3"
  },
  "language_info": {
   "codemirror_mode": {
    "name": "ipython",
    "version": 3
   },
   "file_extension": ".py",
   "mimetype": "text/x-python",
   "name": "python",
   "nbconvert_exporter": "python",
   "pygments_lexer": "ipython3",
   "version": "3.11.0"
  }
 },
 "nbformat": 4,
 "nbformat_minor": 5
}
