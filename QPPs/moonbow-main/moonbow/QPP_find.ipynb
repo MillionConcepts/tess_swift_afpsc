{
 "cells": [
  {
   "cell_type": "code",
   "execution_count": 1,
   "id": "781880d6",
   "metadata": {},
   "outputs": [],
   "source": [
    "import astropy\n",
    "from astropy.io import fits \n",
    "from astropy.time import Time\n",
    "from astropy.visualization import time_support\n",
    "from astropy.timeseries import LombScargle\n",
    "from astropy.convolution import Box1DKernel\n",
    "from astropy.convolution import convolve\n",
    "import matplotlib.pyplot as plt\n",
    "import astropy.units as u\n",
    "from astroquery.gaia import Gaia\n",
    "from astroquery.simbad import Simbad\n",
    "import astropy.coordinates as coord\n",
    "import numpy as np\n",
    "import numpy.ma as ma\n",
    "import os\n",
    "import pandas as pd\n",
    "import scipy.signal as sig\n",
    "from astropy.stats import sigma_clip\n",
    "import warnings\n",
    "import time \n",
    "import itertools\n"
   ]
  },
  {
   "cell_type": "code",
   "execution_count": null,
   "id": "55bf2621",
   "metadata": {},
   "outputs": [],
   "source": []
  },
  {
   "cell_type": "code",
   "execution_count": 2,
   "id": "0ed32bc4",
   "metadata": {},
   "outputs": [],
   "source": [
    "from functools import partial\n",
    "\n",
    "import matplotlib as mpl\n",
    "from scipy import signal, stats\n",
    "from scipy.ndimage import center_of_mass\n",
    "\n",
    "# install moonbow first. in repo root:\n",
    "# pip install -e . --no-deps\n",
    "from moonbow.fit import Fit\n",
    "\n",
    "rng = np.random.default_rng()"
   ]
  },
  {
   "cell_type": "code",
   "execution_count": 3,
   "id": "62166d67",
   "metadata": {},
   "outputs": [],
   "source": [
    "def dataClean(filename): \n",
    "    \n",
    "    \"\"\" This function removes nan values and corrects time values for TESS 20 second cadence data. \n",
    "        Also corrects TESS flux to energy in ergs.\"\"\"\n",
    "    \n",
    "    #Create an array of time and flux data with nans removed    \n",
    "    with fits.open(filename, mode=\"readonly\",ignore_missing_simple=True) as hdulist:\n",
    "        raw_time = hdulist[1].data['TIME']\n",
    "        raw_flux = hdulist[1].data['PDCSAP_FLUX']\n",
    "        raw_err = hdulist[1].data['PDCSAP_FLUX_ERR']\n",
    "        ontime = hdulist[1].header['LIVETIME']\n",
    "        ra = hdulist[0].header['RA_OBJ']\n",
    "        dec = hdulist[0].header['DEC_OBJ']\n",
    "    data = np.vstack((raw_time, raw_flux, raw_err))\n",
    "    nonan_data = data[:, ~np.isnan(data).any(axis=0)]\n",
    "\n",
    "    times = nonan_data[0]\n",
    "    flux = nonan_data[1]\n",
    "    error = nonan_data[2]\n",
    "    \n",
    "    #Create Dataframe of cleaned data\n",
    "    time = np.array(times)\n",
    "    flux = np.array(flux)\n",
    "    err = np.array(error)\n",
    "   \n",
    "    skypos = (ra,dec)\n",
    "\n",
    "    #Convert energy to ergs\n",
    "    #dist_cm = distance_pc * 3.086e+18\n",
    "    #ergs = []\n",
    "    #ergs_err = []\n",
    "    \n",
    "    #for i in flux: \n",
    "    #    fluence = i * eff_width\n",
    "    #    energy = (4 * np.pi * (dist_cm**2) * fluence)\n",
    "    #    ergs.append(energy*1.95829e-9) #AB system zero point\n",
    "        \n",
    "    #for i in err:\n",
    "    #    fluence_err = i*eff_width\n",
    "    #    energy_err = (4 * np.pi * (dist_cm**2) * fluence_err)\n",
    "    #    ergs_err.append(energy_err*1.95829e-9) #AB system zero point\n",
    "        \n",
    "    #energy = np.asarray(ergs)\n",
    "    #error = np.asarray(ergs_err)\n",
    "\n",
    "    \n",
    "    #Return cleaned data\n",
    "    return pd.DataFrame({\n",
    "                        'Time': time,\n",
    "                        #'Energy': energy,\n",
    "                        #'Energy Error': error,\n",
    "                        'Flux': flux,\n",
    "                        'Flux Error': err\n",
    "    }),ontime,skypos"
   ]
  },
  {
   "cell_type": "code",
   "execution_count": 4,
   "id": "ae2a8751",
   "metadata": {},
   "outputs": [],
   "source": [
    "#Using only until large flare function is completed, need more stars to get a better idea for a good\n",
    "#model for stellar quiescence generation\n",
    "\n",
    "def generate_Qcurve(clean_dataframe):\n",
    "    \"\"\" This function takes cleaned data to create a dataframe of the estimated quiescent light curve\"\"\"\n",
    "\n",
    "    q_time = clean_dataframe['Time'] # time associated w/ quiescent flux\n",
    "    \n",
    "    #Set and index variables\n",
    "    fluxes = clean_dataframe['Flux']\n",
    "    times = clean_dataframe['Time']\n",
    "    F_err = clean_dataframe['Flux Error'] \n",
    "\n",
    "    #Smooth\n",
    "    smooth_1 = sig.savgol_filter(fluxes,1400,3)\n",
    "    q_flux = sig.savgol_filter(smooth_1,2000,3)\n",
    "    \n",
    "    #Create/return dataframe\n",
    "    \n",
    "    return pd.DataFrame({\n",
    "                'Time': q_time,\n",
    "                'Quiescent Flux':q_flux\n",
    "    })\n"
   ]
  },
  {
   "cell_type": "code",
   "execution_count": 5,
   "id": "04cf053b",
   "metadata": {},
   "outputs": [],
   "source": [
    "def find_ix_ranges(ix, buffer=False):\n",
    "    \"\"\" Finds indexes in the range.\n",
    "    \n",
    "        From MC GALEX function defs\"\"\"\n",
    "    \n",
    "    foo, bar = [], []\n",
    "    for n, i in enumerate(ix):\n",
    "        if len(bar) == 0 or bar[-1] == i-1:\n",
    "            bar += [i]\n",
    "        else:\n",
    "            if buffer:\n",
    "                bar.append(min(bar)-1)\n",
    "                bar.append(max(bar)+1)\n",
    "            foo += [np.sort(bar).tolist()]\n",
    "            bar = [i]\n",
    "        if n == len(ix)-1:\n",
    "            if buffer:\n",
    "                bar.append(min(bar)-1)\n",
    "                bar.append(max(bar)+1)\n",
    "            foo += [np.sort(bar).tolist()]\n",
    "    return foo"
   ]
  },
  {
   "cell_type": "code",
   "execution_count": 6,
   "id": "7dfd10c4",
   "metadata": {},
   "outputs": [],
   "source": [
    "def get_inff(lc, clipsigma=3, quiet=True, band='NUV',\n",
    "             binsize=20.):\n",
    "    \"\"\" Calculates the Instantaneous Non-Flare Flux values.\n",
    "    \n",
    "        From MC GALEX function defs\"\"\"\n",
    "    \n",
    "    sclip = sigma_clip(np.array(lc['Flux']), sigma=clipsigma)\n",
    "    inff = np.ma.median(sclip)\n",
    "    inff_err = np.sqrt(inff*len(sclip)*binsize)/(len(sclip)*binsize)\n",
    "    if inff and not quiet:\n",
    "        print('Quiescent at {m} AB mag.'.format(m=gt.counts2mag(inff, band)))\n",
    "    return inff, inff_err"
   ]
  },
  {
   "cell_type": "code",
   "execution_count": 7,
   "id": "050fad91",
   "metadata": {},
   "outputs": [],
   "source": [
    "def find_flare_ranges(curve,q_curve,sig,quiescence=None):\n",
    "    \"\"\"This function will run through the data to find \n",
    "    flares and ranges of flares. This function will return\n",
    "    a table of flares ranges. \n",
    "    \n",
    "    Adapted from MC GALEX function defs.\n",
    "    Stage: complete\"\"\"\n",
    "    \n",
    "    tranges = [[min(curve['Time']), max(curve['Time'])]] \n",
    "    if not quiescence:\n",
    "        q, q_err = get_inff(curve)\n",
    "    else:\n",
    "        q, q_err = quiescence\n",
    "    flare_ranges = []\n",
    "    for trange in tranges:\n",
    "        ix = np.where(((np.array(curve['Flux'].values)-(sig*np.array(curve['Flux Error'].values)) >= q_curve['Quiescent Flux'])))[0]\n",
    "        flareFlux = ix\n",
    "        if not len(ix):\n",
    "            continue\n",
    "        flux_ix = []\n",
    "        \n",
    "        for ix_range in find_ix_ranges(ix):\n",
    "            # go backwards\n",
    "            consec = 0 \n",
    "            err = curve.iloc[ix_range[0]]['Flux Error'] \n",
    "            \n",
    "            #while flux - err > quiescence, find 2 consecutive points within quiescent curve\n",
    "            while (curve.iloc[ix_range[0]]['Flux']-err >= q_curve.iloc[ix_range[0]]['Quiescent Flux']) and ix_range[0] > 0 or (consec < 1 and ix_range[0] >0):\n",
    "                err = curve.iloc[ix_range[0]]['Flux Error']\n",
    "\n",
    "                if curve.iloc[ix_range[0]]['Flux']- err < q_curve.iloc[ix_range[0]]['Quiescent Flux']:\n",
    "                    consec +=1\n",
    "                else: \n",
    "                    consec = 0\n",
    "                if (curve.iloc[ix_range[0]+1]['Time']-curve.iloc[ix_range[0]]['Time']) > 1000: \n",
    "                    break               \n",
    "                ix_range = [ix_range[0] - 1] + ix_range\n",
    "                \n",
    "                # go forwards\n",
    "            consec = 0 \n",
    "            err = curve.iloc[ix_range[-1]]['Flux Error']\n",
    "            while(curve.iloc[ix_range[-1]]['Flux'] - err >= q_curve.iloc[ix_range[-1]]['Quiescent Flux']) and ix_range[-1] != len(curve)-1 or (consec <1 and ix_range[:-1]!= len(curve)-1):\n",
    "                err = curve.iloc[ix_range[-1]]['Flux Error']\n",
    "                if curve.iloc[ix_range[-1]]['Flux']-err < q_curve.iloc[ix_range[-1]]['Quiescent Flux']:\n",
    "                    consec += 1\n",
    "                else: \n",
    "                    consec = 0\n",
    "                if curve.iloc[ix_range[0]]['Time']-curve.iloc[ix_range[-1]]['Time'] > 1000: \n",
    "                    break\n",
    "                ix_range = ix_range + [ix_range[-1] + 1]\n",
    "                \n",
    "            flux_ix += ix_range\n",
    "        ix = np.unique(flux_ix)\n",
    "        flare_ranges += find_ix_ranges(list(np.array(ix).flatten()))\n",
    "    return(flare_ranges,flareFlux)\n"
   ]
  },
  {
   "cell_type": "code",
   "execution_count": 8,
   "id": "0ee76f33",
   "metadata": {},
   "outputs": [],
   "source": [
    "def refine_flare_ranges(curve,q_curve, sig=3., flare_ranges=None):\n",
    "    \"\"\" Identify the start and stop indexes of a flare event after\n",
    "    refining the INFF by masking out the initial flare detection indexes. \n",
    "    From MC GALEX function defs.\"\"\"\n",
    "    time_support()\n",
    "    if not flare_ranges:\n",
    "        flare_ranges, _ = find_flare_ranges(curve, q_curve, sig)\n",
    "    flare_ix = list(itertools.chain.from_iterable(flare_ranges))\n",
    "    quiescience_mask = [False if i in flare_ix else True for i in\n",
    "                        np.arange(len(curve['Time']))]\n",
    "    quiescence = q_curve\n",
    "    quiescence_err = (np.sqrt(curve['Flux'][quiescience_mask].sum())/curve['Flux'].sum())\n",
    "    flare_ranges, flare_3sigs = find_flare_ranges(curve,q_curve,\n",
    "                                                  quiescence=(quiescence,\n",
    "                                                              quiescence_err),\n",
    "                                                  sig=sig)\n",
    "    flare_ix = list(itertools.chain.from_iterable(flare_ranges))\n",
    "    not_flare_ix = list(set([x for x in range(len(curve['Time']))]) - set(flare_ix))\n",
    "      \n",
    "    return flare_ranges, flare_ix"
   ]
  },
  {
   "cell_type": "code",
   "execution_count": 9,
   "id": "7079a88d",
   "metadata": {},
   "outputs": [],
   "source": [
    "def qpp_find(flaring_frame,ranges_ix,energy_ix):\n",
    "    \n",
    "    ranges = []\n",
    "    for i,v in enumerate(ranges_ix):\n",
    "        t = flaring_frame['Time'][v]\n",
    "        f = flaring_frame['Flux'][v]\n",
    "        ranges.append([i,t,f])\n",
    "\n",
    "        #Select Large Flares\n",
    "\n",
    "    large_flares = []\n",
    "    for i,v in enumerate(ranges_ix):\n",
    "        if len(v)>=45:                    #~15 minute minimum                    \n",
    "            large_flares.append((v))\n",
    "        else:\n",
    "            continue\n",
    "\n",
    "#Match Data to Large Flares\n",
    "\n",
    "    large_flare_data = []\n",
    "    for i,v in enumerate(large_flares):\n",
    "        data = flaring_frame['Energy'][large_flares[i]]\n",
    "        large_flare_data.append(data)\n",
    "    \n",
    "    norm_flares=[] #normalize flare values\n",
    "    for i in range(len(large_flare_data)):\n",
    "        mx = max(large_flare_data[i])\n",
    "        norm_flares.append(large_flare_data[i]/mx)\n",
    "    \n",
    "    times=[]\n",
    "    for i in range(len(large_flares)):\n",
    "        t = flaring_frame['Time'][large_flare_data[i].index]\n",
    "        times.append(t)\n",
    "        \n",
    "    lg_flare_data=[]\n",
    "    lg_flare_time=[]\n",
    "    lg_flare_det=[]\n",
    "    lg_flare_params = []\n",
    "    flare_fits = []\n",
    "\n",
    "    for i in range(len(large_flares)):\n",
    "        model = aflare2\n",
    "        x = flaring_frame['Time'][large_flares[i]]\n",
    "        y = norm_flares[i]\n",
    "        data = pd.DataFrame({'time': x, 'energy': y})\n",
    "    \n",
    "        rise = x[0:np.argmax(y)].values\n",
    "        fwhm = (max(rise)-min(rise))*2\n",
    "    \n",
    "        fitter = Fit(\n",
    "        underlying_function=model,\n",
    "        dimensionality=1,\n",
    "        data=data,\n",
    "        dependent_variable='energy')\n",
    "    \n",
    "        fitter.make_vector(independent_variables=['time'])\n",
    "        fitter.fit(guess=np.array((max(rise),fwhm,1,\n",
    "                              1.00000, 1.94053, -0.175084, -2.3769, -1.12498,\n",
    "                              0.689008, -1.600536, 0.302963, -0.278318))) \n",
    "        if fitter.det > 0.70:\n",
    "            lg_flare_time.append(x)\n",
    "            lg_flare_data.append(y)\n",
    "            lg_flare_det.append(fitter.det)\n",
    "            fit_params, covariance_matrix = fitter.curve_fit\n",
    "            lg_flare_params.append((fit_params))\n",
    "            fit = fitter.fitted_curve \n",
    "            flare_fits.append((fit))\n",
    "    return lg_flare_data, lg_flare_time, lg_flare_det, lg_flare_params, flare_fits"
   ]
  },
  {
   "cell_type": "code",
   "execution_count": 10,
   "id": "f88a0618",
   "metadata": {},
   "outputs": [],
   "source": [
    "def fit_residuals(lg_flare_data,flare_fits):\n",
    "    residuals = []\n",
    "    for i in range(len(lg_flare_data)):\n",
    "        res_i = lg_flare_data[i]-flare_fits[i]\n",
    "        residuals.append((res_i))\n",
    "\n",
    "    kernel = Box1DKernel(8)\n",
    "    res_fits = []\n",
    "    for i in range(len(residuals)):\n",
    "        res_fit = sig.savgol_filter(residuals[i],21,3)\n",
    "        fit2 = convolve(res_fit,kernel,boundary='extend')\n",
    "        res_fits.append(fit2)\n",
    "    \n",
    "    return(residuals, res_fits)\n",
    "\n",
    "\n",
    "#to view/plot residual fits: \n",
    "    \n",
    "#fig,ax = plt.subplots((len(lg_flare_data)))\n",
    "#for i in range(len(res_fits)):\n",
    "#    ax.flat[i].plot(range(len(residuals[i])),residuals[i],c='grey')\n",
    "#    ax.flat[i].plot(range(len(res_fits[i])),res_fits[i],c='black')"
   ]
  },
  {
   "cell_type": "code",
   "execution_count": 11,
   "id": "2d29b46a",
   "metadata": {},
   "outputs": [],
   "source": [
    "def energyCalculation2(flaring_frame,q_frame,flare_ranges,dist_pc,binsize=20):\n",
    "    \"\"\"This function will calculate the energies of each flare.\n",
    "        Stage: complete\"\"\"\n",
    "\n",
    "    distance_cm = dist_pc*3.086e+18\n",
    "    eff_width = 3.898e-5 \n",
    "    flare_flux = flaring_frame['Flux'][flare_ranges[1]]-q_frame['Quiescent Flux'][flare_ranges[1]]\n",
    "    flare_flux_error = flaring_frame['Flux Error'][flare_ranges[1]]\n",
    "    \n",
    "    \n",
    "    energy_error=[]\n",
    "    energies=[]\n",
    "    flare_flux[flare_flux<0]=0\n",
    "    \n",
    "    for i,v in enumerate(flare_ranges[0]):\n",
    "        integrated_flux = (flare_flux[v]*binsize).sum()\n",
    "        fluence_error = np.sqrt(((flare_flux_error[v]*binsize)**2).sum())*eff_width\n",
    "        fluence = integrated_flux*eff_width\n",
    "        energy = (4 * np.pi * (distance_cm**2) * fluence)\n",
    "        energy_err = (4 * np.pi * (distance_cm**2) * fluence_error)\n",
    "        energy_error.append(energy_err*1.95829e-9 )\n",
    "        energies.append(energy*1.95829e-9) \n",
    "        \n",
    "    #Using AB system zero point (1.95829e-9 erg/cm2/s/A) from \n",
    "    #http://svo2.cab.inta-csic.es/svo/theory/fps3/index.php?id=TESS/TESS.Red&&mode=browse&gname=TESS&gname2=TESS\n",
    "    \n",
    "    return(energies,energy_error)"
   ]
  },
  {
   "cell_type": "code",
   "execution_count": 12,
   "id": "edee00bc",
   "metadata": {},
   "outputs": [],
   "source": [
    "def FlareTable(flaring_frame,flare_ranges):#,energies):\n",
    "    \"\"\"This function will build a table of all flares.\n",
    "        Stage: complete\"\"\"\n",
    "    #Define variables\n",
    "    times = flaring_frame['Time']\n",
    "    energy = energies[0]\n",
    "    energy_error = energies[1]\n",
    "    \n",
    "    #find peaks\n",
    "    peak_energy = np.argmax(energy)\n",
    "    peak_time = times(np.where(np.argmax(energy)))\n",
    "    duration = []\n",
    "    \n",
    "    for flare in flare_ranges[0]:\n",
    "        start_ix = times[flare[0]]\n",
    "        stop_ix = times[flare[-1]]\n",
    "        duration.append(((times[flare[-1]]-times[flare[0]])).sec)\n",
    "    \n",
    "    #Build flare table\n",
    "    flareTable = pd.DataFrame({\n",
    "                                \"Peak Time\": peak_time,\n",
    "                                \"Peak Energy\": peak_energy,\n",
    "                                \"Duration (s)\": duration,\n",
    "                                \"Total Energy\": energy,\n",
    "                                \"Energy Error\": energy_error\n",
    "    })\n",
    "    \n",
    "    return(flareTable)\n",
    "        "
   ]
  },
  {
   "cell_type": "code",
   "execution_count": 13,
   "id": "ef12783d",
   "metadata": {},
   "outputs": [],
   "source": [
    "def aflare2(t, tpeak, fwhm, ampl,\n",
    "            c0,c1,c2,c3,c4,\n",
    "            d0,d1,d2,d3):\n",
    "#    t : 1-d array\n",
    "#        The time array to evaluate the flare over\n",
    "#    tpeak : float\n",
    "#        The time of the flare peak\n",
    "#    fwhm : float\n",
    "#        The \"Full Width at Half Maximum\", timescale of the flare\n",
    "#   ampl : float\n",
    "#        The amplitude of the flare\n",
    "#    Returns\n",
    "#    flare : 1-d array\n",
    "#        The flux of the flare model evaluated at each time\n",
    "    #_fr = [1.00000, 1.94053, -0.175084, -2.24588, -1.12498]\n",
    "    _fr = [c0,c1,c2,c3,c4]\n",
    "    #_fd = [0.689008, -1.60053, 0.302963, -0.278318]\n",
    "    _fd = [d0,d1,d2,d3]\n",
    "    \n",
    "    t = np.array(t)\n",
    "    flare = np.piecewise(t, [(t<= tpeak) * (t-tpeak)/fwhm > -1.,\n",
    "                                (t > tpeak)],\n",
    "                            [lambda x: (_fr[0]+                       # 0th order\n",
    "                                        _fr[1]*((x-tpeak)/fwhm)+      # 1st order\n",
    "                                        _fr[2]*((x-tpeak)/fwhm)**2.+  # 2nd order\n",
    "                                        _fr[3]*((x-tpeak)/fwhm)**3.+  # 3rd order\n",
    "                                        _fr[4]*((x-tpeak)/fwhm)**4. ),# 4th order\n",
    "                             lambda x: (_fd[0]*np.exp( ((x-tpeak)/fwhm)*_fd[1] ) +\n",
    "                                        _fd[2]*np.exp( ((x-tpeak)/fwhm)*_fd[3] ))]\n",
    "                            ) * np.abs(ampl) # amplitude\n",
    "\n",
    "    return flare"
   ]
  },
  {
   "cell_type": "markdown",
   "id": "aa07bf41",
   "metadata": {},
   "source": [
    "### Af Psc Analysis"
   ]
  },
  {
   "cell_type": "code",
   "execution_count": 14,
   "id": "ee7fb8b2",
   "metadata": {},
   "outputs": [],
   "source": [
    "#rawdata = '/Users/katborski/Documents/GitHub/AFPSC/TESS/tess2021232031932-s0042-0000000250081915-0213-a_fast-lc.fits'\n",
    "#flaring_frame = dataClean(rawdata,35,3.898e-5) #35=dist in pc, 3.898e-5=eff width for Af Psc\n",
    "#q_frame = generate_Qcurve(flaring_frame)"
   ]
  },
  {
   "cell_type": "code",
   "execution_count": 15,
   "id": "fc946e72",
   "metadata": {},
   "outputs": [],
   "source": [
    "#ranges_ix,energy_ix = find_flare_ranges(flaring_frame, q_frame, 3,35, quiescence=None)"
   ]
  },
  {
   "cell_type": "code",
   "execution_count": 16,
   "id": "26531575",
   "metadata": {},
   "outputs": [],
   "source": [
    "#qpps = qpp_find(flaring_frame, ranges_ix, energy_ix)"
   ]
  },
  {
   "cell_type": "code",
   "execution_count": 17,
   "id": "50d82bf5",
   "metadata": {},
   "outputs": [],
   "source": [
    "#res_fit = fit_residuals(qpps[0],qpps[4])"
   ]
  },
  {
   "cell_type": "code",
   "execution_count": 18,
   "id": "9183d404",
   "metadata": {},
   "outputs": [],
   "source": [
    "###to view/plot davenport fit: \n",
    "\n",
    "#fig,ax = plt.subplots((len(lg_flare_data)))\n",
    "#for i in range(len(lg_flare_data)):    \n",
    "#    ax.flat[i].plot(lg_flare_time[i],lg_flare_data[i])\n",
    "#    ax.flat[i].plot(lg_flare_time[i],fits_[i],c='black')\n",
    "#    ax.flat[i].set_title(lg_flare_det[i])\n",
    "#    plt.setp(ax, xticks=[]) "
   ]
  },
  {
   "cell_type": "code",
   "execution_count": 19,
   "id": "787f030f",
   "metadata": {},
   "outputs": [],
   "source": [
    "###to view/plot residual fits: \n",
    "    \n",
    "#fig,ax = plt.subplots((len(lg_flare_data)))\n",
    "#for i in range(len(res_fits)):\n",
    "#    ax.flat[i].plot(range(len(residuals[i])),residuals[i],c='grey')\n",
    "#    ax.flat[i].plot(range(len(res_fits[i])),res_fits[i],c='black')"
   ]
  },
  {
   "cell_type": "markdown",
   "id": "1575c3f2",
   "metadata": {},
   "source": [
    "### Test Analysis w/ EV Lac"
   ]
  },
  {
   "cell_type": "code",
   "execution_count": 20,
   "id": "c6cd5920",
   "metadata": {},
   "outputs": [],
   "source": [
    "#test_rawdata = '/Users/katborski/Documents/GitHub/QPPs/moonbow-main/tess2022244194134-s0056-0000000154101678-0243-a_fast-lc.fits'\n",
    "#test_flaring_frame = dataClean(test_rawdata,5.05,3.898e-5) #5.05=dist in pc to EV Lac, 3.898e-5=eff width for TESS\n",
    "#test_q_frame = generate_Qcurve(test_flaring_frame)\n"
   ]
  },
  {
   "cell_type": "code",
   "execution_count": 21,
   "id": "f61d19fb",
   "metadata": {},
   "outputs": [],
   "source": [
    "#test_ranges_ix,test_energy_ix = find_flare_ranges(test_flaring_frame,test_q_frame,4,5.05,quiescence=None)"
   ]
  },
  {
   "cell_type": "code",
   "execution_count": 22,
   "id": "08004ef8",
   "metadata": {},
   "outputs": [],
   "source": [
    "#test_qpps = qpp_find(test_flaring_frame, test_ranges_ix, test_energy_ix)"
   ]
  },
  {
   "cell_type": "code",
   "execution_count": 23,
   "id": "874d58b1",
   "metadata": {},
   "outputs": [],
   "source": [
    "#test_res_fit = fit_residuals(test_qpps[0],test_qpps[4])"
   ]
  },
  {
   "cell_type": "code",
   "execution_count": 24,
   "id": "789fd2c2",
   "metadata": {},
   "outputs": [],
   "source": [
    "###to view/plot davenport fit: \n",
    "\n",
    "#fig,ax = plt.subplots((len(test_qpps[0])))\n",
    "#for i in range(len(test_qpps[0])):    \n",
    "#    ax.flat[i].plot(test_qpps[1][i],test_qpps[0][i])\n",
    "#    ax.flat[i].plot(test_qpps[1][i],test_qpps[4][i],c='black')\n",
    "#    ax.flat[i].set_title(test_qpps[2][i])\n",
    "#    plt.setp(ax, xticks=[]) \n",
    "#plt.show()"
   ]
  },
  {
   "cell_type": "code",
   "execution_count": 25,
   "id": "8ee71034",
   "metadata": {},
   "outputs": [],
   "source": [
    "###to view/plot residual fits: \n",
    "    \n",
    "#fig,ax = plt.subplots((len(test_res_fit[0])))\n",
    "#for i in range(len(test_res_fit[0])):\n",
    "#    ax.flat[i].plot(range(len(test_res_fit[0][i])),test_res_fit[0][i],c='grey')\n",
    "#    ax.flat[i].plot(range(len(test_res_fit[1][i])),test_res_fit[1][i],c='black')\n",
    "#plt.show()"
   ]
  },
  {
   "cell_type": "code",
   "execution_count": 26,
   "id": "9d550672",
   "metadata": {},
   "outputs": [],
   "source": [
    "#ALL WORKING, uncomment singular '#' lines to run."
   ]
  },
  {
   "cell_type": "code",
   "execution_count": 27,
   "id": "e1e6d4f9",
   "metadata": {},
   "outputs": [],
   "source": [
    "### CROSSMATCH DATA W/ GAIA ###\n",
    "warnings.filterwarnings('ignore')"
   ]
  },
  {
   "cell_type": "code",
   "execution_count": 28,
   "id": "5a2abbbc",
   "metadata": {},
   "outputs": [
    {
     "data": {
      "text/html": [
       "<div>\n",
       "<style scoped>\n",
       "    .dataframe tbody tr th:only-of-type {\n",
       "        vertical-align: middle;\n",
       "    }\n",
       "\n",
       "    .dataframe tbody tr th {\n",
       "        vertical-align: top;\n",
       "    }\n",
       "\n",
       "    .dataframe thead th {\n",
       "        text-align: right;\n",
       "    }\n",
       "</style>\n",
       "<table border=\"1\" class=\"dataframe\">\n",
       "  <thead>\n",
       "    <tr style=\"text-align: right;\">\n",
       "      <th></th>\n",
       "      <th>ID</th>\n",
       "      <th>ra</th>\n",
       "      <th>dec</th>\n",
       "      <th>match_dist_as</th>\n",
       "      <th>spectral_type</th>\n",
       "    </tr>\n",
       "  </thead>\n",
       "  <tbody>\n",
       "    <tr>\n",
       "      <th>0</th>\n",
       "      <td>83940523</td>\n",
       "      <td>0.016998</td>\n",
       "      <td>34.188545</td>\n",
       "      <td>0.009977</td>\n",
       "      <td>NaN</td>\n",
       "    </tr>\n",
       "    <tr>\n",
       "      <th>1</th>\n",
       "      <td>117927922</td>\n",
       "      <td>0.056707</td>\n",
       "      <td>24.881957</td>\n",
       "      <td>579.765611</td>\n",
       "      <td>-</td>\n",
       "    </tr>\n",
       "    <tr>\n",
       "      <th>2</th>\n",
       "      <td>117928216</td>\n",
       "      <td>0.116588</td>\n",
       "      <td>24.022999</td>\n",
       "      <td>2449.451920</td>\n",
       "      <td>-</td>\n",
       "    </tr>\n",
       "    <tr>\n",
       "      <th>3</th>\n",
       "      <td>117953209</td>\n",
       "      <td>0.395389</td>\n",
       "      <td>25.197096</td>\n",
       "      <td>2307.161959</td>\n",
       "      <td>-</td>\n",
       "    </tr>\n",
       "    <tr>\n",
       "      <th>4</th>\n",
       "      <td>117954030</td>\n",
       "      <td>0.499224</td>\n",
       "      <td>25.471993</td>\n",
       "      <td>1989.605612</td>\n",
       "      <td>-</td>\n",
       "    </tr>\n",
       "    <tr>\n",
       "      <th>...</th>\n",
       "      <td>...</td>\n",
       "      <td>...</td>\n",
       "      <td>...</td>\n",
       "      <td>...</td>\n",
       "      <td>...</td>\n",
       "    </tr>\n",
       "    <tr>\n",
       "      <th>23975</th>\n",
       "      <td>407970090</td>\n",
       "      <td>359.115699</td>\n",
       "      <td>-0.932323</td>\n",
       "      <td>NaN</td>\n",
       "      <td>NaN</td>\n",
       "    </tr>\n",
       "    <tr>\n",
       "      <th>23976</th>\n",
       "      <td>407994915</td>\n",
       "      <td>359.085045</td>\n",
       "      <td>-4.492087</td>\n",
       "      <td>NaN</td>\n",
       "      <td>NaN</td>\n",
       "    </tr>\n",
       "    <tr>\n",
       "      <th>23977</th>\n",
       "      <td>471013650</td>\n",
       "      <td>359.607500</td>\n",
       "      <td>-10.570342</td>\n",
       "      <td>NaN</td>\n",
       "      <td>NaN</td>\n",
       "    </tr>\n",
       "    <tr>\n",
       "      <th>23978</th>\n",
       "      <td>471016669</td>\n",
       "      <td>359.335800</td>\n",
       "      <td>-12.980200</td>\n",
       "      <td>NaN</td>\n",
       "      <td>NaN</td>\n",
       "    </tr>\n",
       "    <tr>\n",
       "      <th>23979</th>\n",
       "      <td>10001762142</td>\n",
       "      <td>193.462326</td>\n",
       "      <td>-0.169515</td>\n",
       "      <td>NaN</td>\n",
       "      <td>NaN</td>\n",
       "    </tr>\n",
       "  </tbody>\n",
       "</table>\n",
       "<p>23980 rows × 5 columns</p>\n",
       "</div>"
      ],
      "text/plain": [
       "                ID          ra        dec  match_dist_as spectral_type\n",
       "0         83940523    0.016998  34.188545       0.009977           NaN\n",
       "1        117927922    0.056707  24.881957     579.765611             -\n",
       "2        117928216    0.116588  24.022999    2449.451920             -\n",
       "3        117953209    0.395389  25.197096    2307.161959             -\n",
       "4        117954030    0.499224  25.471993    1989.605612             -\n",
       "...            ...         ...        ...            ...           ...\n",
       "23975    407970090  359.115699  -0.932323            NaN           NaN\n",
       "23976    407994915  359.085045  -4.492087            NaN           NaN\n",
       "23977    471013650  359.607500 -10.570342            NaN           NaN\n",
       "23978    471016669  359.335800 -12.980200            NaN           NaN\n",
       "23979  10001762142  193.462326  -0.169515            NaN           NaN\n",
       "\n",
       "[23980 rows x 5 columns]"
      ]
     },
     "execution_count": 28,
     "metadata": {},
     "output_type": "execute_result"
    }
   ],
   "source": [
    "dataset = pd.read_csv('/Users/katborski/Documents/GitHub/QPPs/moonbow-main/object_table.csv')\n",
    "dataset"
   ]
  },
  {
   "cell_type": "code",
   "execution_count": 29,
   "id": "95edfa73",
   "metadata": {},
   "outputs": [],
   "source": [
    "match_dist_as = []\n",
    "for i in range(len(dataset)):\n",
    "    match_dist_arcsec = dataset['match_dist_as'][i]\n",
    "    match_dist_as.append(match_dist_arcsec)"
   ]
  },
  {
   "cell_type": "code",
   "execution_count": 30,
   "id": "4b217935",
   "metadata": {},
   "outputs": [],
   "source": [
    "distances_pc = []\n",
    "IDs= []\n",
    "RA = []\n",
    "DEC = []\n",
    "sp_type = []\n",
    "simbad_match_dist = []\n",
    "\n",
    "for i in range(len(match_dist_as)):\n",
    "    if str((dataset['spectral_type'][i])).startswith('M') or str((dataset['spectral_type'][i])).startswith('K'):\n",
    "        ra = dataset['ra'][i]\n",
    "        dec = dataset['dec'][i]\n",
    "        RA.append(ra)\n",
    "        DEC.append(dec)\n",
    "\n",
    "        d = (1./match_dist_as[i])\n",
    "        distances_pc.append(d)\n",
    "        \n",
    "        i_d = dataset['ID'][i]\n",
    "        IDs.append(i_d)\n",
    "        \n",
    "        s_t = dataset['spectral_type'][i]\n",
    "        sp_type.append(s_t)\n",
    "\n",
    "        match_dist_arcsec = dataset['match_dist_as'][i]\n",
    "        simbad_match_dist.append(match_dist_arcsec)"
   ]
  },
  {
   "cell_type": "code",
   "execution_count": 31,
   "id": "acd47cb4",
   "metadata": {},
   "outputs": [],
   "source": [
    "Gaia.MAIN_GAIA_TABLE = \"gaiaedr3.gaia_source\""
   ]
  },
  {
   "cell_type": "code",
   "execution_count": 32,
   "id": "b50c1642",
   "metadata": {},
   "outputs": [],
   "source": [
    "def angularSeparation(ra1, dec1, ra2, dec2):\n",
    "    d2r = np.pi/180.\n",
    "    ra2deg = 1./d2r\n",
    "    d1 = dec1*d2r,\n",
    "    d2 = dec2*d2r\n",
    "    r1 = ra1*d2r\n",
    "    r2 = ra2*d2r\n",
    "    a = np.sin((d2-d1)/2.)**2.+np.cos(d1)*np.cos(d2)*np.sin((r2-r1)/2.)**2.\n",
    "    r = 2*np.arcsin(np.sqrt(a))\n",
    "    return r*ra2deg"
   ]
  },
  {
   "cell_type": "code",
   "execution_count": 33,
   "id": "0c6b689b",
   "metadata": {},
   "outputs": [
    {
     "name": "stdout",
     "output_type": "stream",
     "text": [
      "INFO: Query finished. [astroquery.utils.tap.core]\n",
      "INFO: Query finished. [astroquery.utils.tap.core]\n",
      "INFO: Query finished. [astroquery.utils.tap.core]\n",
      "INFO: Query finished. [astroquery.utils.tap.core]\n",
      "INFO: Query finished. [astroquery.utils.tap.core]\n",
      "INFO: Query finished. [astroquery.utils.tap.core]\n",
      "INFO: Query finished. [astroquery.utils.tap.core]\n",
      "INFO: Query finished. [astroquery.utils.tap.core]\n",
      "INFO: Query finished. [astroquery.utils.tap.core]\n",
      "INFO: Query finished. [astroquery.utils.tap.core]\n",
      "INFO: Query finished. [astroquery.utils.tap.core]\n",
      "INFO: Query finished. [astroquery.utils.tap.core]\n",
      "INFO: Query finished. [astroquery.utils.tap.core]\n",
      "INFO: Query finished. [astroquery.utils.tap.core]\n",
      "INFO: Query finished. [astroquery.utils.tap.core]\n",
      "INFO: Query finished. [astroquery.utils.tap.core]\n",
      "INFO: Query finished. [astroquery.utils.tap.core]\n",
      "INFO: Query finished. [astroquery.utils.tap.core]\n",
      "INFO: Query finished. [astroquery.utils.tap.core]\n",
      "INFO: Query finished. [astroquery.utils.tap.core]\n",
      "INFO: Query finished. [astroquery.utils.tap.core]\n",
      "INFO: Query finished. [astroquery.utils.tap.core]\n",
      "INFO: Query finished. [astroquery.utils.tap.core]\n",
      "INFO: Query finished. [astroquery.utils.tap.core]\n",
      "INFO: Query finished. [astroquery.utils.tap.core]\n",
      "INFO: Query finished. [astroquery.utils.tap.core]\n",
      "INFO: Query finished. [astroquery.utils.tap.core]\n",
      "INFO: Query finished. [astroquery.utils.tap.core]\n",
      "INFO: Query finished. [astroquery.utils.tap.core]\n",
      "INFO: Query finished. [astroquery.utils.tap.core]\n",
      "INFO: Query finished. [astroquery.utils.tap.core]\n",
      "INFO: Query finished. [astroquery.utils.tap.core]\n",
      "INFO: Query finished. [astroquery.utils.tap.core]\n",
      "INFO: Query finished. [astroquery.utils.tap.core]\n",
      "INFO: Query finished. [astroquery.utils.tap.core]\n",
      "INFO: Query finished. [astroquery.utils.tap.core]\n",
      "INFO: Query finished. [astroquery.utils.tap.core]\n",
      "INFO: Query finished. [astroquery.utils.tap.core]\n",
      "INFO: Query finished. [astroquery.utils.tap.core]\n",
      "INFO: Query finished. [astroquery.utils.tap.core]\n",
      "INFO: Query finished. [astroquery.utils.tap.core]\n",
      "INFO: Query finished. [astroquery.utils.tap.core]\n",
      "INFO: Query finished. [astroquery.utils.tap.core]\n",
      "INFO: Query finished. [astroquery.utils.tap.core]\n",
      "INFO: Query finished. [astroquery.utils.tap.core]\n",
      "INFO: Query finished. [astroquery.utils.tap.core]\n",
      "INFO: Query finished. [astroquery.utils.tap.core]\n",
      "INFO: Query finished. [astroquery.utils.tap.core]\n",
      "INFO: Query finished. [astroquery.utils.tap.core]\n",
      "INFO: Query finished. [astroquery.utils.tap.core]\n",
      "INFO: Query finished. [astroquery.utils.tap.core]\n",
      "INFO: Query finished. [astroquery.utils.tap.core]\n",
      "INFO: Query finished. [astroquery.utils.tap.core]\n",
      "INFO: Query finished. [astroquery.utils.tap.core]\n",
      "INFO: Query finished. [astroquery.utils.tap.core]\n",
      "INFO: Query finished. [astroquery.utils.tap.core]\n",
      "INFO: Query finished. [astroquery.utils.tap.core]\n",
      "INFO: Query finished. [astroquery.utils.tap.core]\n",
      "INFO: Query finished. [astroquery.utils.tap.core]\n",
      "INFO: Query finished. [astroquery.utils.tap.core]\n",
      "INFO: Query finished. [astroquery.utils.tap.core]\n",
      "INFO: Query finished. [astroquery.utils.tap.core]\n",
      "INFO: Query finished. [astroquery.utils.tap.core]\n",
      "INFO: Query finished. [astroquery.utils.tap.core]\n",
      "INFO: Query finished. [astroquery.utils.tap.core]\n",
      "INFO: Query finished. [astroquery.utils.tap.core]\n",
      "INFO: Query finished. [astroquery.utils.tap.core]\n",
      "INFO: Query finished. [astroquery.utils.tap.core]\n",
      "INFO: Query finished. [astroquery.utils.tap.core]\n",
      "INFO: Query finished. [astroquery.utils.tap.core]\n",
      "INFO: Query finished. [astroquery.utils.tap.core]\n",
      "INFO: Query finished. [astroquery.utils.tap.core]\n",
      "INFO: Query finished. [astroquery.utils.tap.core]\n",
      "INFO: Query finished. [astroquery.utils.tap.core]\n",
      "INFO: Query finished. [astroquery.utils.tap.core]\n",
      "INFO: Query finished. [astroquery.utils.tap.core]\n",
      "INFO: Query finished. [astroquery.utils.tap.core]\n",
      "INFO: Query finished. [astroquery.utils.tap.core]\n",
      "INFO: Query finished. [astroquery.utils.tap.core]\n",
      "INFO: Query finished. [astroquery.utils.tap.core]\n",
      "INFO: Query finished. [astroquery.utils.tap.core]\n",
      "INFO: Query finished. [astroquery.utils.tap.core]\n",
      "INFO: Query finished. [astroquery.utils.tap.core]\n",
      "INFO: Query finished. [astroquery.utils.tap.core]\n",
      "INFO: Query finished. [astroquery.utils.tap.core]\n",
      "INFO: Query finished. [astroquery.utils.tap.core]\n",
      "INFO: Query finished. [astroquery.utils.tap.core]\n",
      "INFO: Query finished. [astroquery.utils.tap.core]\n",
      "INFO: Query finished. [astroquery.utils.tap.core]\n",
      "INFO: Query finished. [astroquery.utils.tap.core]\n",
      "INFO: Query finished. [astroquery.utils.tap.core]\n",
      "INFO: Query finished. [astroquery.utils.tap.core]\n",
      "INFO: Query finished. [astroquery.utils.tap.core]\n",
      "INFO: Query finished. [astroquery.utils.tap.core]\n",
      "INFO: Query finished. [astroquery.utils.tap.core]\n",
      "INFO: Query finished. [astroquery.utils.tap.core]\n",
      "INFO: Query finished. [astroquery.utils.tap.core]\n",
      "INFO: Query finished. [astroquery.utils.tap.core]\n",
      "INFO: Query finished. [astroquery.utils.tap.core]\n",
      "INFO: Query finished. [astroquery.utils.tap.core]\n",
      "INFO: Query finished. [astroquery.utils.tap.core]\n",
      "INFO: Query finished. [astroquery.utils.tap.core]\n",
      "INFO: Query finished. [astroquery.utils.tap.core]\n",
      "INFO: Query finished. [astroquery.utils.tap.core]\n",
      "INFO: Query finished. [astroquery.utils.tap.core]\n",
      "INFO: Query finished. [astroquery.utils.tap.core]\n",
      "INFO: Query finished. [astroquery.utils.tap.core]\n",
      "INFO: Query finished. [astroquery.utils.tap.core]\n",
      "INFO: Query finished. [astroquery.utils.tap.core]\n",
      "INFO: Query finished. [astroquery.utils.tap.core]\n",
      "INFO: Query finished. [astroquery.utils.tap.core]\n",
      "INFO: Query finished. [astroquery.utils.tap.core]\n",
      "INFO: Query finished. [astroquery.utils.tap.core]\n",
      "INFO: Query finished. [astroquery.utils.tap.core]\n",
      "INFO: Query finished. [astroquery.utils.tap.core]\n",
      "INFO: Query finished. [astroquery.utils.tap.core]\n",
      "INFO: Query finished. [astroquery.utils.tap.core]\n",
      "INFO: Query finished. [astroquery.utils.tap.core]\n",
      "INFO: Query finished. [astroquery.utils.tap.core]\n",
      "INFO: Query finished. [astroquery.utils.tap.core]\n",
      "INFO: Query finished. [astroquery.utils.tap.core]\n",
      "INFO: Query finished. [astroquery.utils.tap.core]\n",
      "INFO: Query finished. [astroquery.utils.tap.core]\n",
      "INFO: Query finished. [astroquery.utils.tap.core]\n",
      "INFO: Query finished. [astroquery.utils.tap.core]\n",
      "INFO: Query finished. [astroquery.utils.tap.core]\n",
      "INFO: Query finished. [astroquery.utils.tap.core]\n",
      "INFO: Query finished. [astroquery.utils.tap.core]\n",
      "INFO: Query finished. [astroquery.utils.tap.core]\n",
      "INFO: Query finished. [astroquery.utils.tap.core]\n",
      "INFO: Query finished. [astroquery.utils.tap.core]\n",
      "INFO: Query finished. [astroquery.utils.tap.core]\n",
      "INFO: Query finished. [astroquery.utils.tap.core]\n",
      "INFO: Query finished. [astroquery.utils.tap.core]\n",
      "INFO: Query finished. [astroquery.utils.tap.core]\n",
      "INFO: Query finished. [astroquery.utils.tap.core]\n",
      "INFO: Query finished. [astroquery.utils.tap.core]\n",
      "INFO: Query finished. [astroquery.utils.tap.core]\n",
      "INFO: Query finished. [astroquery.utils.tap.core]\n",
      "INFO: Query finished. [astroquery.utils.tap.core]\n",
      "INFO: Query finished. [astroquery.utils.tap.core]\n",
      "INFO: Query finished. [astroquery.utils.tap.core]\n",
      "INFO: Query finished. [astroquery.utils.tap.core]\n",
      "INFO: Query finished. [astroquery.utils.tap.core]\n",
      "INFO: Query finished. [astroquery.utils.tap.core]\n",
      "INFO: Query finished. [astroquery.utils.tap.core]\n",
      "INFO: Query finished. [astroquery.utils.tap.core]\n",
      "INFO: Query finished. [astroquery.utils.tap.core]\n",
      "INFO: Query finished. [astroquery.utils.tap.core]\n",
      "INFO: Query finished. [astroquery.utils.tap.core]\n",
      "INFO: Query finished. [astroquery.utils.tap.core]\n",
      "INFO: Query finished. [astroquery.utils.tap.core]\n",
      "INFO: Query finished. [astroquery.utils.tap.core]\n",
      "INFO: Query finished. [astroquery.utils.tap.core]\n",
      "INFO: Query finished. [astroquery.utils.tap.core]\n",
      "INFO: Query finished. [astroquery.utils.tap.core]\n",
      "INFO: Query finished. [astroquery.utils.tap.core]\n",
      "INFO: Query finished. [astroquery.utils.tap.core]\n",
      "INFO: Query finished. [astroquery.utils.tap.core]\n",
      "INFO: Query finished. [astroquery.utils.tap.core]\n",
      "INFO: Query finished. [astroquery.utils.tap.core]\n",
      "INFO: Query finished. [astroquery.utils.tap.core]\n",
      "INFO: Query finished. [astroquery.utils.tap.core]\n",
      "INFO: Query finished. [astroquery.utils.tap.core]\n"
     ]
    },
    {
     "name": "stdout",
     "output_type": "stream",
     "text": [
      "INFO: Query finished. [astroquery.utils.tap.core]\n",
      "INFO: Query finished. [astroquery.utils.tap.core]\n",
      "INFO: Query finished. [astroquery.utils.tap.core]\n",
      "INFO: Query finished. [astroquery.utils.tap.core]\n",
      "INFO: Query finished. [astroquery.utils.tap.core]\n",
      "INFO: Query finished. [astroquery.utils.tap.core]\n",
      "INFO: Query finished. [astroquery.utils.tap.core]\n",
      "INFO: Query finished. [astroquery.utils.tap.core]\n",
      "INFO: Query finished. [astroquery.utils.tap.core]\n",
      "INFO: Query finished. [astroquery.utils.tap.core]\n",
      "INFO: Query finished. [astroquery.utils.tap.core]\n",
      "INFO: Query finished. [astroquery.utils.tap.core]\n",
      "INFO: Query finished. [astroquery.utils.tap.core]\n",
      "INFO: Query finished. [astroquery.utils.tap.core]\n",
      "INFO: Query finished. [astroquery.utils.tap.core]\n",
      "INFO: Query finished. [astroquery.utils.tap.core]\n",
      "INFO: Query finished. [astroquery.utils.tap.core]\n",
      "INFO: Query finished. [astroquery.utils.tap.core]\n",
      "INFO: Query finished. [astroquery.utils.tap.core]\n",
      "INFO: Query finished. [astroquery.utils.tap.core]\n",
      "INFO: Query finished. [astroquery.utils.tap.core]\n",
      "INFO: Query finished. [astroquery.utils.tap.core]\n",
      "INFO: Query finished. [astroquery.utils.tap.core]\n",
      "INFO: Query finished. [astroquery.utils.tap.core]\n",
      "INFO: Query finished. [astroquery.utils.tap.core]\n",
      "INFO: Query finished. [astroquery.utils.tap.core]\n",
      "INFO: Query finished. [astroquery.utils.tap.core]\n",
      "INFO: Query finished. [astroquery.utils.tap.core]\n",
      "INFO: Query finished. [astroquery.utils.tap.core]\n",
      "INFO: Query finished. [astroquery.utils.tap.core]\n",
      "INFO: Query finished. [astroquery.utils.tap.core]\n",
      "INFO: Query finished. [astroquery.utils.tap.core]\n",
      "INFO: Query finished. [astroquery.utils.tap.core]\n",
      "INFO: Query finished. [astroquery.utils.tap.core]\n",
      "INFO: Query finished. [astroquery.utils.tap.core]\n",
      "INFO: Query finished. [astroquery.utils.tap.core]\n",
      "INFO: Query finished. [astroquery.utils.tap.core]\n",
      "INFO: Query finished. [astroquery.utils.tap.core]\n",
      "INFO: Query finished. [astroquery.utils.tap.core]\n",
      "INFO: Query finished. [astroquery.utils.tap.core]\n",
      "INFO: Query finished. [astroquery.utils.tap.core]\n",
      "INFO: Query finished. [astroquery.utils.tap.core]\n",
      "INFO: Query finished. [astroquery.utils.tap.core]\n",
      "INFO: Query finished. [astroquery.utils.tap.core]\n",
      "INFO: Query finished. [astroquery.utils.tap.core]\n",
      "INFO: Query finished. [astroquery.utils.tap.core]\n",
      "INFO: Query finished. [astroquery.utils.tap.core]\n",
      "INFO: Query finished. [astroquery.utils.tap.core]\n",
      "INFO: Query finished. [astroquery.utils.tap.core]\n",
      "INFO: Query finished. [astroquery.utils.tap.core]\n",
      "INFO: Query finished. [astroquery.utils.tap.core]\n",
      "INFO: Query finished. [astroquery.utils.tap.core]\n",
      "INFO: Query finished. [astroquery.utils.tap.core]\n",
      "INFO: Query finished. [astroquery.utils.tap.core]\n",
      "INFO: Query finished. [astroquery.utils.tap.core]\n",
      "INFO: Query finished. [astroquery.utils.tap.core]\n",
      "INFO: Query finished. [astroquery.utils.tap.core]\n",
      "INFO: Query finished. [astroquery.utils.tap.core]\n",
      "INFO: Query finished. [astroquery.utils.tap.core]\n",
      "INFO: Query finished. [astroquery.utils.tap.core]\n",
      "INFO: Query finished. [astroquery.utils.tap.core]\n",
      "INFO: Query finished. [astroquery.utils.tap.core]\n",
      "INFO: Query finished. [astroquery.utils.tap.core]\n",
      "INFO: Query finished. [astroquery.utils.tap.core]\n",
      "INFO: Query finished. [astroquery.utils.tap.core]\n",
      "INFO: Query finished. [astroquery.utils.tap.core]\n",
      "INFO: Query finished. [astroquery.utils.tap.core]\n",
      "INFO: Query finished. [astroquery.utils.tap.core]\n",
      "INFO: Query finished. [astroquery.utils.tap.core]\n"
     ]
    }
   ],
   "source": [
    "# define the search box\n",
    "width = u.Quantity(0.05, u.deg)\n",
    "height = u.Quantity(0.05, u.deg)\n",
    "\n",
    "rs = []\n",
    "for i in range(len(RA)):\n",
    "    query_success=0\n",
    "    while query_success==0:\n",
    "        #print(ra[i],dec[i])\n",
    "        try:\n",
    "            r = Gaia.query_object_async(coordinate=coord.SkyCoord(ra=RA[i], dec=DEC[i], unit=(u.degree, u.degree),\n",
    "                                                          frame='icrs'), width=width, height=height)\n",
    "            rs.append(r)\n",
    "            query_success=1\n",
    "        except TimeoutError:\n",
    "            pass"
   ]
  },
  {
   "cell_type": "code",
   "execution_count": 34,
   "id": "52b56552",
   "metadata": {},
   "outputs": [
    {
     "data": {
      "image/png": "[encoded data removed]",
      "text/plain": [
       "<Figure size 300x300 with 1 Axes>"
      ]
     },
     "metadata": {},
     "output_type": "display_data"
    },
    {
     "data": {
      "image/png": "[encoded data removed]",
      "text/plain": [
       "<Figure size 300x300 with 1 Axes>"
      ]
     },
     "metadata": {},
     "output_type": "display_data"
    },
    {
     "data": {
      "image/png": "[encoded data removed]",
      "text/plain": [
       "<Figure size 300x300 with 1 Axes>"
      ]
     },
     "metadata": {},
     "output_type": "display_data"
    },
    {
     "data": {
      "image/png": "[encoded data removed]",
      "text/plain": [
       "<Figure size 300x300 with 1 Axes>"
      ]
     },
     "metadata": {},
     "output_type": "display_data"
    },
    {
     "data": {
      "image/png": "[encoded data removed]",
      "text/plain": [
       "<Figure size 300x300 with 1 Axes>"
      ]
     },
     "metadata": {},
     "output_type": "display_data"
    },
    {
     "data": {
      "image/png": "[encoded data removed]",
      "text/plain": [
       "<Figure size 300x300 with 1 Axes>"
      ]
     },
     "metadata": {},
     "output_type": "display_data"
    },
    {
     "data": {
      "image/png": "[encoded data removed]",
      "text/plain": [
       "<Figure size 300x300 with 1 Axes>"
      ]
     },
     "metadata": {},
     "output_type": "display_data"
    },
    {
     "data": {
      "image/png": "[encoded data removed]",
      "text/plain": [
       "<Figure size 300x300 with 1 Axes>"
      ]
     },
     "metadata": {},
     "output_type": "display_data"
    },
    {
     "data": {
      "image/png": "[encoded data removed]",
      "text/plain": [
       "<Figure size 300x300 with 1 Axes>"
      ]
     },
     "metadata": {},
     "output_type": "display_data"
    },
    {
     "data": {
      "image/png": "[encoded data removed]",
      "text/plain": [
       "<Figure size 300x300 with 1 Axes>"
      ]
     },
     "metadata": {},
     "output_type": "display_data"
    },
    {
     "data": {
      "image/png": "[encoded data removed]",
      "text/plain": [
       "<Figure size 300x300 with 1 Axes>"
      ]
     },
     "metadata": {},
     "output_type": "display_data"
    },
    {
     "data": {
      "image/png": "[encoded data removed]",
      "text/plain": [
       "<Figure size 300x300 with 1 Axes>"
      ]
     },
     "metadata": {},
     "output_type": "display_data"
    },
    {
     "data": {
      "image/png": "[encoded data removed]",
      "text/plain": [
       "<Figure size 300x300 with 1 Axes>"
      ]
     },
     "metadata": {},
     "output_type": "display_data"
    },
    {
     "data": {
      "image/png": "[encoded data removed]",
      "text/plain": [
       "<Figure size 300x300 with 1 Axes>"
      ]
     },
     "metadata": {},
     "output_type": "display_data"
    },
    {
     "data": {
      "image/png": "[encoded data removed]",
      "text/plain": [
       "<Figure size 300x300 with 1 Axes>"
      ]
     },
     "metadata": {},
     "output_type": "display_data"
    },
    {
     "data": {
      "image/png": "[encoded data removed]",
      "text/plain": [
       "<Figure size 300x300 with 1 Axes>"
      ]
     },
     "metadata": {},
     "output_type": "display_data"
    },
    {
     "data": {
      "image/png": "[encoded data removed]",
      "text/plain": [
       "<Figure size 300x300 with 1 Axes>"
      ]
     },
     "metadata": {},
     "output_type": "display_data"
    },
    {
     "data": {
      "image/png": "[encoded data removed]",
      "text/plain": [
       "<Figure size 300x300 with 1 Axes>"
      ]
     },
     "metadata": {},
     "output_type": "display_data"
    },
    {
     "data": {
      "image/png": "[encoded data removed]",
      "text/plain": [
       "<Figure size 300x300 with 1 Axes>"
      ]
     },
     "metadata": {},
     "output_type": "display_data"
    },
    {
     "data": {
      "image/png": "[encoded data removed]",
      "text/plain": [
       "<Figure size 300x300 with 1 Axes>"
      ]
     },
     "metadata": {},
     "output_type": "display_data"
    },
    {
     "data": {
      "image/png": "[encoded data removed]",
      "text/plain": [
       "<Figure size 300x300 with 1 Axes>"
      ]
     },
     "metadata": {},
     "output_type": "display_data"
    },
    {
     "data": {
      "image/png": "[encoded data removed]",
      "text/plain": [
       "<Figure size 300x300 with 1 Axes>"
      ]
     },
     "metadata": {},
     "output_type": "display_data"
    },
    {
     "data": {
      "image/png": "[encoded data removed]",
      "text/plain": [
       "<Figure size 300x300 with 1 Axes>"
      ]
     },
     "metadata": {},
     "output_type": "display_data"
    },
    {
     "data": {
      "image/png": "[encoded data removed]",
      "text/plain": [
       "<Figure size 300x300 with 1 Axes>"
      ]
     },
     "metadata": {},
     "output_type": "display_data"
    },
    {
     "data": {
      "image/png": "[encoded data removed]",
      "text/plain": [
       "<Figure size 300x300 with 1 Axes>"
      ]
     },
     "metadata": {},
     "output_type": "display_data"
    },
    {
     "data": {
      "image/png": "[encoded data removed]",
      "text/plain": [
       "<Figure size 300x300 with 1 Axes>"
      ]
     },
     "metadata": {},
     "output_type": "display_data"
    },
    {
     "data": {
      "image/png": "[encoded data removed]",
      "text/plain": [
       "<Figure size 300x300 with 1 Axes>"
      ]
     },
     "metadata": {},
     "output_type": "display_data"
    },
    {
     "data": {
      "image/png": "[encoded data removed]",
      "text/plain": [
       "<Figure size 300x300 with 1 Axes>"
      ]
     },
     "metadata": {},
     "output_type": "display_data"
    },
    {
     "data": {
      "image/png": "[encoded data removed]",
      "text/plain": [
       "<Figure size 300x300 with 1 Axes>"
      ]
     },
     "metadata": {},
     "output_type": "display_data"
    },
    {
     "data": {
      "image/png": "[encoded data removed]",
      "text/plain": [
       "<Figure size 300x300 with 1 Axes>"
      ]
     },
     "metadata": {},
     "output_type": "display_data"
    },
    {
     "data": {
      "image/png": "[encoded data removed]",
      "text/plain": [
       "<Figure size 300x300 with 1 Axes>"
      ]
     },
     "metadata": {},
     "output_type": "display_data"
    },
    {
     "data": {
      "image/png": "[encoded data removed]",
      "text/plain": [
       "<Figure size 300x300 with 1 Axes>"
      ]
     },
     "metadata": {},
     "output_type": "display_data"
    },
    {
     "data": {
      "image/png": "[encoded data removed]",
      "text/plain": [
       "<Figure size 300x300 with 1 Axes>"
      ]
     },
     "metadata": {},
     "output_type": "display_data"
    },
    {
     "data": {
      "image/png": "[encoded data removed]",
      "text/plain": [
       "<Figure size 300x300 with 1 Axes>"
      ]
     },
     "metadata": {},
     "output_type": "display_data"
    },
    {
     "data": {
      "image/png": "[encoded data removed]",
      "text/plain": [
       "<Figure size 300x300 with 1 Axes>"
      ]
     },
     "metadata": {},
     "output_type": "display_data"
    },
    {
     "data": {
      "image/png": "[encoded data removed]",
      "text/plain": [
       "<Figure size 300x300 with 1 Axes>"
      ]
     },
     "metadata": {},
     "output_type": "display_data"
    },
    {
     "data": {
      "image/png": "[encoded data removed]",
      "text/plain": [
       "<Figure size 300x300 with 1 Axes>"
      ]
     },
     "metadata": {},
     "output_type": "display_data"
    },
    {
     "data": {
      "image/png": "[encoded data removed]",
      "text/plain": [
       "<Figure size 300x300 with 1 Axes>"
      ]
     },
     "metadata": {},
     "output_type": "display_data"
    },
    {
     "data": {
      "image/png": "[encoded data removed]",
      "text/plain": [
       "<Figure size 300x300 with 1 Axes>"
      ]
     },
     "metadata": {},
     "output_type": "display_data"
    },
    {
     "data": {
      "image/png": "[encoded data removed]",
      "text/plain": [
       "<Figure size 300x300 with 1 Axes>"
      ]
     },
     "metadata": {},
     "output_type": "display_data"
    },
    {
     "data": {
      "image/png": "[encoded data removed]",
      "text/plain": [
       "<Figure size 300x300 with 1 Axes>"
      ]
     },
     "metadata": {},
     "output_type": "display_data"
    },
    {
     "data": {
      "image/png": "[encoded data removed]",
      "text/plain": [
       "<Figure size 300x300 with 1 Axes>"
      ]
     },
     "metadata": {},
     "output_type": "display_data"
    },
    {
     "data": {
      "image/png": "[encoded data removed]",
      "text/plain": [
       "<Figure size 300x300 with 1 Axes>"
      ]
     },
     "metadata": {},
     "output_type": "display_data"
    },
    {
     "data": {
      "image/png": "[encoded data removed]",
      "text/plain": [
       "<Figure size 300x300 with 1 Axes>"
      ]
     },
     "metadata": {},
     "output_type": "display_data"
    },
    {
     "data": {
      "image/png": "[encoded data removed]",
      "text/plain": [
       "<Figure size 300x300 with 1 Axes>"
      ]
     },
     "metadata": {},
     "output_type": "display_data"
    },
    {
     "data": {
      "image/png": "[encoded data removed]",
      "text/plain": [
       "<Figure size 300x300 with 1 Axes>"
      ]
     },
     "metadata": {},
     "output_type": "display_data"
    },
    {
     "data": {
      "image/png": "[encoded data removed]",
      "text/plain": [
       "<Figure size 300x300 with 1 Axes>"
      ]
     },
     "metadata": {},
     "output_type": "display_data"
    },
    {
     "data": {
      "image/png": "[encoded data removed]",
      "text/plain": [
       "<Figure size 300x300 with 1 Axes>"
      ]
     },
     "metadata": {},
     "output_type": "display_data"
    },
    {
     "data": {
      "image/png": "[encoded data removed]",
      "text/plain": [
       "<Figure size 300x300 with 1 Axes>"
      ]
     },
     "metadata": {},
     "output_type": "display_data"
    },
    {
     "data": {
      "image/png": "[encoded data removed]",
      "text/plain": [
       "<Figure size 300x300 with 1 Axes>"
      ]
     },
     "metadata": {},
     "output_type": "display_data"
    },
    {
     "data": {
      "image/png": "[encoded data removed]",
      "text/plain": [
       "<Figure size 300x300 with 1 Axes>"
      ]
     },
     "metadata": {},
     "output_type": "display_data"
    },
    {
     "data": {
      "image/png": "[encoded data removed]",
      "text/plain": [
       "<Figure size 300x300 with 1 Axes>"
      ]
     },
     "metadata": {},
     "output_type": "display_data"
    },
    {
     "data": {
      "image/png": "[encoded data removed]",
      "text/plain": [
       "<Figure size 300x300 with 1 Axes>"
      ]
     },
     "metadata": {},
     "output_type": "display_data"
    },
    {
     "data": {
      "image/png": "[encoded data removed]",
      "text/plain": [
       "<Figure size 300x300 with 1 Axes>"
      ]
     },
     "metadata": {},
     "output_type": "display_data"
    },
    {
     "data": {
      "image/png": "[encoded data removed]",
      "text/plain": [
       "<Figure size 300x300 with 1 Axes>"
      ]
     },
     "metadata": {},
     "output_type": "display_data"
    },
    {
     "data": {
      "image/png": "[encoded data removed]",
      "text/plain": [
       "<Figure size 300x300 with 1 Axes>"
      ]
     },
     "metadata": {},
     "output_type": "display_data"
    },
    {
     "data": {
      "image/png": "[encoded data removed]",
      "text/plain": [
       "<Figure size 300x300 with 1 Axes>"
      ]
     },
     "metadata": {},
     "output_type": "display_data"
    },
    {
     "data": {
      "image/png": "[encoded data removed]",
      "text/plain": [
       "<Figure size 300x300 with 1 Axes>"
      ]
     },
     "metadata": {},
     "output_type": "display_data"
    },
    {
     "data": {
      "image/png": "[encoded data removed]",
      "text/plain": [
       "<Figure size 300x300 with 1 Axes>"
      ]
     },
     "metadata": {},
     "output_type": "display_data"
    },
    {
     "data": {
      "image/png": "[encoded data removed]",
      "text/plain": [
       "<Figure size 300x300 with 1 Axes>"
      ]
     },
     "metadata": {},
     "output_type": "display_data"
    },
    {
     "data": {
      "image/png": "[encoded data removed]",
      "text/plain": [
       "<Figure size 300x300 with 1 Axes>"
      ]
     },
     "metadata": {},
     "output_type": "display_data"
    },
    {
     "data": {
      "image/png": "[encoded data removed]",
      "text/plain": [
       "<Figure size 300x300 with 1 Axes>"
      ]
     },
     "metadata": {},
     "output_type": "display_data"
    },
    {
     "data": {
      "image/png": "[encoded data removed]",
      "text/plain": [
       "<Figure size 300x300 with 1 Axes>"
      ]
     },
     "metadata": {},
     "output_type": "display_data"
    },
    {
     "data": {
      "image/png": "[encoded data removed]",
      "text/plain": [
       "<Figure size 300x300 with 1 Axes>"
      ]
     },
     "metadata": {},
     "output_type": "display_data"
    },
    {
     "data": {
      "image/png": "[encoded data removed]",
      "text/plain": [
       "<Figure size 300x300 with 1 Axes>"
      ]
     },
     "metadata": {},
     "output_type": "display_data"
    },
    {
     "data": {
      "image/png": "[encoded data removed]",
      "text/plain": [
       "<Figure size 300x300 with 1 Axes>"
      ]
     },
     "metadata": {},
     "output_type": "display_data"
    },
    {
     "data": {
      "image/png": "[encoded data removed]",
      "text/plain": [
       "<Figure size 300x300 with 1 Axes>"
      ]
     },
     "metadata": {},
     "output_type": "display_data"
    },
    {
     "data": {
      "image/png": "[encoded data removed]",
      "text/plain": [
       "<Figure size 300x300 with 1 Axes>"
      ]
     },
     "metadata": {},
     "output_type": "display_data"
    },
    {
     "data": {
      "image/png": "[encoded data removed]",
      "text/plain": [
       "<Figure size 300x300 with 1 Axes>"
      ]
     },
     "metadata": {},
     "output_type": "display_data"
    },
    {
     "data": {
      "image/png": "[encoded data removed]",
      "text/plain": [
       "<Figure size 300x300 with 1 Axes>"
      ]
     },
     "metadata": {},
     "output_type": "display_data"
    },
    {
     "data": {
      "image/png": "[encoded data removed]",
      "text/plain": [
       "<Figure size 300x300 with 1 Axes>"
      ]
     },
     "metadata": {},
     "output_type": "display_data"
    },
    {
     "data": {
      "image/png": "[encoded data removed]",
      "text/plain": [
       "<Figure size 300x300 with 1 Axes>"
      ]
     },
     "metadata": {},
     "output_type": "display_data"
    },
    {
     "data": {
      "image/png": "[encoded data removed]",
      "text/plain": [
       "<Figure size 300x300 with 1 Axes>"
      ]
     },
     "metadata": {},
     "output_type": "display_data"
    },
    {
     "data": {
      "image/png": "[encoded data removed]",
      "text/plain": [
       "<Figure size 300x300 with 1 Axes>"
      ]
     },
     "metadata": {},
     "output_type": "display_data"
    },
    {
     "data": {
      "image/png": "[encoded data removed]",
      "text/plain": [
       "<Figure size 300x300 with 1 Axes>"
      ]
     },
     "metadata": {},
     "output_type": "display_data"
    },
    {
     "data": {
      "image/png": "[encoded data removed]",
      "text/plain": [
       "<Figure size 300x300 with 1 Axes>"
      ]
     },
     "metadata": {},
     "output_type": "display_data"
    },
    {
     "data": {
      "image/png": "[encoded data removed]",
      "text/plain": [
       "<Figure size 300x300 with 1 Axes>"
      ]
     },
     "metadata": {},
     "output_type": "display_data"
    },
    {
     "data": {
      "image/png": "[encoded data removed]",
      "text/plain": [
       "<Figure size 300x300 with 1 Axes>"
      ]
     },
     "metadata": {},
     "output_type": "display_data"
    },
    {
     "data": {
      "image/png": "[encoded data removed]",
      "text/plain": [
       "<Figure size 300x300 with 1 Axes>"
      ]
     },
     "metadata": {},
     "output_type": "display_data"
    },
    {
     "data": {
      "image/png": "[encoded data removed]",
      "text/plain": [
       "<Figure size 300x300 with 1 Axes>"
      ]
     },
     "metadata": {},
     "output_type": "display_data"
    },
    {
     "data": {
      "image/png": "[encoded data removed]",
      "text/plain": [
       "<Figure size 300x300 with 1 Axes>"
      ]
     },
     "metadata": {},
     "output_type": "display_data"
    },
    {
     "data": {
      "image/png": "[encoded data removed]",
      "text/plain": [
       "<Figure size 300x300 with 1 Axes>"
      ]
     },
     "metadata": {},
     "output_type": "display_data"
    },
    {
     "data": {
      "image/png": "[encoded data removed]",
      "text/plain": [
       "<Figure size 300x300 with 1 Axes>"
      ]
     },
     "metadata": {},
     "output_type": "display_data"
    },
    {
     "data": {
      "image/png": "[encoded data removed]",
      "text/plain": [
       "<Figure size 300x300 with 1 Axes>"
      ]
     },
     "metadata": {},
     "output_type": "display_data"
    },
    {
     "data": {
      "image/png": "[encoded data removed]",
      "text/plain": [
       "<Figure size 300x300 with 1 Axes>"
      ]
     },
     "metadata": {},
     "output_type": "display_data"
    },
    {
     "data": {
      "image/png": "[encoded data removed]",
      "text/plain": [
       "<Figure size 300x300 with 1 Axes>"
      ]
     },
     "metadata": {},
     "output_type": "display_data"
    },
    {
     "data": {
      "image/png": "[encoded data removed]",
      "text/plain": [
       "<Figure size 300x300 with 1 Axes>"
      ]
     },
     "metadata": {},
     "output_type": "display_data"
    },
    {
     "data": {
      "image/png": "[encoded data removed]",
      "text/plain": [
       "<Figure size 300x300 with 1 Axes>"
      ]
     },
     "metadata": {},
     "output_type": "display_data"
    },
    {
     "data": {
      "image/png": "[encoded data removed]",
      "text/plain": [
       "<Figure size 300x300 with 1 Axes>"
      ]
     },
     "metadata": {},
     "output_type": "display_data"
    },
    {
     "data": {
      "image/png": "[encoded data removed]",
      "text/plain": [
       "<Figure size 300x300 with 1 Axes>"
      ]
     },
     "metadata": {},
     "output_type": "display_data"
    },
    {
     "data": {
      "image/png": "[encoded data removed]",
      "text/plain": [
       "<Figure size 300x300 with 1 Axes>"
      ]
     },
     "metadata": {},
     "output_type": "display_data"
    },
    {
     "data": {
      "image/png": "[encoded data removed]",
      "text/plain": [
       "<Figure size 300x300 with 1 Axes>"
      ]
     },
     "metadata": {},
     "output_type": "display_data"
    },
    {
     "data": {
      "image/png": "[encoded data removed]",
      "text/plain": [
       "<Figure size 300x300 with 1 Axes>"
      ]
     },
     "metadata": {},
     "output_type": "display_data"
    },
    {
     "data": {
      "image/png": "[encoded data removed]",
      "text/plain": [
       "<Figure size 300x300 with 1 Axes>"
      ]
     },
     "metadata": {},
     "output_type": "display_data"
    },
    {
     "data": {
      "image/png": "[encoded data removed]",
      "text/plain": [
       "<Figure size 300x300 with 1 Axes>"
      ]
     },
     "metadata": {},
     "output_type": "display_data"
    },
    {
     "data": {
      "image/png": "[encoded data removed]",
      "text/plain": [
       "<Figure size 300x300 with 1 Axes>"
      ]
     },
     "metadata": {},
     "output_type": "display_data"
    },
    {
     "data": {
      "image/png": "[encoded data removed]",
      "text/plain": [
       "<Figure size 300x300 with 1 Axes>"
      ]
     },
     "metadata": {},
     "output_type": "display_data"
    },
    {
     "data": {
      "image/png": "[encoded data removed]",
      "text/plain": [
       "<Figure size 300x300 with 1 Axes>"
      ]
     },
     "metadata": {},
     "output_type": "display_data"
    },
    {
     "data": {
      "image/png": "[encoded data removed]",
      "text/plain": [
       "<Figure size 300x300 with 1 Axes>"
      ]
     },
     "metadata": {},
     "output_type": "display_data"
    },
    {
     "data": {
      "image/png": "[encoded data removed]",
      "text/plain": [
       "<Figure size 300x300 with 1 Axes>"
      ]
     },
     "metadata": {},
     "output_type": "display_data"
    },
    {
     "data": {
      "image/png": "[encoded data removed]",
      "text/plain": [
       "<Figure size 300x300 with 1 Axes>"
      ]
     },
     "metadata": {},
     "output_type": "display_data"
    },
    {
     "data": {
      "image/png": "[encoded data removed]",
      "text/plain": [
       "<Figure size 300x300 with 1 Axes>"
      ]
     },
     "metadata": {},
     "output_type": "display_data"
    },
    {
     "data": {
      "image/png": "[encoded data removed]",
      "text/plain": [
       "<Figure size 300x300 with 1 Axes>"
      ]
     },
     "metadata": {},
     "output_type": "display_data"
    },
    {
     "data": {
      "image/png": "[encoded data removed]",
      "text/plain": [
       "<Figure size 300x300 with 1 Axes>"
      ]
     },
     "metadata": {},
     "output_type": "display_data"
    },
    {
     "data": {
      "image/png": "[encoded data removed]",
      "text/plain": [
       "<Figure size 300x300 with 1 Axes>"
      ]
     },
     "metadata": {},
     "output_type": "display_data"
    },
    {
     "data": {
      "image/png": "[encoded data removed]",
      "text/plain": [
       "<Figure size 300x300 with 1 Axes>"
      ]
     },
     "metadata": {},
     "output_type": "display_data"
    },
    {
     "data": {
      "image/png": "[encoded data removed]",
      "text/plain": [
       "<Figure size 300x300 with 1 Axes>"
      ]
     },
     "metadata": {},
     "output_type": "display_data"
    },
    {
     "data": {
      "image/png": "[encoded data removed]",
      "text/plain": [
       "<Figure size 300x300 with 1 Axes>"
      ]
     },
     "metadata": {},
     "output_type": "display_data"
    },
    {
     "data": {
      "image/png": "[encoded data removed]",
      "text/plain": [
       "<Figure size 300x300 with 1 Axes>"
      ]
     },
     "metadata": {},
     "output_type": "display_data"
    },
    {
     "data": {
      "image/png": "[encoded data removed]",
      "text/plain": [
       "<Figure size 300x300 with 1 Axes>"
      ]
     },
     "metadata": {},
     "output_type": "display_data"
    },
    {
     "data": {
      "image/png": "[encoded data removed]",
      "text/plain": [
       "<Figure size 300x300 with 1 Axes>"
      ]
     },
     "metadata": {},
     "output_type": "display_data"
    },
    {
     "data": {
      "image/png": "[encoded data removed]",
      "text/plain": [
       "<Figure size 300x300 with 1 Axes>"
      ]
     },
     "metadata": {},
     "output_type": "display_data"
    },
    {
     "data": {
      "image/png": "[encoded data removed]",
      "text/plain": [
       "<Figure size 300x300 with 1 Axes>"
      ]
     },
     "metadata": {},
     "output_type": "display_data"
    },
    {
     "data": {
      "image/png": "[encoded data removed]",
      "text/plain": [
       "<Figure size 300x300 with 1 Axes>"
      ]
     },
     "metadata": {},
     "output_type": "display_data"
    },
    {
     "data": {
      "image/png": "[encoded data removed]",
      "text/plain": [
       "<Figure size 300x300 with 1 Axes>"
      ]
     },
     "metadata": {},
     "output_type": "display_data"
    },
    {
     "data": {
      "image/png": "[encoded data removed]",
      "text/plain": [
       "<Figure size 300x300 with 1 Axes>"
      ]
     },
     "metadata": {},
     "output_type": "display_data"
    },
    {
     "data": {
      "image/png": "[encoded data removed]",
      "text/plain": [
       "<Figure size 300x300 with 1 Axes>"
      ]
     },
     "metadata": {},
     "output_type": "display_data"
    },
    {
     "data": {
      "image/png": "[encoded data removed]",
      "text/plain": [
       "<Figure size 300x300 with 1 Axes>"
      ]
     },
     "metadata": {},
     "output_type": "display_data"
    },
    {
     "data": {
      "image/png": "[encoded data removed]",
      "text/plain": [
       "<Figure size 300x300 with 1 Axes>"
      ]
     },
     "metadata": {},
     "output_type": "display_data"
    },
    {
     "data": {
      "image/png": "[encoded data removed]",
      "text/plain": [
       "<Figure size 300x300 with 1 Axes>"
      ]
     },
     "metadata": {},
     "output_type": "display_data"
    },
    {
     "data": {
      "image/png": "[encoded data removed]",
      "text/plain": [
       "<Figure size 300x300 with 1 Axes>"
      ]
     },
     "metadata": {},
     "output_type": "display_data"
    },
    {
     "data": {
      "image/png": "[encoded data removed]",
      "text/plain": [
       "<Figure size 300x300 with 1 Axes>"
      ]
     },
     "metadata": {},
     "output_type": "display_data"
    },
    {
     "data": {
      "image/png": "[encoded data removed]",
      "text/plain": [
       "<Figure size 300x300 with 1 Axes>"
      ]
     },
     "metadata": {},
     "output_type": "display_data"
    },
    {
     "data": {
      "image/png": "[encoded data removed]",
      "text/plain": [
       "<Figure size 300x300 with 1 Axes>"
      ]
     },
     "metadata": {},
     "output_type": "display_data"
    },
    {
     "data": {
      "image/png": "[encoded data removed]",
      "text/plain": [
       "<Figure size 300x300 with 1 Axes>"
      ]
     },
     "metadata": {},
     "output_type": "display_data"
    },
    {
     "data": {
      "image/png": "[encoded data removed]",
      "text/plain": [
       "<Figure size 300x300 with 1 Axes>"
      ]
     },
     "metadata": {},
     "output_type": "display_data"
    },
    {
     "data": {
      "image/png": "[encoded data removed]",
      "text/plain": [
       "<Figure size 300x300 with 1 Axes>"
      ]
     },
     "metadata": {},
     "output_type": "display_data"
    },
    {
     "data": {
      "image/png": "[encoded data removed]",
      "text/plain": [
       "<Figure size 300x300 with 1 Axes>"
      ]
     },
     "metadata": {},
     "output_type": "display_data"
    },
    {
     "data": {
      "image/png": "[encoded data removed]",
      "text/plain": [
       "<Figure size 300x300 with 1 Axes>"
      ]
     },
     "metadata": {},
     "output_type": "display_data"
    },
    {
     "data": {
      "image/png": "[encoded data removed]",
      "text/plain": [
       "<Figure size 300x300 with 1 Axes>"
      ]
     },
     "metadata": {},
     "output_type": "display_data"
    },
    {
     "data": {
      "image/png": "[encoded data removed]",
      "text/plain": [
       "<Figure size 300x300 with 1 Axes>"
      ]
     },
     "metadata": {},
     "output_type": "display_data"
    },
    {
     "data": {
      "image/png": "[encoded data removed]",
      "text/plain": [
       "<Figure size 300x300 with 1 Axes>"
      ]
     },
     "metadata": {},
     "output_type": "display_data"
    },
    {
     "data": {
      "image/png": "[encoded data removed]",
      "text/plain": [
       "<Figure size 300x300 with 1 Axes>"
      ]
     },
     "metadata": {},
     "output_type": "display_data"
    },
    {
     "data": {
      "image/png": "[encoded data removed]",
      "text/plain": [
       "<Figure size 300x300 with 1 Axes>"
      ]
     },
     "metadata": {},
     "output_type": "display_data"
    },
    {
     "data": {
      "image/png": "[encoded data removed]",
      "text/plain": [
       "<Figure size 300x300 with 1 Axes>"
      ]
     },
     "metadata": {},
     "output_type": "display_data"
    },
    {
     "data": {
      "image/png": "[encoded data removed]",
      "text/plain": [
       "<Figure size 300x300 with 1 Axes>"
      ]
     },
     "metadata": {},
     "output_type": "display_data"
    },
    {
     "data": {
      "image/png": "[encoded data removed]",
      "text/plain": [
       "<Figure size 300x300 with 1 Axes>"
      ]
     },
     "metadata": {},
     "output_type": "display_data"
    },
    {
     "data": {
      "image/png": "[encoded data removed]",
      "text/plain": [
       "<Figure size 300x300 with 1 Axes>"
      ]
     },
     "metadata": {},
     "output_type": "display_data"
    },
    {
     "data": {
      "image/png": "[encoded data removed]",
      "text/plain": [
       "<Figure size 300x300 with 1 Axes>"
      ]
     },
     "metadata": {},
     "output_type": "display_data"
    },
    {
     "data": {
      "image/png": "[encoded data removed]",
      "text/plain": [
       "<Figure size 300x300 with 1 Axes>"
      ]
     },
     "metadata": {},
     "output_type": "display_data"
    },
    {
     "data": {
      "image/png": "[encoded data removed]",
      "text/plain": [
       "<Figure size 300x300 with 1 Axes>"
      ]
     },
     "metadata": {},
     "output_type": "display_data"
    },
    {
     "data": {
      "image/png": "[encoded data removed]",
      "text/plain": [
       "<Figure size 300x300 with 1 Axes>"
      ]
     },
     "metadata": {},
     "output_type": "display_data"
    },
    {
     "data": {
      "image/png": "[encoded data removed]",
      "text/plain": [
       "<Figure size 300x300 with 1 Axes>"
      ]
     },
     "metadata": {},
     "output_type": "display_data"
    },
    {
     "data": {
      "image/png": "[encoded data removed]",
      "text/plain": [
       "<Figure size 300x300 with 1 Axes>"
      ]
     },
     "metadata": {},
     "output_type": "display_data"
    },
    {
     "data": {
      "image/png": "[encoded data removed]",
      "text/plain": [
       "<Figure size 300x300 with 1 Axes>"
      ]
     },
     "metadata": {},
     "output_type": "display_data"
    },
    {
     "data": {
      "image/png": "[encoded data removed]",
      "text/plain": [
       "<Figure size 300x300 with 1 Axes>"
      ]
     },
     "metadata": {},
     "output_type": "display_data"
    },
    {
     "data": {
      "image/png": "[encoded data removed]",
      "text/plain": [
       "<Figure size 300x300 with 1 Axes>"
      ]
     },
     "metadata": {},
     "output_type": "display_data"
    },
    {
     "data": {
      "image/png": "[encoded data removed]",
      "text/plain": [
       "<Figure size 300x300 with 1 Axes>"
      ]
     },
     "metadata": {},
     "output_type": "display_data"
    },
    {
     "data": {
      "image/png": "[encoded data removed]",
      "text/plain": [
       "<Figure size 300x300 with 1 Axes>"
      ]
     },
     "metadata": {},
     "output_type": "display_data"
    },
    {
     "data": {
      "image/png": "[encoded data removed]",
      "text/plain": [
       "<Figure size 300x300 with 1 Axes>"
      ]
     },
     "metadata": {},
     "output_type": "display_data"
    },
    {
     "data": {
      "image/png": "[encoded data removed]",
      "text/plain": [
       "<Figure size 300x300 with 1 Axes>"
      ]
     },
     "metadata": {},
     "output_type": "display_data"
    },
    {
     "data": {
      "image/png": "[encoded data removed]",
      "text/plain": [
       "<Figure size 300x300 with 1 Axes>"
      ]
     },
     "metadata": {},
     "output_type": "display_data"
    },
    {
     "data": {
      "image/png": "[encoded data removed]",
      "text/plain": [
       "<Figure size 300x300 with 1 Axes>"
      ]
     },
     "metadata": {},
     "output_type": "display_data"
    },
    {
     "data": {
      "image/png": "[encoded data removed]",
      "text/plain": [
       "<Figure size 300x300 with 1 Axes>"
      ]
     },
     "metadata": {},
     "output_type": "display_data"
    },
    {
     "data": {
      "image/png": "[encoded data removed]",
      "text/plain": [
       "<Figure size 300x300 with 1 Axes>"
      ]
     },
     "metadata": {},
     "output_type": "display_data"
    },
    {
     "data": {
      "image/png": "[encoded data removed]",
      "text/plain": [
       "<Figure size 300x300 with 1 Axes>"
      ]
     },
     "metadata": {},
     "output_type": "display_data"
    },
    {
     "data": {
      "image/png": "[encoded data removed]",
      "text/plain": [
       "<Figure size 300x300 with 1 Axes>"
      ]
     },
     "metadata": {},
     "output_type": "display_data"
    },
    {
     "data": {
      "image/png": "[encoded data removed]",
      "text/plain": [
       "<Figure size 300x300 with 1 Axes>"
      ]
     },
     "metadata": {},
     "output_type": "display_data"
    },
    {
     "data": {
      "image/png": "[encoded data removed]",
      "text/plain": [
       "<Figure size 300x300 with 1 Axes>"
      ]
     },
     "metadata": {},
     "output_type": "display_data"
    },
    {
     "data": {
      "image/png": "[encoded data removed]",
      "text/plain": [
       "<Figure size 300x300 with 1 Axes>"
      ]
     },
     "metadata": {},
     "output_type": "display_data"
    },
    {
     "data": {
      "image/png": "[encoded data removed]",
      "text/plain": [
       "<Figure size 300x300 with 1 Axes>"
      ]
     },
     "metadata": {},
     "output_type": "display_data"
    },
    {
     "data": {
      "image/png": "[encoded data removed]",
      "text/plain": [
       "<Figure size 300x300 with 1 Axes>"
      ]
     },
     "metadata": {},
     "output_type": "display_data"
    },
    {
     "data": {
      "image/png": "[encoded data removed]",
      "text/plain": [
       "<Figure size 300x300 with 1 Axes>"
      ]
     },
     "metadata": {},
     "output_type": "display_data"
    },
    {
     "data": {
      "image/png": "[encoded data removed]",
      "text/plain": [
       "<Figure size 300x300 with 1 Axes>"
      ]
     },
     "metadata": {},
     "output_type": "display_data"
    },
    {
     "data": {
      "image/png": "[encoded data removed]",
      "text/plain": [
       "<Figure size 300x300 with 1 Axes>"
      ]
     },
     "metadata": {},
     "output_type": "display_data"
    },
    {
     "data": {
      "image/png": "[encoded data removed]",
      "text/plain": [
       "<Figure size 300x300 with 1 Axes>"
      ]
     },
     "metadata": {},
     "output_type": "display_data"
    },
    {
     "data": {
      "image/png": "[encoded data removed]",
      "text/plain": [
       "<Figure size 300x300 with 1 Axes>"
      ]
     },
     "metadata": {},
     "output_type": "display_data"
    },
    {
     "data": {
      "image/png": "[encoded data removed]",
      "text/plain": [
       "<Figure size 300x300 with 1 Axes>"
      ]
     },
     "metadata": {},
     "output_type": "display_data"
    },
    {
     "data": {
      "image/png": "[encoded data removed]",
      "text/plain": [
       "<Figure size 300x300 with 1 Axes>"
      ]
     },
     "metadata": {},
     "output_type": "display_data"
    },
    {
     "data": {
      "image/png": "[encoded data removed]",
      "text/plain": [
       "<Figure size 300x300 with 1 Axes>"
      ]
     },
     "metadata": {},
     "output_type": "display_data"
    },
    {
     "data": {
      "image/png": "[encoded data removed]",
      "text/plain": [
       "<Figure size 300x300 with 1 Axes>"
      ]
     },
     "metadata": {},
     "output_type": "display_data"
    },
    {
     "data": {
      "image/png": "[encoded data removed]",
      "text/plain": [
       "<Figure size 300x300 with 1 Axes>"
      ]
     },
     "metadata": {},
     "output_type": "display_data"
    },
    {
     "data": {
      "image/png": "[encoded data removed]",
      "text/plain": [
       "<Figure size 300x300 with 1 Axes>"
      ]
     },
     "metadata": {},
     "output_type": "display_data"
    },
    {
     "data": {
      "image/png": "[encoded data removed]",
      "text/plain": [
       "<Figure size 300x300 with 1 Axes>"
      ]
     },
     "metadata": {},
     "output_type": "display_data"
    },
    {
     "data": {
      "image/png": "[encoded data removed]",
      "text/plain": [
       "<Figure size 300x300 with 1 Axes>"
      ]
     },
     "metadata": {},
     "output_type": "display_data"
    },
    {
     "data": {
      "image/png": "[encoded data removed]",
      "text/plain": [
       "<Figure size 300x300 with 1 Axes>"
      ]
     },
     "metadata": {},
     "output_type": "display_data"
    },
    {
     "data": {
      "image/png": "[encoded data removed]",
      "text/plain": [
       "<Figure size 300x300 with 1 Axes>"
      ]
     },
     "metadata": {},
     "output_type": "display_data"
    },
    {
     "data": {
      "image/png": "[encoded data removed]",
      "text/plain": [
       "<Figure size 300x300 with 1 Axes>"
      ]
     },
     "metadata": {},
     "output_type": "display_data"
    },
    {
     "data": {
      "image/png": "[encoded data removed]",
      "text/plain": [
       "<Figure size 300x300 with 1 Axes>"
      ]
     },
     "metadata": {},
     "output_type": "display_data"
    },
    {
     "data": {
      "image/png": "[encoded data removed]",
      "text/plain": [
       "<Figure size 300x300 with 1 Axes>"
      ]
     },
     "metadata": {},
     "output_type": "display_data"
    },
    {
     "data": {
      "image/png": "[encoded data removed]",
      "text/plain": [
       "<Figure size 300x300 with 1 Axes>"
      ]
     },
     "metadata": {},
     "output_type": "display_data"
    },
    {
     "data": {
      "image/png": "[encoded data removed]",
      "text/plain": [
       "<Figure size 300x300 with 1 Axes>"
      ]
     },
     "metadata": {},
     "output_type": "display_data"
    },
    {
     "data": {
      "image/png": "[encoded data removed]",
      "text/plain": [
       "<Figure size 300x300 with 1 Axes>"
      ]
     },
     "metadata": {},
     "output_type": "display_data"
    },
    {
     "data": {
      "image/png": "[encoded data removed]",
      "text/plain": [
       "<Figure size 300x300 with 1 Axes>"
      ]
     },
     "metadata": {},
     "output_type": "display_data"
    },
    {
     "data": {
      "image/png": "[encoded data removed]",
      "text/plain": [
       "<Figure size 300x300 with 1 Axes>"
      ]
     },
     "metadata": {},
     "output_type": "display_data"
    },
    {
     "data": {
      "image/png": "[encoded data removed]",
      "text/plain": [
       "<Figure size 300x300 with 1 Axes>"
      ]
     },
     "metadata": {},
     "output_type": "display_data"
    },
    {
     "data": {
      "image/png": "[encoded data removed]",
      "text/plain": [
       "<Figure size 300x300 with 1 Axes>"
      ]
     },
     "metadata": {},
     "output_type": "display_data"
    },
    {
     "data": {
      "image/png": "[encoded data removed]",
      "text/plain": [
       "<Figure size 300x300 with 1 Axes>"
      ]
     },
     "metadata": {},
     "output_type": "display_data"
    },
    {
     "data": {
      "image/png": "[encoded data removed]",
      "text/plain": [
       "<Figure size 300x300 with 1 Axes>"
      ]
     },
     "metadata": {},
     "output_type": "display_data"
    },
    {
     "data": {
      "image/png": "[encoded data removed]",
      "text/plain": [
       "<Figure size 300x300 with 1 Axes>"
      ]
     },
     "metadata": {},
     "output_type": "display_data"
    },
    {
     "data": {
      "image/png": "[encoded data removed]",
      "text/plain": [
       "<Figure size 300x300 with 1 Axes>"
      ]
     },
     "metadata": {},
     "output_type": "display_data"
    },
    {
     "data": {
      "image/png": "[encoded data removed]",
      "text/plain": [
       "<Figure size 300x300 with 1 Axes>"
      ]
     },
     "metadata": {},
     "output_type": "display_data"
    },
    {
     "data": {
      "image/png": "[encoded data removed]",
      "text/plain": [
       "<Figure size 300x300 with 1 Axes>"
      ]
     },
     "metadata": {},
     "output_type": "display_data"
    },
    {
     "data": {
      "image/png": "[encoded data removed]",
      "text/plain": [
       "<Figure size 300x300 with 1 Axes>"
      ]
     },
     "metadata": {},
     "output_type": "display_data"
    },
    {
     "data": {
      "image/png": "[encoded data removed]",
      "text/plain": [
       "<Figure size 300x300 with 1 Axes>"
      ]
     },
     "metadata": {},
     "output_type": "display_data"
    },
    {
     "data": {
      "image/png": "[encoded data removed]",
      "text/plain": [
       "<Figure size 300x300 with 1 Axes>"
      ]
     },
     "metadata": {},
     "output_type": "display_data"
    },
    {
     "data": {
      "image/png": "[encoded data removed]",
      "text/plain": [
       "<Figure size 300x300 with 1 Axes>"
      ]
     },
     "metadata": {},
     "output_type": "display_data"
    },
    {
     "data": {
      "image/png": "[encoded data removed]",
      "text/plain": [
       "<Figure size 300x300 with 1 Axes>"
      ]
     },
     "metadata": {},
     "output_type": "display_data"
    },
    {
     "data": {
      "image/png": "[encoded data removed]",
      "text/plain": [
       "<Figure size 300x300 with 1 Axes>"
      ]
     },
     "metadata": {},
     "output_type": "display_data"
    },
    {
     "data": {
      "image/png": "[encoded data removed]",
      "text/plain": [
       "<Figure size 300x300 with 1 Axes>"
      ]
     },
     "metadata": {},
     "output_type": "display_data"
    },
    {
     "data": {
      "image/png": "[encoded data removed]",
      "text/plain": [
       "<Figure size 300x300 with 1 Axes>"
      ]
     },
     "metadata": {},
     "output_type": "display_data"
    },
    {
     "data": {
      "image/png": "[encoded data removed]",
      "text/plain": [
       "<Figure size 300x300 with 1 Axes>"
      ]
     },
     "metadata": {},
     "output_type": "display_data"
    },
    {
     "data": {
      "image/png": "[encoded data removed]",
      "text/plain": [
       "<Figure size 300x300 with 1 Axes>"
      ]
     },
     "metadata": {},
     "output_type": "display_data"
    },
    {
     "data": {
      "image/png": "[encoded data removed]",
      "text/plain": [
       "<Figure size 300x300 with 1 Axes>"
      ]
     },
     "metadata": {},
     "output_type": "display_data"
    },
    {
     "data": {
      "image/png": "[encoded data removed]",
      "text/plain": [
       "<Figure size 300x300 with 1 Axes>"
      ]
     },
     "metadata": {},
     "output_type": "display_data"
    },
    {
     "data": {
      "image/png": "[encoded data removed]",
      "text/plain": [
       "<Figure size 300x300 with 1 Axes>"
      ]
     },
     "metadata": {},
     "output_type": "display_data"
    },
    {
     "data": {
      "image/png": "[encoded data removed]",
      "text/plain": [
       "<Figure size 300x300 with 1 Axes>"
      ]
     },
     "metadata": {},
     "output_type": "display_data"
    },
    {
     "data": {
      "image/png": "[encoded data removed]",
      "text/plain": [
       "<Figure size 300x300 with 1 Axes>"
      ]
     },
     "metadata": {},
     "output_type": "display_data"
    },
    {
     "data": {
      "image/png": "[encoded data removed]",
      "text/plain": [
       "<Figure size 300x300 with 1 Axes>"
      ]
     },
     "metadata": {},
     "output_type": "display_data"
    },
    {
     "data": {
      "image/png": "[encoded data removed]",
      "text/plain": [
       "<Figure size 300x300 with 1 Axes>"
      ]
     },
     "metadata": {},
     "output_type": "display_data"
    },
    {
     "data": {
      "image/png": "[encoded data removed]",
      "text/plain": [
       "<Figure size 300x300 with 1 Axes>"
      ]
     },
     "metadata": {},
     "output_type": "display_data"
    },
    {
     "data": {
      "image/png": "[encoded data removed]",
      "text/plain": [
       "<Figure size 300x300 with 1 Axes>"
      ]
     },
     "metadata": {},
     "output_type": "display_data"
    },
    {
     "data": {
      "image/png": "[encoded data removed]",
      "text/plain": [
       "<Figure size 300x300 with 1 Axes>"
      ]
     },
     "metadata": {},
     "output_type": "display_data"
    },
    {
     "data": {
      "image/png": "[encoded data removed]",
      "text/plain": [
       "<Figure size 300x300 with 1 Axes>"
      ]
     },
     "metadata": {},
     "output_type": "display_data"
    },
    {
     "data": {
      "image/png": "[encoded data removed]",
      "text/plain": [
       "<Figure size 300x300 with 1 Axes>"
      ]
     },
     "metadata": {},
     "output_type": "display_data"
    },
    {
     "data": {
      "image/png": "[encoded data removed]",
      "text/plain": [
       "<Figure size 300x300 with 1 Axes>"
      ]
     },
     "metadata": {},
     "output_type": "display_data"
    },
    {
     "data": {
      "image/png": "[encoded data removed]",
      "text/plain": [
       "<Figure size 300x300 with 1 Axes>"
      ]
     },
     "metadata": {},
     "output_type": "display_data"
    },
    {
     "data": {
      "image/png": "[encoded data removed]",
      "text/plain": [
       "<Figure size 300x300 with 1 Axes>"
      ]
     },
     "metadata": {},
     "output_type": "display_data"
    },
    {
     "data": {
      "image/png": "[encoded data removed]",
      "text/plain": [
       "<Figure size 300x300 with 1 Axes>"
      ]
     },
     "metadata": {},
     "output_type": "display_data"
    },
    {
     "data": {
      "image/png": "[encoded data removed]",
      "text/plain": [
       "<Figure size 300x300 with 1 Axes>"
      ]
     },
     "metadata": {},
     "output_type": "display_data"
    },
    {
     "data": {
      "image/png": "[encoded data removed]",
      "text/plain": [
       "<Figure size 300x300 with 1 Axes>"
      ]
     },
     "metadata": {},
     "output_type": "display_data"
    },
    {
     "data": {
      "image/png": "[encoded data removed]",
      "text/plain": [
       "<Figure size 300x300 with 1 Axes>"
      ]
     },
     "metadata": {},
     "output_type": "display_data"
    },
    {
     "data": {
      "image/png": "[encoded data removed]",
      "text/plain": [
       "<Figure size 300x300 with 1 Axes>"
      ]
     },
     "metadata": {},
     "output_type": "display_data"
    },
    {
     "data": {
      "image/png": "[encoded data removed]",
      "text/plain": [
       "<Figure size 300x300 with 1 Axes>"
      ]
     },
     "metadata": {},
     "output_type": "display_data"
    },
    {
     "data": {
      "image/png": "[encoded data removed]",
      "text/plain": [
       "<Figure size 300x300 with 1 Axes>"
      ]
     },
     "metadata": {},
     "output_type": "display_data"
    },
    {
     "data": {
      "image/png": "[encoded data removed]",
      "text/plain": [
       "<Figure size 300x300 with 1 Axes>"
      ]
     },
     "metadata": {},
     "output_type": "display_data"
    },
    {
     "data": {
      "image/png": "[encoded data removed]",
      "text/plain": [
       "<Figure size 300x300 with 1 Axes>"
      ]
     },
     "metadata": {},
     "output_type": "display_data"
    },
    {
     "data": {
      "image/png": "[encoded data removed]",
      "text/plain": [
       "<Figure size 300x300 with 1 Axes>"
      ]
     },
     "metadata": {},
     "output_type": "display_data"
    },
    {
     "data": {
      "image/png": "[encoded data removed]",
      "text/plain": [
       "<Figure size 300x300 with 1 Axes>"
      ]
     },
     "metadata": {},
     "output_type": "display_data"
    },
    {
     "data": {
      "image/png": "[encoded data removed]",
      "text/plain": [
       "<Figure size 300x300 with 1 Axes>"
      ]
     },
     "metadata": {},
     "output_type": "display_data"
    },
    {
     "data": {
      "image/png": "[encoded data removed]",
      "text/plain": [
       "<Figure size 300x300 with 1 Axes>"
      ]
     },
     "metadata": {},
     "output_type": "display_data"
    },
    {
     "data": {
      "image/png": "[encoded data removed]",
      "text/plain": [
       "<Figure size 300x300 with 1 Axes>"
      ]
     },
     "metadata": {},
     "output_type": "display_data"
    },
    {
     "data": {
      "image/png": "[encoded data removed]",
      "text/plain": [
       "<Figure size 300x300 with 1 Axes>"
      ]
     },
     "metadata": {},
     "output_type": "display_data"
    }
   ],
   "source": [
    "for i in range(len(rs)):\n",
    "    plt.figure(figsize=(3,3))\n",
    "    plt.xticks([]);plt.yticks([]);\n",
    "    \n",
    "    ra_gaia,dec_gaia = np.array(rs[i]['ra']),np.array(rs[i]['dec'])\n",
    "    plt.plot(ra_gaia,dec_gaia,'kx')\n",
    "    \n",
    "    ix_finite = np.where(np.isfinite(ra_gaia) & np.isfinite(dec_gaia))\n",
    "    d = angularSeparation(RA[i],DEC[i],ra_gaia[ix_finite],dec_gaia[ix_finite])    \n",
    "    try:\n",
    "        ix_match = np.argmin(d)\n",
    "    except ValueError:\n",
    "        print(f\"No matching Gaia source for {i}\")\n",
    "        raise\n"
   ]
  },
  {
   "cell_type": "code",
   "execution_count": 35,
   "id": "e2ec67dd",
   "metadata": {},
   "outputs": [
    {
     "name": "stdout",
     "output_type": "stream",
     "text": [
      "GAIA MATCH OFFSET\n",
      "0.5926791977605707 as\n",
      "1.1442319477106622 as\n",
      "0.03909968536724294 as\n",
      "0.19802174920840665 as\n",
      "0.8478770972498241 as\n",
      "0.8098797869089231 as\n",
      "1.9250806251017274 as\n",
      "1.5908848591925264 as\n",
      "0.4794199551081652 as\n",
      "0.39751815896177234 as\n",
      "0.671512553843481 as\n",
      "1.6312408983146782 as\n",
      "0.15500401431584096 as\n",
      "0.5608811519956252 as\n",
      "0.8677919596004022 as\n",
      "11.2042066586135 as\n",
      "3.0601368603186376 as\n",
      "0.20183468393329876 as\n",
      "0.6643960724766047 as\n",
      "6.56024695093869 as\n",
      "0.01815679194417109 as\n",
      "1.5209784756924911 as\n",
      "5.330306061602881 as\n",
      "0.18115164351682445 as\n",
      "0.3250891608692477 as\n",
      "5.176240592187573 as\n",
      "0.6090286050058141 as\n",
      "0.9286519682460648 as\n",
      "0.11980491177205392 as\n",
      "0.3116356507063658 as\n",
      "1.3071821607882022 as\n",
      "1.1603020973025897 as\n",
      "0.4262412535113237 as\n",
      "0.19209648892987144 as\n",
      "2.37025229395401 as\n",
      "0.04401018170058013 as\n",
      "0.03448199885120305 as\n",
      "1.7951966493345042 as\n",
      "3.590697967075277 as\n",
      "1.0894472464413514 as\n",
      "0.9076337943534838 as\n",
      "0.10102789187890829 as\n",
      "0.2718667603516314 as\n",
      "0.5372229804991063 as\n",
      "0.5668735639225906 as\n",
      "1.4023534271968843 as\n",
      "0.6461547679656511 as\n",
      "1.579359321026737 as\n",
      "1.4296159149825745 as\n",
      "0.23536323565225897 as\n",
      "0.0908587552180043 as\n",
      "4.522858912533067 as\n",
      "0.08034223616931274 as\n",
      "2.2075604049782642 as\n",
      "0.056373958916902285 as\n",
      "0.19294146815735636 as\n",
      "1.5920241376568078 as\n",
      "2.243590330753777 as\n",
      "0.8706236050059658 as\n",
      "1.8397393049961968 as\n",
      "1.4988397089079692 as\n",
      "0.6183958397542622 as\n",
      "1.204708012752454 as\n",
      "0.6218530422652193 as\n",
      "0.7216412310049062 as\n",
      "1.1441181898655621 as\n",
      "0.7964433818993196 as\n",
      "0.17323976244405795 as\n",
      "0.3172475798692219 as\n",
      "4.163487417816938 as\n",
      "2.074032761187615 as\n",
      "0.7926896513001401 as\n",
      "0.6994271791253978 as\n",
      "0.04570661740686196 as\n",
      "0.3020921567433043 as\n",
      "0.7909695937362377 as\n",
      "0.20739015932867488 as\n",
      "0.3257384422394752 as\n",
      "0.7835130606534837 as\n",
      "0.08063600054474612 as\n",
      "1.7434630626112477 as\n",
      "0.9761041376394085 as\n",
      "0.019642410557444524 as\n",
      "0.31439178942048424 as\n",
      "0.11409407857421779 as\n",
      "4.533573572714506 as\n",
      "0.6667049701932796 as\n",
      "0.4293445093152016 as\n",
      "0.4222943789182309 as\n",
      "0.056525024700326096 as\n",
      "0.09187657340124397 as\n",
      "0.17513196589280236 as\n",
      "6.099495867889485 as\n",
      "0.6182439058496456 as\n",
      "0.23490626038673137 as\n",
      "2.0773161758014362 as\n",
      "0.012263616795050556 as\n",
      "0.6634275986395398 as\n",
      "0.06856450979305294 as\n",
      "0.1276435775270782 as\n",
      "6.452631024991529 as\n",
      "0.9371794897908469 as\n",
      "0.31688971332799 as\n",
      "0.160384100108473 as\n",
      "1.3995904368847731 as\n",
      "2.507675065020272 as\n",
      "0.27199980502423576 as\n",
      "0.38127964645848134 as\n",
      "0.20663744063173556 as\n",
      "6.695005622995662 as\n",
      "0.40846267242180867 as\n",
      "0.5520702373473662 as\n",
      "1.7464542933063962 as\n",
      "0.016691166382211485 as\n",
      "0.012603255769227748 as\n",
      "0.5737066998579813 as\n",
      "4.3223753929979845 as\n",
      "0.9343307387258029 as\n",
      "0.8887532511720776 as\n",
      "0.2847226230771854 as\n",
      "0.2289613756725481 as\n",
      "0.8160440028575773 as\n",
      "0.7952081153968478 as\n",
      "0.4911502927065418 as\n",
      "3.1758190868797787 as\n",
      "0.11585725850003094 as\n",
      "3.195973853204263 as\n",
      "0.3401008190727935 as\n",
      "1.1162739356152804 as\n",
      "0.46609882368371736 as\n",
      "0.3300911531964841 as\n",
      "0.7286549714530132 as\n",
      "0.2859990859876289 as\n",
      "1.5867416224662976 as\n",
      "0.8628419484452919 as\n",
      "0.7287254517259198 as\n",
      "0.10961326418992869 as\n",
      "0.4969294630953611 as\n",
      "1.3874895883763605 as\n",
      "0.06948147499776633 as\n",
      "0.22615762507982967 as\n",
      "3.691652916232526 as\n",
      "0.1300098138983891 as\n",
      "2.5832017384003474 as\n",
      "0.7083048452048213 as\n",
      "0.016518397630211946 as\n",
      "8.530840237577884 as\n",
      "3.5150097310005095 as\n",
      "0.08237806460118521 as\n",
      "0.24573528970338768 as\n",
      "0.6204686056901766 as\n",
      "0.3144129103571812 as\n",
      "2.78065630277952 as\n",
      "1.7628108338116875 as\n",
      "0.7494611132415738 as\n",
      "0.20787225988116992 as\n",
      "0.22177768661766428 as\n",
      "3.3970854359764573 as\n",
      "0.8810630410595605 as\n",
      "0.9852933407185795 as\n",
      "0.25668018613439114 as\n",
      "1.0593940643999926 as\n",
      "1.2935817156886835 as\n",
      "1.3610667683763693 as\n",
      "1.0431141841880252 as\n",
      "2.5307517745099264 as\n",
      "0.18707795180680825 as\n",
      "0.9262101300942638 as\n",
      "5.595220187675402 as\n",
      "2.1112125161665487 as\n",
      "1.8006685092000871 as\n",
      "1.9831306400999946 as\n",
      "0.38100990525990214 as\n",
      "0.1871958269917515 as\n",
      "0.25401912240968555 as\n",
      "0.527382857380229 as\n",
      "1.3454555523778071 as\n",
      "0.39722328380616495 as\n",
      "5.502639175452206 as\n",
      "0.2830444480464839 as\n",
      "1.8272254061185622 as\n",
      "2.974836222360425 as\n",
      "0.24621414942907702 as\n",
      "0.40936895340566465 as\n",
      "0.12418298893094343 as\n",
      "7.486782712163099 as\n",
      "0.5026945141143744 as\n",
      "0.25133971894548524 as\n",
      "0.9473667513789545 as\n",
      "0.4353426052978679 as\n",
      "0.12602906130339073 as\n",
      "0.2585917149638715 as\n",
      "1.498914477391006 as\n",
      "0.5358734442588512 as\n",
      "0.12526564502498722 as\n",
      "0.0008939317715445109 as\n",
      "1.99348620796392 as\n",
      "6.795956590376081 as\n",
      "2.4472712676179755 as\n",
      "2.7517054058975887 as\n",
      "0.2775263990241207 as\n",
      "0.39408342507052846 as\n",
      "0.15104346979157518 as\n",
      "1.7588983040287134 as\n",
      "0.4419417783392083 as\n",
      "0.43697401689259774 as\n",
      "1.2346088195186253 as\n",
      "0.18455280411430344 as\n",
      "0.1762634298907078 as\n",
      "0.05522046093197249 as\n",
      "0.12092354163422077 as\n",
      "0.6691967420579243 as\n",
      "2.816283624242827 as\n",
      "0.884551210711231 as\n",
      "3.306350747141523 as\n",
      "2.603240278341578 as\n",
      "1.8698459390177007 as\n",
      "0.2624673988326013 as\n",
      "1.017706538288162 as\n",
      "14.951384261954713 as\n",
      "0.09164230313886063 as\n",
      "0.20540838431946368 as\n",
      "0.19355417798179192 as\n",
      "1.147308747390938 as\n",
      "1.8125727215820358 as\n",
      "6.165400485146023 as\n",
      "1.823673276060171 as\n",
      "0.5001357682573933 as\n",
      "0.23405556821683488 as\n",
      "0.1955482908746034 as\n",
      "0.8814746587111258 as\n",
      "0.43216091266433393 as\n",
      "0.28346816249740836 as\n"
     ]
    }
   ],
   "source": [
    "print('GAIA MATCH OFFSET')\n",
    "gaia_match_dist = []\n",
    "for i in range(len(RA)): \n",
    "    ix_match = np.argmin(rs[i][np.where(d*60*60 < 3)]['parallax_over_error'])\n",
    "    ix = ix_finite[0][ix_match]\n",
    "    gaia_match_offset=angularSeparation(RA[i],DEC[i],rs[i][ix]['ra'],rs[i][ix]['dec'])*60*60\n",
    "    gaia_match_dist.append(gaia_match_offset[0])\n",
    "    print(f\"{gaia_match_offset[0]} as\")  "
   ]
  },
  {
   "cell_type": "code",
   "execution_count": 36,
   "id": "84dfd20a",
   "metadata": {},
   "outputs": [
    {
     "name": "stdout",
     "output_type": "stream",
     "text": [
      "GAIA ID & DISTANCES\n",
      "2882017544897587456 @ 212.9437068379279 parsecs\n",
      "2738626591386423424 @ 66.52028268588535 parsecs\n",
      "531375179226880256 @ 1106.187032007378 parsecs\n",
      "2765454164004531328 @ 619.2184950791286 parsecs\n",
      "2765458012295273344 @ 352.2410709682985 parsecs\n",
      "393993847040070272 @ 99.34279123345337 parsecs\n",
      "2849997227971447040 @ 80.78780379784072 parsecs\n",
      "2874319284171715968 @ 100.61938652171298 parsecs\n",
      "2772757154594946560 @ 391.48528876829204 parsecs\n",
      "422688489185463680 @ 109.04312959718462 parsecs\n",
      "2860951829821782016 @ 72.07212056441469 parsecs\n",
      "2848630088340967040 @ 36.84457445706962 parsecs\n",
      "2798013314642147968 @ 97.2886546879917 parsecs\n",
      "2798709374221931264 @ 150.3637463925778 parsecs\n",
      "2753405887385092352 @ 111.8038668926711 parsecs\n",
      "2768048564768256512 @ 12.166368167174484 parsecs\n",
      "383275940831929728 @ 37.214188708983805 parsecs\n",
      "2850360616563900800 @ 423.1974118699687 parsecs\n",
      "2876561050940272256 @ 86.80830802662813 parsecs\n",
      "2856874535763703680 @ 18.84602043888753 parsecs\n",
      "428965463632676736 @ 1788.5198004599943 parsecs\n",
      "2752733879622139392 @ 157.79072391919388 parsecs\n",
      "2876148734080688256 @ 95.58657901842439 parsecs\n",
      "2799315170768977536 @ 832.5978784872156 parsecs\n",
      "378856389416637056 @ 75.54974488721608 parsecs\n",
      "2855790657816672000 @ 32.864352008683696 parsecs\n",
      "382631115915411968 @ 235.35788398388692 parsecs\n",
      "2780345635956589440 @ 197.25791130928494 parsecs\n",
      "2859124926827971328 @ 961.5785559591272 parsecs\n",
      "366858445520163584 @ -- parsecs\n",
      "388531679425970176 @ 104.64531038656854 parsecs\n",
      "2554813368485603072 @ 58.944928766225445 parsecs\n",
      "2543672807437081088 @ 207.02033196935656 parsecs\n",
      "540043144782956032 @ 379.9027133968072 parsecs\n",
      "421234281977001344 @ 68.7057770627224 parsecs\n",
      "428101969045877504 @ 742.4107165002204 parsecs\n",
      "539335505972520320 @ 730.1330548764416 parsecs\n",
      "2807784223505933952 @ 69.21728647580564 parsecs\n",
      "388602146952607360 @ 76.81728096663907 parsecs\n",
      "381494049092365184 @ 104.3632418335299 parsecs\n",
      "381666496323483136 @ 205.0250840148922 parsecs\n",
      "2806061190001468288 @ 462.2577707991381 parsecs\n",
      "2806176943664290432 @ 202.5250061884758 parsecs\n",
      "2553863871476353152 @ 133.7906434121112 parsecs\n",
      "2544054200533202688 @ 233.53327553644786 parsecs\n",
      "2749470907067075072 @ 35.42475777910168 parsecs\n",
      "388450929744571264 @ 152.3138693304077 parsecs\n",
      "2796224099985984768 @ 45.61417250290775 parsecs\n",
      "381205908327930880 @ 87.78196419373776 parsecs\n",
      "381024347173014784 @ 263.38827663365726 parsecs\n",
      "380781325039598976 @ 282.985201395226 parsecs\n",
      "381614342535469696 @ 1393.3425351078004 parsecs\n",
      "388230344519649152 @ 888.0257455033953 parsecs\n",
      "390077936372822912 @ 45.202718416718746 parsecs\n",
      "416131895188354944 @ 358.31386342170094 parsecs\n",
      "2779700948481252864 @ 744.2037329221424 parsecs\n",
      "2779801038399084800 @ 59.914276655882105 parsecs\n",
      "567024713450961280 @ 32.859706593233994 parsecs\n",
      "387554999565609088 @ 97.45123227349569 parsecs\n",
      "387328023430130176 @ 71.2874854414006 parsecs\n",
      "527630414422930944 @ 47.57636635992169 parsecs\n",
      "2801331636438982528 @ 59.40204916149765 parsecs\n",
      "368639899171011968 @ 99.43342886728244 parsecs\n",
      "381335822504421376 @ 145.8091109677612 parsecs\n",
      "2781309637071878912 @ 74.77057927769009 parsecs\n",
      "2810227583156397696 @ 130.9308717708554 parsecs\n",
      "375206521912429184 @ 60.550808607853114 parsecs\n",
      "368025164794830720 @ 209.56775738428723 parsecs\n",
      "375478449178213376 @ 100.14099659121094 parsecs\n",
      "362091963829100672 @ 20.0296725243345 parsecs\n",
      "362222801417874816 @ 129.9292834460709 parsecs\n",
      "2556118763665891200 @ 115.7985804479558 parsecs\n",
      "361602749874195840 @ 97.5446731329735 parsecs\n",
      "417646605594912896 @ 1776.1350303140448 parsecs\n",
      "360881740828565888 @ 248.90567039389018 parsecs\n",
      "414603986339418624 @ 52.95827266397285 parsecs\n",
      "2580936459092052480 @ 271.1577320305259 parsecs\n",
      "375063413602321152 @ 124.07174337155283 parsecs\n",
      "2781770637386074112 @ 48.021157867558756 parsecs\n",
      "538448749845208960 @ 1450.0789908617517 parsecs\n",
      "377308964239635840 @ 167.89905805225703 parsecs\n",
      "2582617711154563968 @ 244.7724682349041 parsecs\n",
      "426867904683226112 @ 3069.9966929222082 parsecs\n",
      "2537303302216650496 @ 351.1910585311902 parsecs\n",
      "426001317721810432 @ 779.4293242626076 parsecs\n",
      "312440217741786624 @ 25.148814345726894 parsecs\n",
      "364446086943838848 @ 130.81141422767908 parsecs\n",
      "2791517743542231936 @ 466.2297321037614 parsecs\n",
      "523373758241015168 @ -- parsecs\n",
      "405273423289073024 @ 1334.0485498383916 parsecs\n",
      "2576413343133240960 @ 269.21150265447255 parsecs\n",
      "370977495250700800 @ 425.5679220467885 parsecs\n",
      "2783610640030934272 @ 28.58608689294664 parsecs\n",
      "424018417222420352 @ 88.21488324400194 parsecs\n",
      "426419441374765056 @ 268.83501439028487 parsecs\n",
      "371518695489690496 @ 52.128701741205134 parsecs\n",
      "404892687325620224 @ -3386.480571594994 parsecs\n",
      "294382148004670848 @ 86.16627841725737 parsecs\n",
      "522471192331961344 @ -3537.585639198313 parsecs\n",
      "2790836664808461824 @ 904.5290326933115 parsecs\n",
      "2790914111658905216 @ 32.535922430108194 parsecs\n",
      "2563887741029435008 @ 124.25267939940932 parsecs\n",
      "2590753311221665408 @ 208.28912168497197 parsecs\n",
      "565332908653457920 @ 964.1074649399932 parsecs\n",
      "320903154445635456 @ 97.4744180741341 parsecs\n",
      "294511581139071104 @ 101.17469655510719 parsecs\n",
      "308588525430308608 @ 162.82953800673445 parsecs\n",
      "320208984651372672 @ 195.92624829194023 parsecs\n",
      "2564579295188311296 @ 766.3232369360934 parsecs\n",
      "2590110126983850752 @ 35.06299970664355 parsecs\n",
      "2787629045792776960 @ 397.9442450766707 parsecs\n",
      "535069366497606656 @ 154.64585320709676 parsecs\n",
      "310361140039987584 @ 28.786654265348698 parsecs\n",
      "398109112898241280 @ 841.3324483076907 parsecs\n",
      "510140276809247232 @ 1066.701506364794 parsecs\n",
      "2535434750924586240 @ 624.4411996534102 parsecs\n",
      "289699156182894592 @ -- parsecs\n",
      "293598501156237568 @ 105.39820776324702 parsecs\n",
      "320784235395946368 @ 79.70293181766388 parsecs\n",
      "396552337574876160 @ 946.9531780058284 parsecs\n",
      "400492162617500032 @ 227.9963737673547 parsecs\n",
      "2593199003039056640 @ 78.79499833112139 parsecs\n",
      "2559203924574351616 @ 279.64298809311254 parsecs\n",
      "2563243221057051392 @ 433.81669786805827 parsecs\n",
      "297159754894750848 @ 43.47053937688552 parsecs\n",
      "398891857800597120 @ 469.94762251076946 parsecs\n",
      "2558274489356717440 @ 68.70239167583415 parsecs\n",
      "2565732652821207296 @ 360.9930635120755 parsecs\n",
      "290368930563348480 @ 47.08499659598357 parsecs\n",
      "291701396922348672 @ 32.91732007120828 parsecs\n",
      "2588783776658721664 @ 455.15332304214536 parsecs\n",
      "289352118530214656 @ 142.9804705622707 parsecs\n",
      "292157698542744192 @ 179.2860298455911 parsecs\n",
      "2560009007603950720 @ 78.52377542365025 parsecs\n",
      "292015376211519744 @ 132.5461120960199 parsecs\n",
      "292721778072496640 @ 94.53329358725811 parsecs\n",
      "350591862478989568 @ 1181.3797301912084 parsecs\n",
      "96268741297988352 @ 178.49674916313901 parsecs\n",
      "512893557001005824 @ 99.58865650067273 parsecs\n",
      "575455356295585536 @ 1596.180995681293 parsecs\n",
      "304318911325674240 @ 153.08747862297386 parsecs\n",
      "318528007466920192 @ 35.191215864075374 parsecs\n",
      "2511894688010122496 @ 588.159683000924 parsecs\n",
      "2512123111550915968 @ 45.29849371113965 parsecs\n",
      "2574974937110425088 @ 817.3393962099206 parsecs\n",
      "349969706399726336 @ -4802.406370050213 parsecs\n",
      "342743754636574208 @ 20.271099823573824 parsecs\n",
      "342307489038297472 @ 49.30263409616643 parsecs\n",
      "559521508664015616 @ 157.85408080941988 parsecs\n",
      "357580873780641920 @ 567.6192027878017 parsecs\n",
      "357593174566919040 @ 65.80301561289339 parsecs\n",
      "508073328082257920 @ 256.8064780038128 parsecs\n",
      "357799539156256512 @ 54.372414151188984 parsecs\n",
      "572196060232187008 @ 93.50825252177337 parsecs\n",
      "345765551891443968 @ 32.62586575451895 parsecs\n",
      "343271520219619456 @ 328.5483655512731 parsecs\n",
      "522401652514500480 @ 415.8039422794953 parsecs\n",
      "301114663860498304 @ 31.39688212152589 parsecs\n",
      "355881097523271296 @ 86.29626143325979 parsecs\n",
      "94468978202368768 @ -- parsecs\n",
      "2570605997593326848 @ 641.0134322967149 parsecs\n",
      "2567879174396643072 @ 104.0940491149943 parsecs\n",
      "301234544987365760 @ 112.43297381826795 parsecs\n",
      "325724345430058624 @ 108.46287029291562 parsecs\n",
      "558597300422955136 @ 126.87525387760158 parsecs\n",
      "507966473596728960 @ 64.89075447795784 parsecs\n",
      "456973632563469184 @ 803.9249687519065 parsecs\n",
      "575585919005741184 @ 89.98469740386737 parsecs\n",
      "325533923760047104 @ 2998.163605338928 parsecs\n",
      "77631946192345088 @ 26.159358599241937 parsecs\n",
      "345514317781057408 @ 88.95596773491275 parsecs\n",
      "333106054183616000 @ 26.38905317151674 parsecs\n",
      "331954247033853568 @ 310.31652114192616 parsecs\n",
      "100018655768635392 @ 741.7809269141766 parsecs\n",
      "2515215281845469056 @ 134.514122205886 parsecs\n",
      "100864047066928000 @ 84.0554868863025 parsecs\n",
      "2521867808229983744 @ 82.6471558394017 parsecs\n",
      "72533652508688640 @ 225.8178687801707 parsecs\n",
      "458598367152568448 @ 40.982157389569686 parsecs\n",
      "506859093582387328 @ 373.71980339103965 parsecs\n",
      "107774202769886848 @ 39.56075304344301 parsecs\n",
      "332820971434386432 @ 20.32638600652409 parsecs\n",
      "331052784938332800 @ 435.4724207755432 parsecs\n",
      "99310402777136128 @ 943.3890508680448 parsecs\n",
      "324919709076067968 @ 168.9807013577751 parsecs\n",
      "515428206180256768 @ 39.56648166402179 parsecs\n",
      "507491931250128512 @ 300.87891765289885 parsecs\n",
      "546549126883190272 @ 286.58503518181476 parsecs\n",
      "520790043343265024 @ 2224.9122393587827 parsecs\n",
      "72767161290600704 @ 249.70253276450742 parsecs\n",
      "79376016447500416 @ 1621.6090247464397 parsecs\n",
      "2501152115809393408 @ 677.4630594085213 parsecs\n",
      "2516847949238481024 @ 59.80731053612977 parsecs\n",
      "131882708899998720 @ 72.1102944681501 parsecs\n",
      "101826669497182720 @ 732.9922087257049 parsecs\n",
      "516922992237299328 @ 730.6856422550576 parsecs\n",
      "515295882529071104 @ 74.59196970904597 parsecs\n",
      "127366331745660288 @ 28.155683621092404 parsecs\n",
      "127742188627953536 @ 138.44822332400358 parsecs\n",
      "328360768156457216 @ 40.86144091747857 parsecs\n",
      "338738817892664960 @ 212.12904189604953 parsecs\n",
      "568658690809375744 @ 294.5779814626502 parsecs\n",
      "82541063747234688 @ 495.4354589896035 parsecs\n",
      "101487607599098112 @ 101.2693337700867 parsecs\n",
      "134853250020189440 @ 97.65965421677672 parsecs\n",
      "457817164135693184 @ 2006.7436851835023 parsecs\n",
      "82678738923759488 @ 71.46362858606828 parsecs\n",
      "126205105732237952 @ 928.3390099720923 parsecs\n",
      "89993690999491840 @ 474.5082233786576 parsecs\n",
      "466007701130563200 @ 756.2994623884177 parsecs\n",
      "335167943427182208 @ 416.87361462681497 parsecs\n",
      "517465085825225984 @ 69.98668681687161 parsecs\n",
      "133116227803380224 @ 33.06351961155548 parsecs\n",
      "517399012048957312 @ 70.7812043173178 parsecs\n",
      "438189026151353216 @ 29.975656111374526 parsecs\n",
      "126285095203324672 @ 76.29238435092786 parsecs\n",
      "334244594178112384 @ 88.86998225675569 parsecs\n",
      "465610914872522368 @ 702.4814688949252 parsecs\n",
      "33728382471118720 @ 45.08936464093681 parsecs\n",
      "114207651462094080 @ -826.9933594774028 parsecs\n",
      "130049449358768384 @ 1391.2928680624736 parsecs\n",
      "139782120126446464 @ 151.38633969672736 parsecs\n",
      "112710666381083520 @ 178.94683302601345 parsecs\n",
      "33656531962611072 @ 82.18208952859969 parsecs\n",
      "136540274515184768 @ 91.50276641312108 parsecs\n",
      "140499654543450880 @ 48.5131505928725 parsecs\n",
      "140253260859027200 @ 87.44377167896974 parsecs\n",
      "1179848991827328 @ 397.7406280981137 parsecs\n",
      "84173185679633280 @ 390.3499964019931 parsecs\n",
      "20476415498088704 @ 169.36059039021782 parsecs\n",
      "128548268090428800 @ 194.1325218627535 parsecs\n",
      "109398937358328704 @ 162.5624604878131 parsecs\n",
      "137246543233574272 @ 205.06886008931363 parsecs\n"
     ]
    }
   ],
   "source": [
    "d_pc = []\n",
    "print('GAIA ID & DISTANCES')\n",
    "for i in range(len(rs)):\n",
    "    gaia_dr3_source_id=rs[i][ix]['source_id']\n",
    "    par,par_err = rs[i][ix]['parallax'],rs[i][ix]['parallax_error']\n",
    "    gaia_distance=1000/par\n",
    "    d_pc.append(gaia_distance)\n",
    "    print(gaia_dr3_source_id,'@',f'{gaia_distance} parsecs')\n",
    "    "
   ]
  },
  {
   "cell_type": "code",
   "execution_count": 37,
   "id": "c8b30f19",
   "metadata": {},
   "outputs": [],
   "source": [
    "gpoe=[]\n",
    "for i in range(len(rs)):\n",
    "    gaia_parallax_over_err = rs[i][ix]['parallax_over_error']\n",
    "    gpoe.append(gaia_parallax_over_err)\n",
    "#gpoe"
   ]
  },
  {
   "cell_type": "markdown",
   "id": "845c7118",
   "metadata": {},
   "source": [
    "skypos"
   ]
  },
  {
   "cell_type": "markdown",
   "id": "a1ebea03",
   "metadata": {},
   "source": [
    "### TARGET TABLE"
   ]
  },
  {
   "cell_type": "code",
   "execution_count": 40,
   "id": "902745c4",
   "metadata": {
    "scrolled": true
   },
   "outputs": [],
   "source": [
    "target_table = pd.DataFrame({\n",
    "                    'ID': IDs,\n",
    "                    'RA': RA,\n",
    "                    'DEC':DEC,\n",
    "                    'Distance (pc)': d_pc,\n",
    "                    'Simbad Match Offset': simbad_match_dist,\n",
    "                    'Gaia Match Offset': gaia_match_dist,\n",
    "                    'Gaia Parallax-Over-Error': gpoe,\n",
    "                    'Spectral Type': sp_type\n",
    "    })\n"
   ]
  },
  {
   "cell_type": "code",
   "execution_count": 42,
   "id": "861fd48e",
   "metadata": {},
   "outputs": [
    {
     "data": {
      "text/html": [
       "<div>\n",
       "<style scoped>\n",
       "    .dataframe tbody tr th:only-of-type {\n",
       "        vertical-align: middle;\n",
       "    }\n",
       "\n",
       "    .dataframe tbody tr th {\n",
       "        vertical-align: top;\n",
       "    }\n",
       "\n",
       "    .dataframe thead th {\n",
       "        text-align: right;\n",
       "    }\n",
       "</style>\n",
       "<table border=\"1\" class=\"dataframe\">\n",
       "  <thead>\n",
       "    <tr style=\"text-align: right;\">\n",
       "      <th></th>\n",
       "      <th>ID</th>\n",
       "      <th>RA</th>\n",
       "      <th>DEC</th>\n",
       "      <th>Distance (pc)</th>\n",
       "      <th>Simbad Match Offset</th>\n",
       "      <th>Gaia Match Offset</th>\n",
       "      <th>Gaia Parallax-Over-Error</th>\n",
       "      <th>Spectral Type</th>\n",
       "    </tr>\n",
       "  </thead>\n",
       "  <tbody>\n",
       "    <tr>\n",
       "      <th>0</th>\n",
       "      <td>194140883</td>\n",
       "      <td>0.799390</td>\n",
       "      <td>40.874429</td>\n",
       "      <td>212.943707</td>\n",
       "      <td>0.003855</td>\n",
       "      <td>0.592679</td>\n",
       "      <td>253.721527</td>\n",
       "      <td>K4</td>\n",
       "    </tr>\n",
       "    <tr>\n",
       "      <th>1</th>\n",
       "      <td>257468888</td>\n",
       "      <td>0.178464</td>\n",
       "      <td>1.539418</td>\n",
       "      <td>66.520283</td>\n",
       "      <td>0.005839</td>\n",
       "      <td>1.144232</td>\n",
       "      <td>273.424255</td>\n",
       "      <td>K4/5V</td>\n",
       "    </tr>\n",
       "    <tr>\n",
       "      <th>2</th>\n",
       "      <td>378587653</td>\n",
       "      <td>0.787423</td>\n",
       "      <td>71.666174</td>\n",
       "      <td>1106.187032</td>\n",
       "      <td>0.003576</td>\n",
       "      <td>0.039100</td>\n",
       "      <td>41.050968</td>\n",
       "      <td>K1III</td>\n",
       "    </tr>\n",
       "    <tr>\n",
       "      <th>3</th>\n",
       "      <td>405266556</td>\n",
       "      <td>0.278040</td>\n",
       "      <td>11.010090</td>\n",
       "      <td>619.218495</td>\n",
       "      <td>0.005630</td>\n",
       "      <td>0.198022</td>\n",
       "      <td>45.852348</td>\n",
       "      <td>K0</td>\n",
       "    </tr>\n",
       "    <tr>\n",
       "      <th>4</th>\n",
       "      <td>405266970</td>\n",
       "      <td>0.671196</td>\n",
       "      <td>10.906756</td>\n",
       "      <td>352.241071</td>\n",
       "      <td>0.001907</td>\n",
       "      <td>0.847877</td>\n",
       "      <td>141.267365</td>\n",
       "      <td>K3</td>\n",
       "    </tr>\n",
       "    <tr>\n",
       "      <th>...</th>\n",
       "      <td>...</td>\n",
       "      <td>...</td>\n",
       "      <td>...</td>\n",
       "      <td>...</td>\n",
       "      <td>...</td>\n",
       "      <td>...</td>\n",
       "      <td>...</td>\n",
       "      <td>...</td>\n",
       "    </tr>\n",
       "    <tr>\n",
       "      <th>228</th>\n",
       "      <td>371424444</td>\n",
       "      <td>43.098459</td>\n",
       "      <td>19.135403</td>\n",
       "      <td>390.349996</td>\n",
       "      <td>0.000859</td>\n",
       "      <td>0.234056</td>\n",
       "      <td>117.641434</td>\n",
       "      <td>M6.5V</td>\n",
       "    </tr>\n",
       "    <tr>\n",
       "      <th>229</th>\n",
       "      <td>387514723</td>\n",
       "      <td>43.212127</td>\n",
       "      <td>8.610317</td>\n",
       "      <td>169.36059</td>\n",
       "      <td>0.003044</td>\n",
       "      <td>0.195548</td>\n",
       "      <td>186.938675</td>\n",
       "      <td>K1III</td>\n",
       "    </tr>\n",
       "    <tr>\n",
       "      <th>230</th>\n",
       "      <td>436884337</td>\n",
       "      <td>43.060654</td>\n",
       "      <td>28.625115</td>\n",
       "      <td>194.132522</td>\n",
       "      <td>0.001506</td>\n",
       "      <td>0.881475</td>\n",
       "      <td>29.910681</td>\n",
       "      <td>K5</td>\n",
       "    </tr>\n",
       "    <tr>\n",
       "      <th>231</th>\n",
       "      <td>91482401</td>\n",
       "      <td>44.798077</td>\n",
       "      <td>21.978623</td>\n",
       "      <td>162.56246</td>\n",
       "      <td>0.001510</td>\n",
       "      <td>0.432161</td>\n",
       "      <td>58.794544</td>\n",
       "      <td>M4</td>\n",
       "    </tr>\n",
       "    <tr>\n",
       "      <th>232</th>\n",
       "      <td>346671840</td>\n",
       "      <td>44.956023</td>\n",
       "      <td>34.639586</td>\n",
       "      <td>205.06886</td>\n",
       "      <td>0.002152</td>\n",
       "      <td>0.283468</td>\n",
       "      <td>177.245972</td>\n",
       "      <td>K0</td>\n",
       "    </tr>\n",
       "  </tbody>\n",
       "</table>\n",
       "<p>233 rows × 8 columns</p>\n",
       "</div>"
      ],
      "text/plain": [
       "            ID         RA        DEC Distance (pc)  Simbad Match Offset  \\\n",
       "0    194140883   0.799390  40.874429    212.943707             0.003855   \n",
       "1    257468888   0.178464   1.539418     66.520283             0.005839   \n",
       "2    378587653   0.787423  71.666174   1106.187032             0.003576   \n",
       "3    405266556   0.278040  11.010090    619.218495             0.005630   \n",
       "4    405266970   0.671196  10.906756    352.241071             0.001907   \n",
       "..         ...        ...        ...           ...                  ...   \n",
       "228  371424444  43.098459  19.135403    390.349996             0.000859   \n",
       "229  387514723  43.212127   8.610317     169.36059             0.003044   \n",
       "230  436884337  43.060654  28.625115    194.132522             0.001506   \n",
       "231   91482401  44.798077  21.978623     162.56246             0.001510   \n",
       "232  346671840  44.956023  34.639586     205.06886             0.002152   \n",
       "\n",
       "     Gaia Match Offset Gaia Parallax-Over-Error Spectral Type  \n",
       "0             0.592679               253.721527            K4  \n",
       "1             1.144232               273.424255         K4/5V  \n",
       "2             0.039100                41.050968         K1III  \n",
       "3             0.198022                45.852348            K0  \n",
       "4             0.847877               141.267365            K3  \n",
       "..                 ...                      ...           ...  \n",
       "228           0.234056               117.641434         M6.5V  \n",
       "229           0.195548               186.938675         K1III  \n",
       "230           0.881475                29.910681            K5  \n",
       "231           0.432161                58.794544            M4  \n",
       "232           0.283468               177.245972            K0  \n",
       "\n",
       "[233 rows x 8 columns]"
      ]
     },
     "execution_count": 42,
     "metadata": {},
     "output_type": "execute_result"
    }
   ],
   "source": [
    "#target_table.to_csv('target_table_v4.csv')\n",
    "target_table"
   ]
  },
  {
   "cell_type": "code",
   "execution_count": 43,
   "id": "fbd2af7f",
   "metadata": {},
   "outputs": [],
   "source": [
    "path = '/Users/katborski/Documents/GitHub/QPPs/moonbow-main/fast_lc_files/'"
   ]
  },
  {
   "cell_type": "code",
   "execution_count": 44,
   "id": "5be97615",
   "metadata": {},
   "outputs": [],
   "source": [
    "# open data & create list of datafiles\n",
    "event_files = []\n",
    "for visit in os.listdir(path):\n",
    "    vis_path = path+visit\n",
    "    event_files+=[vis_path]\n"
   ]
  },
  {
   "cell_type": "code",
   "execution_count": 82,
   "id": "75aa2858",
   "metadata": {},
   "outputs": [],
   "source": [
    "def match_id_to_spectraltype(filename,target_table):\n",
    "    \n",
    "    \"\"\" Matches distances in target table to TICID in event files\"\"\"\n",
    "    \n",
    "    with fits.open(filename, mode=\"readonly\",ignore_missing_simple=True) as hdulist:\n",
    "        ticid = hdulist[0].header['TICID']\n",
    "    \n",
    "    loc = target_table.loc[target_table['ID']==ticid]\n",
    "    ix = loc.index\n",
    "    st = target_table['Spectral Type'][ix].values\n",
    "    \n",
    "    return st"
   ]
  },
  {
   "cell_type": "code",
   "execution_count": 79,
   "id": "3742efcc",
   "metadata": {},
   "outputs": [],
   "source": [
    "def match_id_to_distance(filename,target_table):\n",
    "    \n",
    "    \"\"\" Matches distances in target table to TICID in event files\"\"\"\n",
    "    \n",
    "    with fits.open(filename, mode=\"readonly\",ignore_missing_simple=True) as hdulist:\n",
    "        ticid = hdulist[0].header['TICID']\n",
    "    \n",
    "    loc = target_table.loc[target_table['ID']==ticid]\n",
    "    ix = loc.index\n",
    "    dist = target_table['Distance (pc)'][ix].values\n",
    "    \n",
    "    return dist, ticid"
   ]
  },
  {
   "cell_type": "code",
   "execution_count": 80,
   "id": "06018186",
   "metadata": {},
   "outputs": [],
   "source": []
  },
  {
   "cell_type": "code",
   "execution_count": 83,
   "id": "97ab5871",
   "metadata": {},
   "outputs": [
    {
     "name": "stdout",
     "output_type": "stream",
     "text": [
      "0\n",
      "1\n",
      "2\n",
      "3\n",
      "fail 4\n",
      "5\n",
      "6\n",
      "7\n",
      "8\n",
      "9\n",
      "10\n",
      "11\n",
      "12\n",
      "13\n",
      "14\n",
      "15\n",
      "16\n",
      "17\n",
      "18\n",
      "19\n",
      "20\n",
      "21\n",
      "22\n",
      "23\n",
      "24\n",
      "25\n",
      "26\n",
      "27\n",
      "28\n",
      "29\n",
      "30\n",
      "31\n",
      "32\n",
      "33\n",
      "34\n",
      "35\n",
      "36\n",
      "37\n",
      "38\n",
      "39\n",
      "40\n",
      "fail 41\n",
      "42\n",
      "43\n",
      "44\n",
      "45\n",
      "46\n",
      "47\n",
      "48\n",
      "49\n",
      "50\n",
      "51\n",
      "52\n",
      "53\n",
      "54\n",
      "55\n",
      "56\n",
      "57\n",
      "58\n",
      "59\n",
      "60\n",
      "61\n",
      "62\n",
      "63\n",
      "64\n",
      "65\n",
      "66\n",
      "67\n",
      "68\n",
      "69\n",
      "70\n",
      "71\n",
      "72\n",
      "73\n",
      "74\n",
      "75\n",
      "76\n",
      "77\n",
      "78\n",
      "79\n",
      "80\n",
      "81\n",
      "82\n",
      "83\n",
      "84\n",
      "85\n",
      "86\n",
      "87\n",
      "88\n",
      "89\n",
      "90\n",
      "91\n",
      "92\n",
      "93\n",
      "94\n",
      "95\n",
      "96\n",
      "97\n",
      "98\n",
      "99\n",
      "100\n",
      "101\n",
      "102\n",
      "103\n",
      "104\n",
      "105\n",
      "106\n",
      "107\n",
      "108\n",
      "109\n",
      "110\n",
      "111\n",
      "112\n",
      "113\n",
      "114\n",
      "115\n",
      "116\n",
      "117\n",
      "118\n",
      "119\n",
      "fail 120\n",
      "121\n",
      "122\n",
      "123\n",
      "124\n",
      "125\n",
      "126\n",
      "127\n",
      "128\n",
      "129\n",
      "130\n",
      "131\n",
      "132\n",
      "133\n",
      "134\n",
      "135\n",
      "136\n",
      "137\n",
      "138\n",
      "139\n",
      "140\n",
      "141\n",
      "fail 142\n",
      "143\n",
      "144\n",
      "145\n",
      "146\n",
      "147\n",
      "148\n",
      "149\n",
      "150\n",
      "151\n",
      "152\n",
      "153\n",
      "154\n",
      "155\n",
      "156\n",
      "157\n",
      "fail 158\n",
      "159\n",
      "160\n",
      "161\n",
      "162\n",
      "163\n",
      "164\n",
      "165\n",
      "166\n",
      "167\n",
      "168\n",
      "169\n",
      "170\n",
      "171\n",
      "172\n",
      "173\n",
      "174\n",
      "175\n",
      "176\n",
      "177\n",
      "178\n",
      "179\n",
      "180\n",
      "181\n",
      "182\n",
      "183\n",
      "184\n",
      "185\n",
      "fail 186\n",
      "187\n",
      "188\n",
      "189\n",
      "190\n",
      "191\n",
      "192\n",
      "193\n",
      "194\n",
      "195\n",
      "196\n",
      "197\n",
      "198\n",
      "199\n",
      "200\n",
      "201\n",
      "202\n",
      "fail 203\n",
      "204\n",
      "205\n",
      "206\n",
      "207\n",
      "208\n",
      "209\n",
      "fail 210\n",
      "211\n",
      "212\n",
      "213\n",
      "214\n",
      "215\n",
      "216\n",
      "217\n",
      "218\n",
      "219\n",
      "220\n",
      "221\n",
      "222\n",
      "223\n",
      "224\n",
      "225\n",
      "226\n",
      "227\n",
      "228\n",
      "229\n",
      "230\n",
      "231\n",
      "232\n",
      "233\n",
      "234\n",
      "235\n",
      "236\n",
      "237\n",
      "238\n",
      "239\n",
      "240\n",
      "241\n",
      "242\n",
      "243\n",
      "244\n",
      "245\n",
      "246\n",
      "247\n",
      "248\n",
      "249\n",
      "250\n",
      "251\n",
      "252\n",
      "253\n",
      "254\n",
      "255\n",
      "fail 256\n",
      "257\n",
      "258\n",
      "259\n",
      "260\n",
      "261\n",
      "262\n",
      "263\n",
      "264\n",
      "265\n",
      "266\n",
      "267\n",
      "268\n",
      "fail 269\n",
      "270\n",
      "271\n",
      "272\n",
      "273\n",
      "274\n",
      "275\n",
      "276\n",
      "fail 277\n",
      "278\n",
      "279\n",
      "280\n",
      "281\n",
      "282\n",
      "283\n",
      "284\n",
      "285\n",
      "286\n",
      "287\n",
      "288\n",
      "289\n",
      "290\n",
      "291\n",
      "292\n",
      "293\n",
      "294\n",
      "295\n",
      "296\n",
      "297\n",
      "fail 298\n",
      "299\n",
      "300\n",
      "301\n",
      "302\n",
      "303\n",
      "304\n",
      "305\n",
      "306\n",
      "307\n",
      "308\n",
      "309\n",
      "310\n",
      "311\n",
      "312\n",
      "313\n",
      "314\n",
      "315\n",
      "316\n",
      "317\n"
     ]
    }
   ],
   "source": [
    "ticids = []\n",
    "sky_pos = []\n",
    "dists = []\n",
    "ontimes = []\n",
    "n_flares=[]\n",
    "max_energies = []\n",
    "max_energy_errors = []\n",
    "min_energies = []\n",
    "min_energy_errors = []\n",
    "sp_ty = []\n",
    "\n",
    "\n",
    "for i in range(len(event_files)):\n",
    "    # 9,19,27 & 31 produce different indexing errors\n",
    "    # 14,15 & 30 produce empty/corrupt fits file errors\n",
    "    flare_data = []\n",
    "    try:\n",
    "\n",
    "        flaring_frame, ontime, skypos = dataClean(event_files[i])\n",
    "        q_frame = generate_Qcurve(flaring_frame)\n",
    "        \n",
    "        dist, ticid = match_id_to_distance(event_files[i],target_table)\n",
    "        st = match_id_to_spectraltype(event_files[i],target_table)\n",
    "        \n",
    "        \n",
    "        ranges,flux = find_flare_ranges(flaring_frame,q_frame,3,quiescence=None) \n",
    "        flare_ranges = refine_flare_ranges(flaring_frame,q_frame,3)\n",
    "            ### flare_ranges contains 2 elements: \n",
    "            ###    [0] = flare_ranges,\n",
    "            ###    [1] = flare_flux\n",
    "        \n",
    "        flare_total_energies = energyCalculation2(flaring_frame,q_frame,flare_ranges,dist,binsize=20)\n",
    "            ### flare_total_energies has 2 elements: \n",
    "            ###     [0] = integrated energy\n",
    "            ###     [1] = integrated energy error\n",
    "        \n",
    "        n_flares_i = len(flare_ranges[0])\n",
    "        n_flares.append(n_flares_i)\n",
    "        \n",
    "        ticids.append(ticid)\n",
    "        sky_pos.append(skypos)\n",
    "        dists.append(dist)\n",
    "        ontimes.append(ontime)\n",
    "        sp_ty.append(st)\n",
    "        \n",
    "        max_flare_energy = max(flare_total_energies[0])\n",
    "        max_energies.append(max_flare_energy)\n",
    "            \n",
    "        max_flare_energy_error = max(flare_total_energies[1])\n",
    "        max_energy_errors.append(max_flare_energy_error)\n",
    "            \n",
    "        min_flare_energy = min(flare_total_energies[0])\n",
    "        min_energies.append(min_flare_energy)\n",
    "            \n",
    "        min_flare_energy_error = min(flare_total_energies[1])\n",
    "        min_energy_errors.append(min_flare_energy_error)\n",
    "        print(i)\n",
    "    except: \n",
    "        print(str('fail'),i)\n",
    "            ### compute basic stats\n",
    "\n",
    "\n",
    "    #flare_total_energies = energycalculation2(flaring_frame,q_frame,flare_ranges,binsize=20)\n",
    "    #qpp_data = qpp_find(flaring_frame,flare_ranges[0],flare_ranges[1])\n",
    "        ### qpp_data contains 5 elements: \n",
    "        ###    [0] = large_flare_data,\n",
    "        ###    [1] = large_flare_time,\n",
    "        ###    [2] = large_flare_det, \n",
    "        ###    [3] = large_flare_params, \n",
    "        ###    [4] = large_flare_fits\n",
    "    #residuals, res_fits = fit_residuals(qpp_data[0],qpp_data[4])\n",
    "    #flare_table = FlareTable(flaring_frame,flare_ranges,flare_total_energies)\n",
    "#print(len(ranges))"
   ]
  },
  {
   "cell_type": "code",
   "execution_count": 89,
   "id": "ba58c269",
   "metadata": {},
   "outputs": [],
   "source": [
    "### Build Table \n",
    "\n",
    "flare_stat_table = pd.DataFrame({\n",
    "                        'TIC': ticids,\n",
    "                        'Position': sky_pos,\n",
    "                        'Distance (pc)': dists,\n",
    "                        'Spectral Type': sp_ty,\n",
    "                        'Time on Source (days)': ontimes,\n",
    "                        'Number of Flares': n_flares,\n",
    "                        'Max Flare Energy (ergs)': max_energies,\n",
    "                        'Max Flare Energy Error': max_energy_errors,\n",
    "                        'Min Flare Energy (ergs)': min_energies,\n",
    "                        'Min Flare Energy Error': min_energy_errors\n",
    "})\n",
    "\n",
    "    "
   ]
  },
  {
   "cell_type": "code",
   "execution_count": 91,
   "id": "5cc90f66",
   "metadata": {},
   "outputs": [
    {
     "data": {
      "text/html": [
       "<div>\n",
       "<style scoped>\n",
       "    .dataframe tbody tr th:only-of-type {\n",
       "        vertical-align: middle;\n",
       "    }\n",
       "\n",
       "    .dataframe tbody tr th {\n",
       "        vertical-align: top;\n",
       "    }\n",
       "\n",
       "    .dataframe thead th {\n",
       "        text-align: right;\n",
       "    }\n",
       "</style>\n",
       "<table border=\"1\" class=\"dataframe\">\n",
       "  <thead>\n",
       "    <tr style=\"text-align: right;\">\n",
       "      <th></th>\n",
       "      <th>TIC</th>\n",
       "      <th>Position</th>\n",
       "      <th>Distance (pc)</th>\n",
       "      <th>Spectral Type</th>\n",
       "      <th>Time on Source (days)</th>\n",
       "      <th>Number of Flares</th>\n",
       "      <th>Max Flare Energy (ergs)</th>\n",
       "      <th>Max Flare Energy Error</th>\n",
       "      <th>Min Flare Energy (ergs)</th>\n",
       "      <th>Min Flare Energy Error</th>\n",
       "    </tr>\n",
       "  </thead>\n",
       "  <tbody>\n",
       "    <tr>\n",
       "      <th>0</th>\n",
       "      <td>266012752</td>\n",
       "      <td>(12.7542496385771, 8.33633067709839)</td>\n",
       "      <td>[271.1577320305259]</td>\n",
       "      <td>[K1V(e)]</td>\n",
       "      <td>24.960567</td>\n",
       "      <td>560</td>\n",
       "      <td>[3.664488281718746e+34]</td>\n",
       "      <td>[4.1233287778818565e+33]</td>\n",
       "      <td>[3.199698455981281e+33]</td>\n",
       "      <td>[2.3788250788537498e+33]</td>\n",
       "    </tr>\n",
       "    <tr>\n",
       "      <th>1</th>\n",
       "      <td>293458637</td>\n",
       "      <td>(27.029884455089, 1.50867768371774)</td>\n",
       "      <td>[588.159683000924]</td>\n",
       "      <td>[M5.5Ve]</td>\n",
       "      <td>26.342948</td>\n",
       "      <td>1124</td>\n",
       "      <td>[4.263578645921744e+35]</td>\n",
       "      <td>[1.8686603785196283e+34]</td>\n",
       "      <td>[1.3171660197712093e+34]</td>\n",
       "      <td>[9.64611310136428e+33]</td>\n",
       "    </tr>\n",
       "    <tr>\n",
       "      <th>2</th>\n",
       "      <td>288296589</td>\n",
       "      <td>(5.44771863412458, 38.4573174051584)</td>\n",
       "      <td>[75.54974488721608]</td>\n",
       "      <td>[K4/5(III)]</td>\n",
       "      <td>28.473467</td>\n",
       "      <td>128</td>\n",
       "      <td>[1.2459495445460516e+32]</td>\n",
       "      <td>[3.7696792275129208e+31]</td>\n",
       "      <td>[3.489136117056669e+31]</td>\n",
       "      <td>[2.51771273609871e+31]</td>\n",
       "    </tr>\n",
       "    <tr>\n",
       "      <th>3</th>\n",
       "      <td>26765575</td>\n",
       "      <td>(25.1065898707156, 26.9591709074573)</td>\n",
       "      <td>[94.53329358725811]</td>\n",
       "      <td>[K4:]</td>\n",
       "      <td>28.473986</td>\n",
       "      <td>235</td>\n",
       "      <td>[2.7952904071500174e+32]</td>\n",
       "      <td>[8.791250114733146e+31]</td>\n",
       "      <td>[6.392264596087648e+31]</td>\n",
       "      <td>[4.713278415343693e+31]</td>\n",
       "    </tr>\n",
       "    <tr>\n",
       "      <th>4</th>\n",
       "      <td>53709089</td>\n",
       "      <td>(17.7367370801548, 61.0921083082539)</td>\n",
       "      <td>[-3537.585639198313]</td>\n",
       "      <td>[K0III]</td>\n",
       "      <td>27.442787</td>\n",
       "      <td>724</td>\n",
       "      <td>[3.2150994985418325e+36]</td>\n",
       "      <td>[5.601173558892835e+35]</td>\n",
       "      <td>[3.690778379958395e+35]</td>\n",
       "      <td>[2.719633273486407e+35]</td>\n",
       "    </tr>\n",
       "    <tr>\n",
       "      <th>...</th>\n",
       "      <td>...</td>\n",
       "      <td>...</td>\n",
       "      <td>...</td>\n",
       "      <td>...</td>\n",
       "      <td>...</td>\n",
       "      <td>...</td>\n",
       "      <td>...</td>\n",
       "      <td>...</td>\n",
       "      <td>...</td>\n",
       "      <td>...</td>\n",
       "    </tr>\n",
       "    <tr>\n",
       "      <th>301</th>\n",
       "      <td>137263695</td>\n",
       "      <td>(31.443173952428, 73.4049187144411)</td>\n",
       "      <td>[126.87525387760158]</td>\n",
       "      <td>[K5]</td>\n",
       "      <td>24.197799</td>\n",
       "      <td>150</td>\n",
       "      <td>[7.640563634531317e+32]</td>\n",
       "      <td>[1.7943839349512513e+32]</td>\n",
       "      <td>[1.0547369742292285e+32]</td>\n",
       "      <td>[7.436558176151733e+31]</td>\n",
       "    </tr>\n",
       "    <tr>\n",
       "      <th>302</th>\n",
       "      <td>22844983</td>\n",
       "      <td>(39.0622862088136, 25.5385663396836)</td>\n",
       "      <td>[928.3390099720923]</td>\n",
       "      <td>[K3/4V]</td>\n",
       "      <td>24.011887</td>\n",
       "      <td>1459</td>\n",
       "      <td>[6.3256969046820545e+35]</td>\n",
       "      <td>[6.377665158758532e+34]</td>\n",
       "      <td>[3.7519768194626662e+34]</td>\n",
       "      <td>[2.7824146293689014e+34]</td>\n",
       "    </tr>\n",
       "    <tr>\n",
       "      <th>303</th>\n",
       "      <td>150972929</td>\n",
       "      <td>(5.50995513930772, 20.7025457905632)</td>\n",
       "      <td>[832.5978784872156]</td>\n",
       "      <td>[K1Vk:]</td>\n",
       "      <td>28.473063</td>\n",
       "      <td>1003</td>\n",
       "      <td>[5.452141743015847e+35]</td>\n",
       "      <td>[6.1955132138185e+34]</td>\n",
       "      <td>[2.931551541386266e+34]</td>\n",
       "      <td>[2.1750252860220627e+34]</td>\n",
       "    </tr>\n",
       "    <tr>\n",
       "      <th>304</th>\n",
       "      <td>354842480</td>\n",
       "      <td>(39.0704028937401, 67.5129329400808)</td>\n",
       "      <td>[69.98668681687161]</td>\n",
       "      <td>[K4/5V]</td>\n",
       "      <td>26.159613</td>\n",
       "      <td>799</td>\n",
       "      <td>[4.1139471070449763e+33]</td>\n",
       "      <td>[4.6090936678904e+32]</td>\n",
       "      <td>[3.5958178321774445e+32]</td>\n",
       "      <td>[2.656785983135242e+32]</td>\n",
       "    </tr>\n",
       "    <tr>\n",
       "      <th>305</th>\n",
       "      <td>622367753</td>\n",
       "      <td>(28.2057186228075, 49.6066347653372)</td>\n",
       "      <td>[54.372414151188984]</td>\n",
       "      <td>[K2]</td>\n",
       "      <td>27.442726</td>\n",
       "      <td>202</td>\n",
       "      <td>[7.6880304534080105e+31]</td>\n",
       "      <td>[2.4267420631388395e+31]</td>\n",
       "      <td>[1.890136580413032e+31]</td>\n",
       "      <td>[1.3766884767609383e+31]</td>\n",
       "    </tr>\n",
       "  </tbody>\n",
       "</table>\n",
       "<p>306 rows × 10 columns</p>\n",
       "</div>"
      ],
      "text/plain": [
       "           TIC                              Position         Distance (pc)  \\\n",
       "0    266012752  (12.7542496385771, 8.33633067709839)   [271.1577320305259]   \n",
       "1    293458637   (27.029884455089, 1.50867768371774)    [588.159683000924]   \n",
       "2    288296589  (5.44771863412458, 38.4573174051584)   [75.54974488721608]   \n",
       "3     26765575  (25.1065898707156, 26.9591709074573)   [94.53329358725811]   \n",
       "4     53709089  (17.7367370801548, 61.0921083082539)  [-3537.585639198313]   \n",
       "..         ...                                   ...                   ...   \n",
       "301  137263695   (31.443173952428, 73.4049187144411)  [126.87525387760158]   \n",
       "302   22844983  (39.0622862088136, 25.5385663396836)   [928.3390099720923]   \n",
       "303  150972929  (5.50995513930772, 20.7025457905632)   [832.5978784872156]   \n",
       "304  354842480  (39.0704028937401, 67.5129329400808)   [69.98668681687161]   \n",
       "305  622367753  (28.2057186228075, 49.6066347653372)  [54.372414151188984]   \n",
       "\n",
       "    Spectral Type  Time on Source (days)  Number of Flares  \\\n",
       "0        [K1V(e)]              24.960567               560   \n",
       "1        [M5.5Ve]              26.342948              1124   \n",
       "2     [K4/5(III)]              28.473467               128   \n",
       "3           [K4:]              28.473986               235   \n",
       "4         [K0III]              27.442787               724   \n",
       "..            ...                    ...               ...   \n",
       "301          [K5]              24.197799               150   \n",
       "302       [K3/4V]              24.011887              1459   \n",
       "303       [K1Vk:]              28.473063              1003   \n",
       "304       [K4/5V]              26.159613               799   \n",
       "305          [K2]              27.442726               202   \n",
       "\n",
       "      Max Flare Energy (ergs)    Max Flare Energy Error  \\\n",
       "0     [3.664488281718746e+34]  [4.1233287778818565e+33]   \n",
       "1     [4.263578645921744e+35]  [1.8686603785196283e+34]   \n",
       "2    [1.2459495445460516e+32]  [3.7696792275129208e+31]   \n",
       "3    [2.7952904071500174e+32]   [8.791250114733146e+31]   \n",
       "4    [3.2150994985418325e+36]   [5.601173558892835e+35]   \n",
       "..                        ...                       ...   \n",
       "301   [7.640563634531317e+32]  [1.7943839349512513e+32]   \n",
       "302  [6.3256969046820545e+35]   [6.377665158758532e+34]   \n",
       "303   [5.452141743015847e+35]     [6.1955132138185e+34]   \n",
       "304  [4.1139471070449763e+33]     [4.6090936678904e+32]   \n",
       "305  [7.6880304534080105e+31]  [2.4267420631388395e+31]   \n",
       "\n",
       "      Min Flare Energy (ergs)    Min Flare Energy Error  \n",
       "0     [3.199698455981281e+33]  [2.3788250788537498e+33]  \n",
       "1    [1.3171660197712093e+34]    [9.64611310136428e+33]  \n",
       "2     [3.489136117056669e+31]    [2.51771273609871e+31]  \n",
       "3     [6.392264596087648e+31]   [4.713278415343693e+31]  \n",
       "4     [3.690778379958395e+35]   [2.719633273486407e+35]  \n",
       "..                        ...                       ...  \n",
       "301  [1.0547369742292285e+32]   [7.436558176151733e+31]  \n",
       "302  [3.7519768194626662e+34]  [2.7824146293689014e+34]  \n",
       "303   [2.931551541386266e+34]  [2.1750252860220627e+34]  \n",
       "304  [3.5958178321774445e+32]   [2.656785983135242e+32]  \n",
       "305   [1.890136580413032e+31]  [1.3766884767609383e+31]  \n",
       "\n",
       "[306 rows x 10 columns]"
      ]
     },
     "execution_count": 91,
     "metadata": {},
     "output_type": "execute_result"
    }
   ],
   "source": [
    "#flare_stat_table.to_csv('flare_stat_table_v2.csv')\n",
    "flare_stat_table"
   ]
  },
  {
   "cell_type": "code",
   "execution_count": 75,
   "id": "ac274692",
   "metadata": {},
   "outputs": [
    {
     "data": {
      "text/plain": [
       "318"
      ]
     },
     "execution_count": 75,
     "metadata": {},
     "output_type": "execute_result"
    }
   ],
   "source": [
    "len(ontimes)"
   ]
  },
  {
   "cell_type": "code",
   "execution_count": 76,
   "id": "b52286b2",
   "metadata": {},
   "outputs": [
    {
     "data": {
      "text/plain": [
       "[24.960567464628674,\n",
       " 26.3429483843341,\n",
       " 28.47346665206385,\n",
       " 28.473985879784646,\n",
       " 25.21742752925432,\n",
       " 27.44278662315682,\n",
       " 24.340583218293617,\n",
       " 28.472989082569452,\n",
       " 24.476692876991137,\n",
       " 26.159694252924236,\n",
       " 27.44272524130643,\n",
       " 27.44305523352344,\n",
       " 24.734140278924514,\n",
       " 24.012052248759602,\n",
       " 24.379140311804136,\n",
       " 27.442535132659792,\n",
       " 28.473889876483202,\n",
       " 28.473741907351844,\n",
       " 27.920286261424913,\n",
       " 24.40884833583695,\n",
       " 27.442956374759046,\n",
       " 24.47691695154018,\n",
       " 27.44269001455624,\n",
       " 28.473880526386395,\n",
       " 24.393635517690832,\n",
       " 26.159734862826006,\n",
       " 28.473194699413337,\n",
       " 27.442834701795324,\n",
       " 27.44284775329866,\n",
       " 28.473912083539375,\n",
       " 24.197851291792663,\n",
       " 27.442546293582957,\n",
       " 28.47374269474783,\n",
       " 27.443121088963192,\n",
       " 24.734348278932067,\n",
       " 24.476980273298242,\n",
       " 27.442546257624596,\n",
       " 24.33080267199863,\n",
       " 27.442974481178638,\n",
       " 24.33394775676105,\n",
       " 24.951209455361308,\n",
       " 24.403721660529218,\n",
       " 25.217331741818317,\n",
       " 28.47391223981996,\n",
       " 24.47679129273004,\n",
       " 24.909852768174943,\n",
       " 27.442487644568278,\n",
       " 24.408207091987574,\n",
       " 27.44283234145139,\n",
       " 28.473652077364,\n",
       " 27.44242615853083,\n",
       " 28.473489951701097,\n",
       " 24.924032498979066,\n",
       " 28.473253290802436,\n",
       " 27.443335325441982,\n",
       " 28.473609000626215,\n",
       " 27.44239811238945,\n",
       " 28.47368388622553,\n",
       " 27.443223700305637,\n",
       " 28.47325947886818,\n",
       " 28.47376716533695,\n",
       " 24.476806368504903,\n",
       " 28.472978908196286,\n",
       " 25.17675840205032,\n",
       " 28.473628311881527,\n",
       " 28.473566078786003,\n",
       " 24.19793572111075,\n",
       " 27.44301526165214,\n",
       " 27.44300562895947,\n",
       " 28.473351723137508,\n",
       " 27.44275889142063,\n",
       " 28.473617268745052,\n",
       " 24.47686626545924,\n",
       " 28.473112052800328,\n",
       " 27.442487012991872,\n",
       " 27.44262124372293,\n",
       " 27.4433141531108,\n",
       " 28.473982434927215,\n",
       " 24.197912752244353,\n",
       " 24.965058018452233,\n",
       " 27.442841579985064,\n",
       " 24.476533474943853,\n",
       " 24.47696144310131,\n",
       " 27.4423196434008,\n",
       " 27.442612912446453,\n",
       " 26.15985246857599,\n",
       " 24.47697596244353,\n",
       " 24.95028756987503,\n",
       " 28.473668385865363,\n",
       " 27.442728697919478,\n",
       " 24.403463278012303,\n",
       " 27.44297214111891,\n",
       " 24.400550285270782,\n",
       " 28.473933859095172,\n",
       " 28.473459744369805,\n",
       " 25.42387108015593,\n",
       " 24.95115124061303,\n",
       " 27.442671275638236,\n",
       " 27.442506856016074,\n",
       " 27.44240276807566,\n",
       " 28.473219638844217,\n",
       " 24.39096732762857,\n",
       " 28.472838588515494,\n",
       " 28.473651901260215,\n",
       " 27.442702272670534,\n",
       " 28.47373549062778,\n",
       " 28.473219465967464,\n",
       " 26.15959526692255,\n",
       " 27.443253763803472,\n",
       " 26.159477570124146,\n",
       " 24.011769788429547,\n",
       " 24.476909841695587,\n",
       " 27.442595086317702,\n",
       " 27.443304541854847,\n",
       " 28.473674362329962,\n",
       " 27.44275395820961,\n",
       " 24.408666983052093,\n",
       " 28.473193201148145,\n",
       " 28.473843751582514,\n",
       " 27.442920907364417,\n",
       " 24.197703856043713,\n",
       " 27.44315240501073,\n",
       " 28.473499186085732,\n",
       " 24.37932658074284,\n",
       " 28.473598668589453,\n",
       " 27.442896884410835,\n",
       " 27.44267294585817,\n",
       " 28.47399188944158,\n",
       " 28.47371593066045,\n",
       " 27.44259438420758,\n",
       " 27.44289370947164,\n",
       " 24.393362616753706,\n",
       " 24.197850334516456,\n",
       " 24.476582428108223,\n",
       " 25.217375875063563,\n",
       " 24.967971071511982,\n",
       " 27.442559555765435,\n",
       " 28.473250051322587,\n",
       " 24.342238890666543,\n",
       " 25.177127475938608,\n",
       " 24.476458355154165,\n",
       " 28.47379362239522,\n",
       " 24.928879210214223,\n",
       " 25.42405967186669,\n",
       " 24.93123108162424,\n",
       " 24.40363589844662,\n",
       " 28.473844187692933,\n",
       " 24.952225682228526,\n",
       " 27.442349426838295,\n",
       " 27.443184335116488,\n",
       " 27.442819013114743,\n",
       " 27.442645915771095,\n",
       " 24.342107395537226,\n",
       " 24.19777319229926,\n",
       " 24.01205785457644,\n",
       " 24.962229099637412,\n",
       " 28.472918556230336,\n",
       " 28.47398115310372,\n",
       " 27.44303526418396,\n",
       " 24.334162064926062,\n",
       " 27.442679349213098,\n",
       " 28.473579228483334,\n",
       " 28.473545938413785,\n",
       " 25.21745882421089,\n",
       " 27.443118638262344,\n",
       " 24.197747743458216,\n",
       " 24.198117003822894,\n",
       " 28.473715905305195,\n",
       " 24.476902448102617,\n",
       " 27.443370122766314,\n",
       " 27.443284082467393,\n",
       " 28.4730970590843,\n",
       " 27.442894903012743,\n",
       " 24.397786999648243,\n",
       " 27.442503618380247,\n",
       " 24.19784228030379,\n",
       " 27.44252410081793,\n",
       " 27.442432905795243,\n",
       " 24.41120074876134,\n",
       " 24.378055162865707,\n",
       " 27.442342261673144,\n",
       " 27.442414466760777,\n",
       " 28.47369959265479,\n",
       " 28.47387150682994,\n",
       " 28.473368649385133,\n",
       " 25.17672643736921,\n",
       " 27.442584758890984,\n",
       " 24.477046920744023,\n",
       " 24.96198324630554,\n",
       " 27.442412574106086,\n",
       " 27.442649509302534,\n",
       " 27.44254996041414,\n",
       " 24.47647599734205,\n",
       " 24.913053597622593,\n",
       " 28.472844930095793,\n",
       " 27.44250902504307,\n",
       " 26.159595867611642,\n",
       " 27.442491237177705,\n",
       " 24.40469571563964,\n",
       " 28.473473822530554,\n",
       " 24.011885662876473,\n",
       " 26.348395992606015,\n",
       " 26.159483474672015,\n",
       " 27.442350503975717,\n",
       " 28.473373639760734,\n",
       " 27.443077468239895,\n",
       " 27.443150761529065,\n",
       " 28.473665682072948,\n",
       " 26.159710259237034,\n",
       " 24.95192762316198,\n",
       " 27.4426408373436,\n",
       " 24.476358476647427,\n",
       " 28.47370466001817,\n",
       " 24.011972150119426,\n",
       " 27.442687239308103,\n",
       " 24.476600602295502,\n",
       " 24.323070010647097,\n",
       " 24.34713662978564,\n",
       " 27.44270260735993,\n",
       " 28.473741547307196,\n",
       " 28.47387101770398,\n",
       " 28.473728759959535,\n",
       " 27.442919384665977,\n",
       " 26.159470800501005,\n",
       " 24.915345478953533,\n",
       " 24.011767820861596,\n",
       " 28.47364603359272,\n",
       " 28.473593775946842,\n",
       " 24.476716813736846,\n",
       " 28.473359370744053,\n",
       " 28.47364750926868,\n",
       " 26.159948498846205,\n",
       " 24.0118353087189,\n",
       " 26.159611665089322,\n",
       " 24.333978269277434,\n",
       " 24.404767882254546,\n",
       " 24.947148565977663,\n",
       " 28.47362839232684,\n",
       " 28.47369978212771,\n",
       " 28.473870773371505,\n",
       " 24.197584703392543,\n",
       " 26.34843532460283,\n",
       " 24.9314403842005,\n",
       " 28.47367294888963,\n",
       " 24.9527169151762,\n",
       " 24.011959606182234,\n",
       " 24.01195727903064,\n",
       " 28.473191123400078,\n",
       " 27.442753487523838,\n",
       " 24.476571393500336,\n",
       " 28.473864174550595,\n",
       " 25.217349574401133,\n",
       " 28.473101780694172,\n",
       " 24.338952660565308,\n",
       " 27.44306334904973,\n",
       " 28.473397801476725,\n",
       " 25.21739954027752,\n",
       " 24.37380662443267,\n",
       " 27.443161355416482,\n",
       " 24.950374099069407,\n",
       " 28.472901862329067,\n",
       " 28.472985416199275,\n",
       " 25.21742370383753,\n",
       " 24.47641132391828,\n",
       " 28.473092937702507,\n",
       " 24.408400000776606,\n",
       " 24.382504581780605,\n",
       " 24.95572878574043,\n",
       " 26.159610794020992,\n",
       " 27.44333104501358,\n",
       " 27.442509089583723,\n",
       " 27.442807682311354,\n",
       " 28.473288029348673,\n",
       " 28.473745760428915,\n",
       " 24.47681964981907,\n",
       " 24.476610871174625,\n",
       " 28.47389771448468,\n",
       " 25.21730948001784,\n",
       " 24.403563885828433,\n",
       " 28.47368964094688,\n",
       " 27.442945137770106,\n",
       " 27.442639071234694,\n",
       " 27.442587849927328,\n",
       " 28.473578071361604,\n",
       " 26.159500413136264,\n",
       " 26.159624626005243,\n",
       " 28.47390278876313,\n",
       " 28.47392652128377,\n",
       " 28.473178080194824,\n",
       " 24.347295267487176,\n",
       " 25.217391255332014,\n",
       " 27.44261488554646,\n",
       " 27.442419458288892,\n",
       " 24.40051591506728,\n",
       " 28.473822796615035,\n",
       " 24.40484377100003,\n",
       " 27.442356907330645,\n",
       " 28.47382584339493,\n",
       " 25.217418807045878,\n",
       " 27.442782787136924,\n",
       " 24.40058626161457,\n",
       " 27.44332964770841,\n",
       " 26.160174577152066,\n",
       " 24.91312685034335,\n",
       " 28.47386931106468,\n",
       " 25.217253238139065,\n",
       " 28.473777901674815,\n",
       " 24.197913459886525,\n",
       " 24.40497114979745,\n",
       " 24.47703298779975,\n",
       " 28.473773753093752,\n",
       " 24.963097524501872,\n",
       " 24.734434907472952,\n",
       " 24.197798654509437,\n",
       " 24.01188668907288,\n",
       " 28.473063432481336,\n",
       " 26.159612526015554,\n",
       " 27.44272639151309]"
      ]
     },
     "execution_count": 76,
     "metadata": {},
     "output_type": "execute_result"
    }
   ],
   "source": [
    "ontimes"
   ]
  },
  {
   "cell_type": "code",
   "execution_count": null,
   "id": "a7cc2ee4",
   "metadata": {},
   "outputs": [],
   "source": [
    "this = fits.open('/Users/katborski/Documents/GitHub/QPPs/moonbow-main/fast_lc_files/tess2020266004630-s0030-0000000293458637-0195-a_fast-lc.fits')"
   ]
  },
  {
   "cell_type": "code",
   "execution_count": 81,
   "id": "cd3d3b38",
   "metadata": {},
   "outputs": [
    {
     "data": {
      "text/plain": [
       "(28.2057186228075, 49.6066347653372)"
      ]
     },
     "execution_count": 81,
     "metadata": {},
     "output_type": "execute_result"
    }
   ],
   "source": [
    "skypos"
   ]
  },
  {
   "cell_type": "code",
   "execution_count": null,
   "id": "90e4fc51",
   "metadata": {},
   "outputs": [],
   "source": []
  }
 ],
 "metadata": {
  "kernelspec": {
   "display_name": "Python 3 (ipykernel)",
   "language": "python",
   "name": "python3"
  },
  "language_info": {
   "codemirror_mode": {
    "name": "ipython",
    "version": 3
   },
   "file_extension": ".py",
   "mimetype": "text/x-python",
   "name": "python",
   "nbconvert_exporter": "python",
   "pygments_lexer": "ipython3",
   "version": "3.11.0"
  }
 },
 "nbformat": 4,
 "nbformat_minor": 5
}
