{
 "cells": [
  {
   "cell_type": "code",
   "execution_count": 1,
   "id": "781880d6",
   "metadata": {},
   "outputs": [],
   "source": [
    "import astropy\n",
    "from astropy.io import fits \n",
    "from astropy.time import Time\n",
    "from astropy.visualization import time_support\n",
    "from astropy.timeseries import LombScargle\n",
    "from astropy.convolution import Box1DKernel\n",
    "from astropy.convolution import convolve\n",
    "import matplotlib.pyplot as plt\n",
    "import astropy.units as u\n",
    "from astroquery.gaia import Gaia\n",
    "from astroquery.simbad import Simbad\n",
    "import astropy.coordinates as coord\n",
    "import numpy as np\n",
    "import numpy.ma as ma\n",
    "import os\n",
    "import pandas as pd\n",
    "import scipy.signal as sig\n",
    "from astropy.stats import sigma_clip\n",
    "import warnings"
   ]
  },
  {
   "cell_type": "code",
   "execution_count": null,
   "id": "55bf2621",
   "metadata": {},
   "outputs": [],
   "source": []
  },
  {
   "cell_type": "code",
   "execution_count": 2,
   "id": "0ed32bc4",
   "metadata": {},
   "outputs": [],
   "source": [
    "from functools import partial\n",
    "\n",
    "import matplotlib as mpl\n",
    "from scipy import signal, stats\n",
    "from scipy.ndimage import center_of_mass\n",
    "\n",
    "# install moonbow first. in repo root:\n",
    "# pip install -e . --no-deps\n",
    "from moonbow.fit import Fit\n",
    "\n",
    "rng = np.random.default_rng()"
   ]
  },
  {
   "cell_type": "code",
   "execution_count": 3,
   "id": "62166d67",
   "metadata": {},
   "outputs": [],
   "source": [
    "def dataClean(filename,distance_pc,eff_width): \n",
    "    \n",
    "    \"\"\" This function removes nan values and corrects time values for TESS 20 second cadence data. \n",
    "        Also corrects TESS flux to energy in ergs.\"\"\"\n",
    "    \n",
    "    #Create an array of time and flux data with nans removed    \n",
    "    with fits.open(filename, mode=\"readonly\") as hdulist:\n",
    "        raw_time = hdulist[1].data['TIME']\n",
    "        raw_flux = hdulist[1].data['PDCSAP_FLUX']\n",
    "        raw_err = hdulist[1].data['PDCSAP_FLUX_ERR']\n",
    "    data = np.vstack((raw_time, raw_flux, raw_err))\n",
    "    nonan_data = data[:, ~np.isnan(data).any(axis=0)]\n",
    "\n",
    "    times = nonan_data[0]\n",
    "    flux = nonan_data[1]\n",
    "    error = nonan_data[2]\n",
    "    \n",
    "    #Create Dataframe of cleaned data\n",
    "    time = np.array(times)\n",
    "    flux = np.array(flux)\n",
    "    err = np.array(error)\n",
    "   \n",
    "\n",
    "    #Convert energy to ergs\n",
    "    dist_cm = distance_pc * 3.086e+18\n",
    "    ergs = []\n",
    "    ergs_err = []\n",
    "    \n",
    "    for i in flux: \n",
    "        fluence = i * eff_width\n",
    "        energy = (4 * np.pi * (dist_cm**2) * fluence)\n",
    "        ergs.append(energy*1.95829e-9) #AB system zero point\n",
    "        \n",
    "    for i in err:\n",
    "        fluence_err = i*eff_width\n",
    "        energy_err = (4 * np.pi * (dist_cm**2) * fluence_err)\n",
    "        ergs_err.append(energy_err*1.95829e-9) #AB system zero point\n",
    "        \n",
    "    energy = np.asarray(ergs)\n",
    "    error = np.asarray(ergs_err)\n",
    "\n",
    "    \n",
    "    #Return cleaned data\n",
    "    return pd.DataFrame({\n",
    "                        'Time': time,\n",
    "                        'Energy': energy,\n",
    "                        'Energy Error': error,\n",
    "                        'Flux': flux,\n",
    "                        'Flux Error': err\n",
    "    })"
   ]
  },
  {
   "cell_type": "code",
   "execution_count": 4,
   "id": "ae2a8751",
   "metadata": {},
   "outputs": [],
   "source": [
    "#Using only until large flare function is completed, need more stars to get a better idea for a good\n",
    "#model for stellar quiescence generation\n",
    "\n",
    "def generate_Qcurve(clean_dataframe):\n",
    "    \"\"\" This function takes cleaned data to create a dataframe of the estimated quiescent light curve\"\"\"\n",
    "\n",
    "    q_time = clean_dataframe['Time'] # time associated w/ quiescent flux\n",
    "    \n",
    "    #Set and index variables\n",
    "    fluxes = clean_dataframe['Energy']\n",
    "    times = clean_dataframe['Time']\n",
    "    F_err = clean_dataframe['Energy Error'] \n",
    "\n",
    "    #Smooth\n",
    "    smooth_1 = sig.savgol_filter(fluxes,1400,3)\n",
    "    q_flux = sig.savgol_filter(smooth_1,2000,3)\n",
    "    \n",
    "    #Create/return dataframe\n",
    "    \n",
    "    return pd.DataFrame({\n",
    "                'Time': q_time,\n",
    "                'Quiescent Energy':q_flux\n",
    "    })\n"
   ]
  },
  {
   "cell_type": "code",
   "execution_count": 5,
   "id": "04cf053b",
   "metadata": {},
   "outputs": [],
   "source": [
    "def find_ix_ranges(ix, buffer=False):\n",
    "    \"\"\" Finds indexes in the range.\n",
    "    \n",
    "        From MC GALEX function defs\"\"\"\n",
    "    \n",
    "    foo, bar = [], []\n",
    "    for n, i in enumerate(ix):\n",
    "        if len(bar) == 0 or bar[-1] == i-1:\n",
    "            bar += [i]\n",
    "        else:\n",
    "            if buffer:\n",
    "                bar.append(min(bar)-1)\n",
    "                bar.append(max(bar)+1)\n",
    "            foo += [np.sort(bar).tolist()]\n",
    "            bar = [i]\n",
    "        if n == len(ix)-1:\n",
    "            if buffer:\n",
    "                bar.append(min(bar)-1)\n",
    "                bar.append(max(bar)+1)\n",
    "            foo += [np.sort(bar).tolist()]\n",
    "    return foo"
   ]
  },
  {
   "cell_type": "code",
   "execution_count": 6,
   "id": "7dfd10c4",
   "metadata": {},
   "outputs": [],
   "source": [
    "def get_inff(curve,distance_pc, clipsigma=3, quiet=True, band='NUV',\n",
    "             binsize=20.):\n",
    "    \"\"\" Calculates the Instantaneous Non-Flare Flux values.\n",
    "    \n",
    "        From MC GALEX function defs\"\"\"\n",
    "    \n",
    "    sclip = sigma_clip(np.array(curve['Energy']), sigma_lower=clipsigma, sigma_upper=clipsigma)\n",
    "    inff = np.median(sclip)\n",
    "    inff_err = np.sqrt(inff*len(sclip)*binsize)/(len(sclip)*binsize)\n",
    "    if inff and not quiet:\n",
    "        print('Quiescent at {m} AB mag.'.format(m=gt.counts2mag(inff, band)))\n",
    "    inff_ = ((inff*(3.898e-5))*(4*np.pi*((distance_pc*3.086e+18)**2)))*1.95829e-9\n",
    "    inff_er = ((inff_err*(3.898e-5))*(4*np.pi*((distance_pc*3.086e+18)**2)))*1.95829e-9\n",
    "    return inff, inff_er"
   ]
  },
  {
   "cell_type": "code",
   "execution_count": 7,
   "id": "050fad91",
   "metadata": {},
   "outputs": [],
   "source": [
    "def find_flare_ranges(curve,q_curve,sig,dist,quiescence=None):\n",
    "    \"\"\"This function will run through the data to find \n",
    "    flares and ranges of flares. This function will return\n",
    "    a table of flares ranges. \n",
    "    \n",
    "    Adapted from MC GALEX function defs.\n",
    "    Stage: complete\"\"\"\n",
    "    \n",
    "    tranges = [[min(curve['Time']), max(curve['Time'])]] \n",
    "    if not quiescence:\n",
    "        q, q_err = get_inff(curve,dist)\n",
    "    else:\n",
    "        q, q_err = quiescence\n",
    "    flare_ranges = []\n",
    "    for trange in tranges:\n",
    "        ix = np.where(((np.array(curve['Energy'].values)-(sig*np.array(curve['Energy Error'].values)) >= q_curve['Quiescent Energy'])))[0]\n",
    "        flareFlux = ix\n",
    "        if not len(ix):\n",
    "            continue\n",
    "        flux_ix = []\n",
    "        \n",
    "        for ix_range in find_ix_ranges(ix):\n",
    "            # go backwards\n",
    "            consec = 0 \n",
    "            err = curve.iloc[ix_range[0]]['Energy Error'] \n",
    "            \n",
    "            #while flux - err > quiescence, find 2 consecutive points within quiescent curve\n",
    "            while (curve.iloc[ix_range[0]]['Energy']-err >= q_curve.iloc[ix_range[0]]['Quiescent Energy']) and ix_range[0] > 0 or (consec < 1 and ix_range[0] >0):\n",
    "                err = curve.iloc[ix_range[0]]['Energy Error']\n",
    "\n",
    "                if curve.iloc[ix_range[0]]['Energy']- err < q_curve.iloc[ix_range[0]]['Quiescent Energy']:\n",
    "                    consec +=1\n",
    "                else: \n",
    "                    consec = 0\n",
    "                if (curve.iloc[ix_range[0]+1]['Time']-curve.iloc[ix_range[0]]['Time']) > 1000: \n",
    "                    break               \n",
    "                ix_range = [ix_range[0] - 1] + ix_range\n",
    "                \n",
    "                # go forwards\n",
    "            consec = 0 \n",
    "            err = curve.iloc[ix_range[-1]]['Energy Error']\n",
    "            while (curve.iloc[ix_range[-1]]['Energy']-err >= q_curve.iloc[ix_range[-1]]['Quiescent Energy']) and ix_range[-1] != len(curve)-1 or (consec <1 and ix_range[:-1]!= len(curve)-1):\n",
    "                err = curve.iloc[ix_range[-1]]['Energy Error']\n",
    "                if curve.iloc[ix_range[-1]]['Energy']-err < q_curve.iloc[ix_range[-1]]['Quiescent Energy']:\n",
    "                    consec += 1\n",
    "                else: \n",
    "                    consec = 0\n",
    "                if curve.iloc[ix_range[0]]['Time']-curve.iloc[ix_range[-1]]['Time'] > 1000: \n",
    "                    break\n",
    "                ix_range = ix_range + [ix_range[-1] + 1]\n",
    "                \n",
    "            flux_ix += ix_range\n",
    "        ix = np.unique(flux_ix)\n",
    "        flare_ranges += find_ix_ranges(list(np.array(ix).flatten()))\n",
    "    return(flare_ranges,flareFlux)\n"
   ]
  },
  {
   "cell_type": "code",
   "execution_count": 8,
   "id": "0ee76f33",
   "metadata": {},
   "outputs": [],
   "source": [
    "def refine_flare_ranges(curve,q_curve, sig=3., flare_ranges=None):\n",
    "    \"\"\" Identify the start and stop indexes of a flare event after\n",
    "    refining the INFF by masking out the initial flare detection indexes. \n",
    "    From MC GALEX function defs.\"\"\"\n",
    "    time_support()\n",
    "    if not flare_ranges:\n",
    "        flare_ranges, _ = find_flare_ranges(curve, q_curve, sig)\n",
    "    flare_ix = list(itertools.chain.from_iterable(flare_ranges))\n",
    "    quiescience_mask = [False if i in flare_ix else True for i in\n",
    "                        np.arange(len(curve['Time']))]\n",
    "    quiescence = q_curve\n",
    "    quiescence_err = (np.sqrt(curve['Energy'][quiescience_mask].sum())/curve['Energy'].sum())\n",
    "    flare_ranges, flare_3sigs = find_flare_ranges(curve,q_curve,\n",
    "                                                  quiescence=(quiescence,\n",
    "                                                              quiescence_err),\n",
    "                                                  sig=sig)\n",
    "    flare_ix = list(itertools.chain.from_iterable(flare_ranges))\n",
    "    not_flare_ix = list(set([x for x in range(len(curve['Time']))]) - set(flare_ix))\n",
    "      \n",
    "    return flare_ranges, flare_ix"
   ]
  },
  {
   "cell_type": "code",
   "execution_count": 9,
   "id": "7079a88d",
   "metadata": {},
   "outputs": [],
   "source": [
    "def qpp_find(flaring_frame,ranges_ix,energy_ix):\n",
    "    \n",
    "    ranges = []\n",
    "    for i,v in enumerate(ranges_ix):\n",
    "        t = flaring_frame['Time'][v]\n",
    "        f = flaring_frame['Flux'][v]\n",
    "        ranges.append([i,t,f])\n",
    "\n",
    "        #Select Large Flares\n",
    "\n",
    "    large_flares = []\n",
    "    for i,v in enumerate(ranges_ix):\n",
    "        if len(v)>=45:                    #~15 minute minimum                    \n",
    "            large_flares.append((v))\n",
    "        else:\n",
    "            continue\n",
    "\n",
    "#Match Data to Large Flares\n",
    "\n",
    "    large_flare_data = []\n",
    "    for i,v in enumerate(large_flares):\n",
    "        data = flaring_frame['Energy'][large_flares[i]]\n",
    "        large_flare_data.append(data)\n",
    "    \n",
    "    norm_flares=[] #normalize flare values\n",
    "    for i in range(len(large_flare_data)):\n",
    "        mx = max(large_flare_data[i])\n",
    "        norm_flares.append(large_flare_data[i]/mx)\n",
    "    \n",
    "    times=[]\n",
    "    for i in range(len(large_flares)):\n",
    "        t = flaring_frame['Time'][large_flare_data[i].index]\n",
    "        times.append(t)\n",
    "        \n",
    "    lg_flare_data=[]\n",
    "    lg_flare_time=[]\n",
    "    lg_flare_det=[]\n",
    "    lg_flare_params = []\n",
    "    flare_fits = []\n",
    "\n",
    "    for i in range(len(large_flares)):\n",
    "        model = aflare2\n",
    "        x = flaring_frame['Time'][large_flares[i]]\n",
    "        y = norm_flares[i]\n",
    "        data = pd.DataFrame({'time': x, 'energy': y})\n",
    "    \n",
    "        rise = x[0:np.argmax(y)].values\n",
    "        fwhm = (max(rise)-min(rise))*2\n",
    "    \n",
    "        fitter = Fit(\n",
    "        underlying_function=model,\n",
    "        dimensionality=1,\n",
    "        data=data,\n",
    "        dependent_variable='energy')\n",
    "    \n",
    "        fitter.make_vector(independent_variables=['time'])\n",
    "        fitter.fit(guess=np.array((max(rise),fwhm,1,\n",
    "                              1.00000, 1.94053, -0.175084, -2.3769, -1.12498,\n",
    "                              0.689008, -1.600536, 0.302963, -0.278318))) \n",
    "        if fitter.det > 0.70:\n",
    "            lg_flare_time.append(x)\n",
    "            lg_flare_data.append(y)\n",
    "            lg_flare_det.append(fitter.det)\n",
    "            fit_params, covariance_matrix = fitter.curve_fit\n",
    "            lg_flare_params.append((fit_params))\n",
    "            fit = fitter.fitted_curve \n",
    "            flare_fits.append((fit))\n",
    "    return lg_flare_data, lg_flare_time, lg_flare_det, lg_flare_params, flare_fits"
   ]
  },
  {
   "cell_type": "code",
   "execution_count": 10,
   "id": "f88a0618",
   "metadata": {},
   "outputs": [],
   "source": [
    "def fit_residuals(lg_flare_data,flare_fits):\n",
    "    residuals = []\n",
    "    for i in range(len(lg_flare_data)):\n",
    "        res_i = lg_flare_data[i]-flare_fits[i]\n",
    "        residuals.append((res_i))\n",
    "\n",
    "    kernel = Box1DKernel(8)\n",
    "    res_fits = []\n",
    "    for i in range(len(residuals)):\n",
    "        res_fit = sig.savgol_filter(residuals[i],21,3)\n",
    "        fit2 = convolve(res_fit,kernel,boundary='extend')\n",
    "        res_fits.append(fit2)\n",
    "    \n",
    "    return(residuals, res_fits)\n",
    "\n",
    "\n",
    "#to view/plot residual fits: \n",
    "    \n",
    "#fig,ax = plt.subplots((len(lg_flare_data)))\n",
    "#for i in range(len(res_fits)):\n",
    "#    ax.flat[i].plot(range(len(residuals[i])),residuals[i],c='grey')\n",
    "#    ax.flat[i].plot(range(len(res_fits[i])),res_fits[i],c='black')"
   ]
  },
  {
   "cell_type": "code",
   "execution_count": 11,
   "id": "ef12783d",
   "metadata": {},
   "outputs": [],
   "source": [
    "def aflare2(t, tpeak, fwhm, ampl,\n",
    "            c0,c1,c2,c3,c4,\n",
    "            d0,d1,d2,d3):\n",
    "#    t : 1-d array\n",
    "#        The time array to evaluate the flare over\n",
    "#    tpeak : float\n",
    "#        The time of the flare peak\n",
    "#    fwhm : float\n",
    "#        The \"Full Width at Half Maximum\", timescale of the flare\n",
    "#   ampl : float\n",
    "#        The amplitude of the flare\n",
    "#    Returns\n",
    "#    flare : 1-d array\n",
    "#        The flux of the flare model evaluated at each time\n",
    "    #_fr = [1.00000, 1.94053, -0.175084, -2.24588, -1.12498]\n",
    "    _fr = [c0,c1,c2,c3,c4]\n",
    "    #_fd = [0.689008, -1.60053, 0.302963, -0.278318]\n",
    "    _fd = [d0,d1,d2,d3]\n",
    "    \n",
    "    t = np.array(t)\n",
    "    flare = np.piecewise(t, [(t<= tpeak) * (t-tpeak)/fwhm > -1.,\n",
    "                                (t > tpeak)],\n",
    "                            [lambda x: (_fr[0]+                       # 0th order\n",
    "                                        _fr[1]*((x-tpeak)/fwhm)+      # 1st order\n",
    "                                        _fr[2]*((x-tpeak)/fwhm)**2.+  # 2nd order\n",
    "                                        _fr[3]*((x-tpeak)/fwhm)**3.+  # 3rd order\n",
    "                                        _fr[4]*((x-tpeak)/fwhm)**4. ),# 4th order\n",
    "                             lambda x: (_fd[0]*np.exp( ((x-tpeak)/fwhm)*_fd[1] ) +\n",
    "                                        _fd[2]*np.exp( ((x-tpeak)/fwhm)*_fd[3] ))]\n",
    "                            ) * np.abs(ampl) # amplitude\n",
    "\n",
    "    return flare"
   ]
  },
  {
   "cell_type": "markdown",
   "id": "1e388b16",
   "metadata": {},
   "source": [
    "### Af Psc Analysis"
   ]
  },
  {
   "cell_type": "code",
   "execution_count": 12,
   "id": "ee7fb8b2",
   "metadata": {},
   "outputs": [],
   "source": [
    "#rawdata = '/Users/katborski/Documents/GitHub/AFPSC/TESS/tess2021232031932-s0042-0000000250081915-0213-a_fast-lc.fits'\n",
    "#flaring_frame = dataClean(rawdata,35,3.898e-5) #35=dist in pc, 3.898e-5=eff width for Af Psc\n",
    "#q_frame = generate_Qcurve(flaring_frame)"
   ]
  },
  {
   "cell_type": "code",
   "execution_count": 13,
   "id": "fc946e72",
   "metadata": {},
   "outputs": [
    {
     "name": "stderr",
     "output_type": "stream",
     "text": [
      "/Users/katborski/opt/anaconda3/envs/moonbow/lib/python3.11/site-packages/numpy/core/fromnumeric.py:784: UserWarning: Warning: 'partition' will ignore the 'mask' of the MaskedArray.\n",
      "  a.partition(kth, axis=axis, kind=kind, order=order)\n"
     ]
    }
   ],
   "source": [
    "#ranges_ix,energy_ix = find_flare_ranges(flaring_frame, q_frame, 3,35, quiescence=None)"
   ]
  },
  {
   "cell_type": "code",
   "execution_count": 14,
   "id": "26531575",
   "metadata": {},
   "outputs": [],
   "source": [
    "#qpps = qpp_find(flaring_frame, ranges_ix, energy_ix)"
   ]
  },
  {
   "cell_type": "code",
   "execution_count": 15,
   "id": "50d82bf5",
   "metadata": {},
   "outputs": [],
   "source": [
    "#res_fit = fit_residuals(qpps[0],qpps[4])"
   ]
  },
  {
   "cell_type": "code",
   "execution_count": 16,
   "id": "9183d404",
   "metadata": {},
   "outputs": [],
   "source": [
    "###to view/plot davenport fit: \n",
    "\n",
    "#fig,ax = plt.subplots((len(lg_flare_data)))\n",
    "#for i in range(len(lg_flare_data)):    \n",
    "#    ax.flat[i].plot(lg_flare_time[i],lg_flare_data[i])\n",
    "#    ax.flat[i].plot(lg_flare_time[i],fits_[i],c='black')\n",
    "#    ax.flat[i].set_title(lg_flare_det[i])\n",
    "#    plt.setp(ax, xticks=[]) "
   ]
  },
  {
   "cell_type": "code",
   "execution_count": 17,
   "id": "787f030f",
   "metadata": {},
   "outputs": [],
   "source": [
    "###to view/plot residual fits: \n",
    "    \n",
    "#fig,ax = plt.subplots((len(lg_flare_data)))\n",
    "#for i in range(len(res_fits)):\n",
    "#    ax.flat[i].plot(range(len(residuals[i])),residuals[i],c='grey')\n",
    "#    ax.flat[i].plot(range(len(res_fits[i])),res_fits[i],c='black')"
   ]
  },
  {
   "cell_type": "markdown",
   "id": "1575c3f2",
   "metadata": {},
   "source": [
    "### Test Analysis w/ EV Lac"
   ]
  },
  {
   "cell_type": "code",
   "execution_count": 41,
   "id": "c6cd5920",
   "metadata": {},
   "outputs": [],
   "source": [
    "#test_rawdata = '/Users/katborski/Documents/GitHub/QPPs/moonbow-main/tess2022244194134-s0056-0000000154101678-0243-a_fast-lc.fits'\n",
    "#test_flaring_frame = dataClean(test_rawdata,5.05,3.898e-5) #5.05=dist in pc to EV Lac, 3.898e-5=eff width for TESS\n",
    "#test_q_frame = generate_Qcurve(test_flaring_frame)\n"
   ]
  },
  {
   "cell_type": "code",
   "execution_count": 42,
   "id": "f61d19fb",
   "metadata": {},
   "outputs": [],
   "source": [
    "#test_ranges_ix,test_energy_ix = find_flare_ranges(test_flaring_frame,test_q_frame,4,5.05,quiescence=None)"
   ]
  },
  {
   "cell_type": "code",
   "execution_count": 43,
   "id": "08004ef8",
   "metadata": {},
   "outputs": [],
   "source": [
    "#test_qpps = qpp_find(test_flaring_frame, test_ranges_ix, test_energy_ix)"
   ]
  },
  {
   "cell_type": "code",
   "execution_count": 21,
   "id": "874d58b1",
   "metadata": {},
   "outputs": [],
   "source": [
    "#test_res_fit = fit_residuals(test_qpps[0],test_qpps[4])"
   ]
  },
  {
   "cell_type": "code",
   "execution_count": 22,
   "id": "789fd2c2",
   "metadata": {},
   "outputs": [],
   "source": [
    "###to view/plot davenport fit: \n",
    "\n",
    "#fig,ax = plt.subplots((len(test_qpps[0])))\n",
    "#for i in range(len(test_qpps[0])):    \n",
    "#    ax.flat[i].plot(test_qpps[1][i],test_qpps[0][i])\n",
    "#    ax.flat[i].plot(test_qpps[1][i],test_qpps[4][i],c='black')\n",
    "#    ax.flat[i].set_title(test_qpps[2][i])\n",
    "#    plt.setp(ax, xticks=[]) \n",
    "#plt.show()"
   ]
  },
  {
   "cell_type": "code",
   "execution_count": 23,
   "id": "8ee71034",
   "metadata": {},
   "outputs": [],
   "source": [
    "###to view/plot residual fits: \n",
    "    \n",
    "#fig,ax = plt.subplots((len(test_res_fit[0])))\n",
    "#for i in range(len(test_res_fit[0])):\n",
    "#    ax.flat[i].plot(range(len(test_res_fit[0][i])),test_res_fit[0][i],c='grey')\n",
    "#    ax.flat[i].plot(range(len(test_res_fit[1][i])),test_res_fit[1][i],c='black')\n",
    "#plt.show()"
   ]
  },
  {
   "cell_type": "code",
   "execution_count": 24,
   "id": "9d550672",
   "metadata": {},
   "outputs": [],
   "source": [
    "#ALL WORKING, uncomment singular '#' lines to run."
   ]
  },
  {
   "cell_type": "code",
   "execution_count": 25,
   "id": "e1e6d4f9",
   "metadata": {},
   "outputs": [],
   "source": [
    "### CROSSMATCH DATA W/ GAIA ###\n",
    "warnings.filterwarnings('ignore')"
   ]
  },
  {
   "cell_type": "code",
   "execution_count": 26,
   "id": "5a2abbbc",
   "metadata": {},
   "outputs": [],
   "source": [
    "dataset = pd.read_csv('/Users/katborski/Documents/GitHub/QPPs/G03228_S039.csv')"
   ]
  },
  {
   "cell_type": "code",
   "execution_count": 27,
   "id": "95edfa73",
   "metadata": {},
   "outputs": [],
   "source": [
    "skypos = []\n",
    "for i in range(len(dataset)):\n",
    "    ra = dataset['RA'][i]\n",
    "    dec = dataset['Dec'][i]\n",
    "    skypos.append((ra,dec))"
   ]
  },
  {
   "cell_type": "code",
   "execution_count": null,
   "id": "4b217935",
   "metadata": {},
   "outputs": [],
   "source": []
  },
  {
   "cell_type": "code",
   "execution_count": 28,
   "id": "cc3a1610",
   "metadata": {},
   "outputs": [],
   "source": [
    "Gaia.MAIN_GAIA_TABLE = \"gaiaedr3.gaia_source\""
   ]
  },
  {
   "cell_type": "code",
   "execution_count": 29,
   "id": "7d186e71",
   "metadata": {},
   "outputs": [],
   "source": [
    "def angularSeparation(ra1, dec1, ra2, dec2):\n",
    "    d2r = np.pi/180.\n",
    "    ra2deg = 1./d2r\n",
    "    d1 = dec1*d2r,\n",
    "    d2 = dec2*d2r\n",
    "    r1 = ra1*d2r\n",
    "    r2 = ra2*d2r\n",
    "    a = np.sin((d2-d1)/2.)**2.+np.cos(d1)*np.cos(d2)*np.sin((r2-r1)/2.)**2.\n",
    "    r = 2*np.arcsin(np.sqrt(a))\n",
    "    return r*ra2deg"
   ]
  },
  {
   "cell_type": "code",
   "execution_count": 30,
   "id": "1045071f",
   "metadata": {},
   "outputs": [
    {
     "name": "stdout",
     "output_type": "stream",
     "text": [
      "INFO: Query finished. [astroquery.utils.tap.core]\n",
      "INFO: Query finished. [astroquery.utils.tap.core]\n",
      "INFO: Query finished. [astroquery.utils.tap.core]\n",
      "INFO: Query finished. [astroquery.utils.tap.core]\n",
      "INFO: Query finished. [astroquery.utils.tap.core]\n",
      "INFO: Query finished. [astroquery.utils.tap.core]\n",
      "INFO: Query finished. [astroquery.utils.tap.core]\n",
      "INFO: Query finished. [astroquery.utils.tap.core]\n",
      "INFO: Query finished. [astroquery.utils.tap.core]\n",
      "INFO: Query finished. [astroquery.utils.tap.core]\n",
      "INFO: Query finished. [astroquery.utils.tap.core]\n",
      "INFO: Query finished. [astroquery.utils.tap.core]\n",
      "INFO: Query finished. [astroquery.utils.tap.core]\n",
      "INFO: Query finished. [astroquery.utils.tap.core]\n",
      "INFO: Query finished. [astroquery.utils.tap.core]\n",
      "INFO: Query finished. [astroquery.utils.tap.core]\n",
      "INFO: Query finished. [astroquery.utils.tap.core]\n",
      "INFO: Query finished. [astroquery.utils.tap.core]\n",
      "INFO: Query finished. [astroquery.utils.tap.core]\n",
      "INFO: Query finished. [astroquery.utils.tap.core]\n",
      "INFO: Query finished. [astroquery.utils.tap.core]\n",
      "INFO: Query finished. [astroquery.utils.tap.core]\n",
      "INFO: Query finished. [astroquery.utils.tap.core]\n",
      "INFO: Query finished. [astroquery.utils.tap.core]\n",
      "INFO: Query finished. [astroquery.utils.tap.core]\n",
      "INFO: Query finished. [astroquery.utils.tap.core]\n",
      "INFO: Query finished. [astroquery.utils.tap.core]\n",
      "INFO: Query finished. [astroquery.utils.tap.core]\n",
      "INFO: Query finished. [astroquery.utils.tap.core]\n",
      "INFO: Query finished. [astroquery.utils.tap.core]\n",
      "INFO: Query finished. [astroquery.utils.tap.core]\n",
      "INFO: Query finished. [astroquery.utils.tap.core]\n",
      "INFO: Query finished. [astroquery.utils.tap.core]\n",
      "INFO: Query finished. [astroquery.utils.tap.core]\n",
      "INFO: Query finished. [astroquery.utils.tap.core]\n",
      "INFO: Query finished. [astroquery.utils.tap.core]\n",
      "INFO: Query finished. [astroquery.utils.tap.core]\n",
      "INFO: Query finished. [astroquery.utils.tap.core]\n",
      "INFO: Query finished. [astroquery.utils.tap.core]\n",
      "INFO: Query finished. [astroquery.utils.tap.core]\n",
      "INFO: Query finished. [astroquery.utils.tap.core]\n",
      "INFO: Query finished. [astroquery.utils.tap.core]\n",
      "INFO: Query finished. [astroquery.utils.tap.core]\n",
      "INFO: Query finished. [astroquery.utils.tap.core]\n",
      "INFO: Query finished. [astroquery.utils.tap.core]\n",
      "INFO: Query finished. [astroquery.utils.tap.core]\n"
     ]
    }
   ],
   "source": [
    "# define the search box\n",
    "width = u.Quantity(0.05, u.deg)\n",
    "height = u.Quantity(0.05, u.deg)\n",
    "\n",
    "rs = []\n",
    "for i in range(len(skypos)):\n",
    "    query_success=0\n",
    "    while query_success==0:\n",
    "        #print(ra[i],dec[i])\n",
    "        try:\n",
    "            r = Gaia.query_object_async(coordinate=coord.SkyCoord(ra=skypos[i][0], dec=skypos[i][1], unit=(u.degree, u.degree),\n",
    "                                                          frame='icrs'), width=width, height=height)\n",
    "            rs.append(r)\n",
    "            query_success=1\n",
    "        except TimeoutError:\n",
    "            pass"
   ]
  },
  {
   "cell_type": "code",
   "execution_count": 31,
   "id": "f124988b",
   "metadata": {},
   "outputs": [
    {
     "data": {
      "image/png": "[encoded data removed]",
      "text/plain": [
       "<Figure size 300x300 with 1 Axes>"
      ]
     },
     "metadata": {},
     "output_type": "display_data"
    },
    {
     "data": {
      "image/png": "[encoded data removed]",
      "text/plain": [
       "<Figure size 300x300 with 1 Axes>"
      ]
     },
     "metadata": {},
     "output_type": "display_data"
    },
    {
     "data": {
      "image/png": "[encoded data removed]",
      "text/plain": [
       "<Figure size 300x300 with 1 Axes>"
      ]
     },
     "metadata": {},
     "output_type": "display_data"
    },
    {
     "data": {
      "image/png": "[encoded data removed]",
      "text/plain": [
       "<Figure size 300x300 with 1 Axes>"
      ]
     },
     "metadata": {},
     "output_type": "display_data"
    },
    {
     "data": {
      "image/png": "[encoded data removed]",
      "text/plain": [
       "<Figure size 300x300 with 1 Axes>"
      ]
     },
     "metadata": {},
     "output_type": "display_data"
    },
    {
     "data": {
      "image/png": "[encoded data removed]",
      "text/plain": [
       "<Figure size 300x300 with 1 Axes>"
      ]
     },
     "metadata": {},
     "output_type": "display_data"
    },
    {
     "data": {
      "image/png": "[encoded data removed]",
      "text/plain": [
       "<Figure size 300x300 with 1 Axes>"
      ]
     },
     "metadata": {},
     "output_type": "display_data"
    },
    {
     "data": {
      "image/png": "[encoded data removed]",
      "text/plain": [
       "<Figure size 300x300 with 1 Axes>"
      ]
     },
     "metadata": {},
     "output_type": "display_data"
    },
    {
     "data": {
      "image/png": "[encoded data removed]",
      "text/plain": [
       "<Figure size 300x300 with 1 Axes>"
      ]
     },
     "metadata": {},
     "output_type": "display_data"
    },
    {
     "data": {
      "image/png": "[encoded data removed]",
      "text/plain": [
       "<Figure size 300x300 with 1 Axes>"
      ]
     },
     "metadata": {},
     "output_type": "display_data"
    },
    {
     "data": {
      "image/png": "[encoded data removed]",
      "text/plain": [
       "<Figure size 300x300 with 1 Axes>"
      ]
     },
     "metadata": {},
     "output_type": "display_data"
    },
    {
     "data": {
      "image/png": "[encoded data removed]",
      "text/plain": [
       "<Figure size 300x300 with 1 Axes>"
      ]
     },
     "metadata": {},
     "output_type": "display_data"
    },
    {
     "data": {
      "image/png": "[encoded data removed]",
      "text/plain": [
       "<Figure size 300x300 with 1 Axes>"
      ]
     },
     "metadata": {},
     "output_type": "display_data"
    },
    {
     "data": {
      "image/png": "[encoded data removed]",
      "text/plain": [
       "<Figure size 300x300 with 1 Axes>"
      ]
     },
     "metadata": {},
     "output_type": "display_data"
    },
    {
     "data": {
      "image/png": "[encoded data removed]",
      "text/plain": [
       "<Figure size 300x300 with 1 Axes>"
      ]
     },
     "metadata": {},
     "output_type": "display_data"
    },
    {
     "data": {
      "image/png": "[encoded data removed]",
      "text/plain": [
       "<Figure size 300x300 with 1 Axes>"
      ]
     },
     "metadata": {},
     "output_type": "display_data"
    },
    {
     "data": {
      "image/png": "[encoded data removed]",
      "text/plain": [
       "<Figure size 300x300 with 1 Axes>"
      ]
     },
     "metadata": {},
     "output_type": "display_data"
    },
    {
     "data": {
      "image/png": "[encoded data removed]",
      "text/plain": [
       "<Figure size 300x300 with 1 Axes>"
      ]
     },
     "metadata": {},
     "output_type": "display_data"
    },
    {
     "data": {
      "image/png": "[encoded data removed]",
      "text/plain": [
       "<Figure size 300x300 with 1 Axes>"
      ]
     },
     "metadata": {},
     "output_type": "display_data"
    },
    {
     "data": {
      "image/png": "[encoded data removed]",
      "text/plain": [
       "<Figure size 300x300 with 1 Axes>"
      ]
     },
     "metadata": {},
     "output_type": "display_data"
    },
    {
     "data": {
      "image/png": "[encoded data removed]",
      "text/plain": [
       "<Figure size 300x300 with 1 Axes>"
      ]
     },
     "metadata": {},
     "output_type": "display_data"
    },
    {
     "data": {
      "image/png": "[encoded data removed]",
      "text/plain": [
       "<Figure size 300x300 with 1 Axes>"
      ]
     },
     "metadata": {},
     "output_type": "display_data"
    },
    {
     "data": {
      "image/png": "[encoded data removed]",
      "text/plain": [
       "<Figure size 300x300 with 1 Axes>"
      ]
     },
     "metadata": {},
     "output_type": "display_data"
    },
    {
     "data": {
      "image/png": "[encoded data removed]",
      "text/plain": [
       "<Figure size 300x300 with 1 Axes>"
      ]
     },
     "metadata": {},
     "output_type": "display_data"
    },
    {
     "data": {
      "image/png": "[encoded data removed]",
      "text/plain": [
       "<Figure size 300x300 with 1 Axes>"
      ]
     },
     "metadata": {},
     "output_type": "display_data"
    },
    {
     "data": {
      "image/png": "[encoded data removed]",
      "text/plain": [
       "<Figure size 300x300 with 1 Axes>"
      ]
     },
     "metadata": {},
     "output_type": "display_data"
    },
    {
     "data": {
      "image/png": "[encoded data removed]",
      "text/plain": [
       "<Figure size 300x300 with 1 Axes>"
      ]
     },
     "metadata": {},
     "output_type": "display_data"
    },
    {
     "data": {
      "image/png": "[encoded data removed]",
      "text/plain": [
       "<Figure size 300x300 with 1 Axes>"
      ]
     },
     "metadata": {},
     "output_type": "display_data"
    },
    {
     "data": {
      "image/png": "[encoded data removed]",
      "text/plain": [
       "<Figure size 300x300 with 1 Axes>"
      ]
     },
     "metadata": {},
     "output_type": "display_data"
    },
    {
     "data": {
      "image/png": "[encoded data removed]",
      "text/plain": [
       "<Figure size 300x300 with 1 Axes>"
      ]
     },
     "metadata": {},
     "output_type": "display_data"
    },
    {
     "data": {
      "image/png": "[encoded data removed]",
      "text/plain": [
       "<Figure size 300x300 with 1 Axes>"
      ]
     },
     "metadata": {},
     "output_type": "display_data"
    },
    {
     "data": {
      "image/png": "[encoded data removed]",
      "text/plain": [
       "<Figure size 300x300 with 1 Axes>"
      ]
     },
     "metadata": {},
     "output_type": "display_data"
    },
    {
     "data": {
      "image/png": "[encoded data removed]",
      "text/plain": [
       "<Figure size 300x300 with 1 Axes>"
      ]
     },
     "metadata": {},
     "output_type": "display_data"
    },
    {
     "data": {
      "image/png": "[encoded data removed]",
      "text/plain": [
       "<Figure size 300x300 with 1 Axes>"
      ]
     },
     "metadata": {},
     "output_type": "display_data"
    },
    {
     "data": {
      "image/png": "[encoded data removed]",
      "text/plain": [
       "<Figure size 300x300 with 1 Axes>"
      ]
     },
     "metadata": {},
     "output_type": "display_data"
    },
    {
     "data": {
      "image/png": "[encoded data removed]",
      "text/plain": [
       "<Figure size 300x300 with 1 Axes>"
      ]
     },
     "metadata": {},
     "output_type": "display_data"
    },
    {
     "data": {
      "image/png": "[encoded data removed]",
      "text/plain": [
       "<Figure size 300x300 with 1 Axes>"
      ]
     },
     "metadata": {},
     "output_type": "display_data"
    },
    {
     "data": {
      "image/png": "[encoded data removed]",
      "text/plain": [
       "<Figure size 300x300 with 1 Axes>"
      ]
     },
     "metadata": {},
     "output_type": "display_data"
    },
    {
     "data": {
      "image/png": "[encoded data removed]",
      "text/plain": [
       "<Figure size 300x300 with 1 Axes>"
      ]
     },
     "metadata": {},
     "output_type": "display_data"
    },
    {
     "data": {
      "image/png": "[encoded data removed]",
      "text/plain": [
       "<Figure size 300x300 with 1 Axes>"
      ]
     },
     "metadata": {},
     "output_type": "display_data"
    },
    {
     "data": {
      "image/png": "[encoded data removed]",
      "text/plain": [
       "<Figure size 300x300 with 1 Axes>"
      ]
     },
     "metadata": {},
     "output_type": "display_data"
    },
    {
     "data": {
      "image/png": "[encoded data removed]",
      "text/plain": [
       "<Figure size 300x300 with 1 Axes>"
      ]
     },
     "metadata": {},
     "output_type": "display_data"
    },
    {
     "data": {
      "image/png": "[encoded data removed]",
      "text/plain": [
       "<Figure size 300x300 with 1 Axes>"
      ]
     },
     "metadata": {},
     "output_type": "display_data"
    },
    {
     "data": {
      "image/png": "[encoded data removed]",
      "text/plain": [
       "<Figure size 300x300 with 1 Axes>"
      ]
     },
     "metadata": {},
     "output_type": "display_data"
    },
    {
     "data": {
      "image/png": "[encoded data removed]",
      "text/plain": [
       "<Figure size 300x300 with 1 Axes>"
      ]
     },
     "metadata": {},
     "output_type": "display_data"
    },
    {
     "data": {
      "image/png": "[encoded data removed]",
      "text/plain": [
       "<Figure size 300x300 with 1 Axes>"
      ]
     },
     "metadata": {},
     "output_type": "display_data"
    }
   ],
   "source": [
    "for i in range(len(rs)):\n",
    "    plt.figure(figsize=(3,3))\n",
    "    plt.xticks([]);plt.yticks([]);\n",
    "    ra_gaia,dec_gaia = np.array(rs[i]['ra']),np.array(rs[i]['dec'])\n",
    "    plt.plot(ra_gaia,dec_gaia,'kx')\n",
    "    ix_finite = np.where(np.isfinite(ra_gaia) & np.isfinite(dec_gaia))\n",
    "    d = angularSeparation(skypos[i][0],skypos[i][1],ra_gaia[ix_finite],dec_gaia[ix_finite])    \n",
    "    try:\n",
    "        ix_match = np.argmin(d)\n",
    "    except ValueError:\n",
    "        print(f\"No matching Gaia source for {i}\")\n",
    "        raise\n"
   ]
  },
  {
   "cell_type": "code",
   "execution_count": 32,
   "id": "c7153171",
   "metadata": {},
   "outputs": [
    {
     "name": "stdout",
     "output_type": "stream",
     "text": [
      "GAIA MATCH OFFSET\n",
      "1.7562154072115128 as\n",
      "2.279899037132109 as\n",
      "2.3317520894081554 as\n",
      "3.565031796140075 as\n",
      "3.97830457022191 as\n",
      "1.6541144207707743 as\n",
      "2.107414734522161 as\n",
      "4.495175007118396 as\n",
      "1.5449165906098086 as\n",
      "2.469343827463157 as\n",
      "1.7708883005988034 as\n",
      "1.7384604919850062 as\n",
      "1.6706479399670282 as\n",
      "1.7535218029961883 as\n",
      "0.7609593223187203 as\n",
      "6.786268604098917 as\n",
      "1.8446208113574105 as\n",
      "2.5653087091254814 as\n",
      "2.408637391422862 as\n",
      "2.010295797674756 as\n",
      "5.550801209466304 as\n",
      "1.8812003939482504 as\n",
      "9.54915300612377 as\n",
      "2.8995671471823883 as\n",
      "6.60358128037951 as\n",
      "3.902055504427569 as\n",
      "4.1845451555799995 as\n",
      "1.7433935146221717 as\n",
      "1.2911409505014966 as\n",
      "1.1348177073456727 as\n",
      "3.8032547396183403 as\n",
      "2.665257869748266 as\n",
      "5.710229749431574 as\n",
      "1.5428451661687776 as\n",
      "3.5483974689350326 as\n",
      "1.8337522446591514 as\n",
      "2.1607815529199823 as\n",
      "2.597186946190024 as\n",
      "1.8998278380312186 as\n",
      "2.6670718983863755 as\n",
      "0.8413875507578151 as\n",
      "0.8094653969539398 as\n",
      "0.7555770803028411 as\n",
      "0.4081901507197295 as\n",
      "2.194213038035021 as\n",
      "2.185140876411234 as\n"
     ]
    }
   ],
   "source": [
    "print('GAIA MATCH OFFSET')\n",
    "for i in range(len(skypos)):    \n",
    "    ix = ix_finite[0][ix_match]\n",
    "    gaia_match_offset=angularSeparation(skypos[i][0],skypos[i][1],rs[i][ix]['ra'],rs[i][ix]['dec'])*60*60\n",
    "    print(f\"{gaia_match_offset[0]} as\")  "
   ]
  },
  {
   "cell_type": "code",
   "execution_count": 33,
   "id": "8459038c",
   "metadata": {},
   "outputs": [
    {
     "name": "stdout",
     "output_type": "stream",
     "text": [
      "GAIA ID & DISTANCES\n",
      "5942630107855861888 @ 19.28567647915926 parsecs\n",
      "5934097210481810432 @ 13.490298747284413 parsecs\n",
      "5942777304971775360 @ 1930.592672490794 parsecs\n",
      "5943550124208359552 @ 15.758980945153473 parsecs\n",
      "5955305209181045120 @ 3603.161821613204 parsecs\n",
      "5924187617032756736 @ 12.77758403449611 parsecs\n",
      "5950304355395342848 @ -2410.637464216813 parsecs\n",
      "5951824116677596800 @ 3555.6056996156535 parsecs\n",
      "5951535219996858624 @ 19.629419902935943 parsecs\n",
      "5946986063684477056 @ 9.679787481027113 parsecs\n",
      "5925209583053212800 @ 15.979907974339552 parsecs\n",
      "4055584308787727488 @ 14.137580128878465 parsecs\n",
      "4055585060376248832 @ 14.148429334882723 parsecs\n",
      "4040839372724022144 @ 1778.9721406825615 parsecs\n",
      "5970189504223192960 @ 15.72767180453325 parsecs\n",
      "6021430250773348736 @ 8.512696256657831 parsecs\n",
      "5798502241016325120 @ 19.12806613607902 parsecs\n",
      "5819260638284592000 @ -5408.261249142059 parsecs\n",
      "5805810454276180864 @ 3341.4327953044503 parsecs\n",
      "5815970800722940800 @ 14.586739971320739 parsecs\n",
      "5910710976034819584 @ 16.468600468891673 parsecs\n",
      "5912921509809469952 @ 16.352648444393836 parsecs\n",
      "5918660719983560192 @ 5.889136001075998 parsecs\n",
      "5832599574049049344 @ -- parsecs\n",
      "6347643496607834880 @ 3038.5242048627106 parsecs\n",
      "5776161813992756992 @ 12.737848446374038 parsecs\n",
      "6349094336559890944 @ 10.667457096614257 parsecs\n",
      "6342940473056949120 @ 15.554073354312719 parsecs\n",
      "5783027130236367744 @ -- parsecs\n",
      "5213167330349528064 @ 10.890123790817183 parsecs\n",
      "5210616497733074304 @ 15.627772247348755 parsecs\n",
      "5199087706000356096 @ 14.32275757396385 parsecs\n",
      "5203276810942065536 @ 9.52076344678469 parsecs\n",
      "6343965492773694464 @ 12.72082741951267 parsecs\n",
      "4623882630333283968 @ 1374.329297583907 parsecs\n",
      "5271055243163629056 @ 10.608238227245772 parsecs\n",
      "5497072086021346688 @ 13.166799026346201 parsecs\n",
      "5486916932205092352 @ 17.077755711595476 parsecs\n",
      "5292028393100840320 @ 11.211135688758167 parsecs\n",
      "5293288295987250816 @ 19.594804720109035 parsecs\n",
      "4776266794388393472 @ 11.090469791717274 parsecs\n",
      "4776266798684508928 @ 11.093025934647292 parsecs\n",
      "4763897739549071744 @ 11.691792123955826 parsecs\n",
      "4676145235500131456 @ 19.735743484286438 parsecs\n",
      "4677345043203760896 @ 18.20949809178038 parsecs\n",
      "4775316442680941312 @ 5249.575980968751 parsecs\n"
     ]
    }
   ],
   "source": [
    "print('GAIA ID & DISTANCES')\n",
    "for i in range(len(rs)):\n",
    "    gaia_dr3_source_id=rs[i][ix]['source_id']\n",
    "    par,par_err = rs[i][ix]['parallax'],rs[i][ix]['parallax_error']\n",
    "    gaia_distance=1000/par\n",
    "    print(gaia_dr3_source_id,'@',f'{gaia_distance} parsecs')\n",
    "    "
   ]
  },
  {
   "cell_type": "code",
   "execution_count": 34,
   "id": "ca5c5e8c",
   "metadata": {},
   "outputs": [],
   "source": [
    "gpoe=[]\n",
    "for i in range(len(rs)):\n",
    "    gaia_parallax_over_err = rs[i][ix]['parallax_over_error']\n",
    "    gpoe.append(gaia_parallax_over_err)"
   ]
  },
  {
   "cell_type": "code",
   "execution_count": 35,
   "id": "c7ca93a2",
   "metadata": {},
   "outputs": [
    {
     "data": {
      "text/plain": [
       "[1977.8201,\n",
       " 2495.9136,\n",
       " 1.9680592,\n",
       " 3349.0398,\n",
       " 0.50764114,\n",
       " 4003.607,\n",
       " -0.7174528,\n",
       " 2.8076754,\n",
       " 2222.082,\n",
       " 4792.019,\n",
       " 2062.3997,\n",
       " 608.15594,\n",
       " 3774.105,\n",
       " 1.1726369,\n",
       " 3481.5535,\n",
       " 4039.4219,\n",
       " 2718.475,\n",
       " -0.33918494,\n",
       " 25.50149,\n",
       " 3422.7837,\n",
       " 1678.6511,\n",
       " 2001.2745,\n",
       " 3654.1372,\n",
       " masked,\n",
       " 2.9284801,\n",
       " 4568.0137,\n",
       " 5100.341,\n",
       " 3074.5596,\n",
       " masked,\n",
       " 4967.3394,\n",
       " 3967.9534,\n",
       " 4197.603,\n",
       " 3966.884,\n",
       " 2938.9656,\n",
       " 23.929295,\n",
       " 6086.885,\n",
       " 7869.5,\n",
       " 987.45245,\n",
       " 6055.3726,\n",
       " 3301.084,\n",
       " 5424.387,\n",
       " 4307.722,\n",
       " 5696.9893,\n",
       " 2777.9495,\n",
       " 2637.4336,\n",
       " 3.8607273]"
      ]
     },
     "execution_count": 35,
     "metadata": {},
     "output_type": "execute_result"
    }
   ],
   "source": [
    "gpoe"
   ]
  },
  {
   "cell_type": "code",
   "execution_count": 39,
   "id": "dd4061fe",
   "metadata": {},
   "outputs": [],
   "source": [
    " \n",
    "### LEGAL VOTable fields defined in:\n",
    "### https://github.com/astropy/astroquery/blob/main/astroquery/simbad/data/votable_fields_dict.json\n",
    "\n",
    "Simbad.add_votable_fields(\"otype\",\"parallax\",\"sp\")\n",
    "r = Simbad.query_region(coord.SkyCoord(ra,dec,\n",
    "                        unit=(u.deg, u.deg)),#, frame='icrs'),\n",
    "                        radius=35/60/60*u.deg)"
   ]
  },
  {
   "cell_type": "code",
   "execution_count": 40,
   "id": "6b0205b6",
   "metadata": {},
   "outputs": [
    {
     "data": {
      "text/html": [
       "&lt;MaskedColumn name=&apos;SP_TYPE&apos; dtype=&apos;object&apos; description=&apos;MK spectral type&apos; length=1&gt;\n",
       "<table>\n",
       "<tr><td>M3e</td></tr>\n",
       "</table>"
      ],
      "text/plain": [
       "<MaskedColumn name='SP_TYPE' dtype='object' description='MK spectral type' length=1>\n",
       "M3e"
      ]
     },
     "execution_count": 40,
     "metadata": {},
     "output_type": "execute_result"
    }
   ],
   "source": [
    "r['SP_TYPE']"
   ]
  },
  {
   "cell_type": "code",
   "execution_count": null,
   "id": "2c22f731",
   "metadata": {},
   "outputs": [],
   "source": []
  }
 ],
 "metadata": {
  "kernelspec": {
   "display_name": "Python 3 (ipykernel)",
   "language": "python",
   "name": "python3"
  },
  "language_info": {
   "codemirror_mode": {
    "name": "ipython",
    "version": 3
   },
   "file_extension": ".py",
   "mimetype": "text/x-python",
   "name": "python",
   "nbconvert_exporter": "python",
   "pygments_lexer": "ipython3",
   "version": "3.11.0"
  }
 },
 "nbformat": 4,
 "nbformat_minor": 5
}
