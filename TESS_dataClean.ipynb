{
 "cells": [
  {
   "cell_type": "code",
   "execution_count": 112,
   "id": "d2e8fa10",
   "metadata": {},
   "outputs": [],
   "source": [
    "import astropy\n",
    "from astropy.io import fits \n",
    "from astropy.table import Table\n",
    "from astropy.time import Time\n",
    "import matplotlib.pyplot as plt\n",
    "import numpy as np\n",
    "import pandas as pd"
   ]
  },
  {
   "cell_type": "code",
   "execution_count": 113,
   "id": "207f9838",
   "metadata": {},
   "outputs": [],
   "source": [
    "#Goal: define 2 functions to apply to TESS data\n",
    "#     1. dataClean\n",
    "#      -remove nan values \n",
    "#      -remove flagged values \n",
    "#      -correct time values\n",
    "\n",
    "#     2. flareFinder\n",
    "#       -compare avg flux value of light curve to flux data\n",
    "#       -if value_flux > avg flux by x(sigma), pull into new array (until equal to or less than x(sigma)) (new array for each flare?)\n",
    "#       -then continue through the rest of the data\n",
    "#       -find max flux in each array \n",
    "#       -pull associated timestamp from cleaned data \n",
    "#       -print timestamp, flux value for each flare discovered"
   ]
  },
  {
   "cell_type": "code",
   "execution_count": 114,
   "id": "85320cdb",
   "metadata": {},
   "outputs": [],
   "source": [
    "def dataClean(filename): #Can I use the file path as an input?\n",
    "    \"\"\" This function will remove nan values from TESS \n",
    "        20 second lightcurve data and correct time values\"\"\"\n",
    "    \n",
    " #Create an array of time and flux data with nans removed    \n",
    "    with fits.open(filename, mode=\"readonly\") as hdulist:\n",
    "        raw_time = hdulist[1].data['TIME']\n",
    "        raw_flux = hdulist[1].data['PDCSAP_FLUX']\n",
    "        raw_err = hdulist[1].data['PDCSAP_FLUX_ERR']\n",
    "    \n",
    "    data = np.vstack((raw_time, raw_flux, raw_err))\n",
    "    nonan_data = data[:, ~np.isnan(data).any(axis=0)]\n",
    " #   error = np.where(np.isfinite(raw_err))\n",
    "#Apply time correction and create array of corrected and cleaned data\n",
    "    times = nonan_data[0]\n",
    "    flux = nonan_data[1]\n",
    "    error = nonan_data[2]\n",
    "    t_corr = []\n",
    "    for i in times:\n",
    "        r = i + 2457000\n",
    "        t_corr.append(r)\n",
    "    time = Time(t_corr, format = 'jd', scale = 'utc')\n",
    "    time.format = 'iso'\n",
    "    time = np.array(time)\n",
    "    flux = np.array(flux)\n",
    "    err = np.array(error)\n",
    "#Return cleaned data\n",
    "    return[time,flux,err]"
   ]
  },
  {
   "cell_type": "code",
   "execution_count": 118,
   "id": "55076139",
   "metadata": {},
   "outputs": [],
   "source": [
    "def flareFinder(cleaned_data, sigma_multiplier):\n",
    "    \"\"\" This function will take cleaned data and a multiple to be applied to sigma. \n",
    "        The function will run through the data, creating arrays of flux values \n",
    "        when the flux is > avg flux by the specified multiple of sigma. Using the max\n",
    "        flux value from each array, the corresponding time value will be pulled from\n",
    "        the cleaned data set. Timestamp and max flux will be printed \"\"\"\n",
    "        \n",
    "#find avg flux and flux error from tess data, set as variables, using random number for avg flux\n",
    "    fluxes = cleaned_data[1]\n",
    "    times = cleaned_data[0]\n",
    "    F_err = cleaned_data[2] \n",
    "    ix = np.where(fluxes > (4460 + (sigma_multiplier*F_err)))\n",
    "    flareFlux = fluxes[ix]\n",
    "    flareTime = times[ix]\n",
    "    flareTable = pd.DataFrame(flareFlux,flareTime)\n",
    "    \n",
    "    return[flareTable]"
   ]
  },
  {
   "cell_type": "code",
   "execution_count": 119,
   "id": "6fa3c695",
   "metadata": {},
   "outputs": [],
   "source": [
    "TESSDATA = '/Users/katborski/Documents/GitHub/AFPSC/TESS/tess2021232031932-s0042-0000000250081915-0213-a_fast-lc.fits'\n",
    "cleaned_data = dataClean(TESSDATA)"
   ]
  },
  {
   "cell_type": "code",
   "execution_count": 123,
   "id": "48e4e077",
   "metadata": {},
   "outputs": [],
   "source": [
    "table = flareFinder(cleaned_data,3)"
   ]
  },
  {
   "cell_type": "code",
   "execution_count": 124,
   "id": "b1938d1f",
   "metadata": {},
   "outputs": [
    {
     "data": {
      "text/plain": [
       "[                                   0\n",
       " 2021-08-22 06:25:59.109  4558.009766\n",
       " 2021-09-03 20:20:28.846  4542.239746\n",
       " 2021-09-03 20:20:48.846  4597.621582\n",
       " 2021-09-03 20:21:08.846  4685.850098\n",
       " 2021-09-03 20:21:28.847  4653.795898\n",
       " 2021-09-03 20:21:48.847  4659.321777\n",
       " 2021-09-03 20:22:08.848  4707.171387\n",
       " 2021-09-03 20:22:28.848  4613.520020\n",
       " 2021-09-03 20:22:48.848  4610.151855\n",
       " 2021-09-03 20:23:08.849  4566.428223\n",
       " 2021-09-03 20:23:28.849  4581.015625\n",
       " 2021-09-03 20:23:48.850  4537.677246\n",
       " 2021-09-10 13:41:34.779  4546.991699]"
      ]
     },
     "execution_count": 124,
     "metadata": {},
     "output_type": "execute_result"
    }
   ],
   "source": [
    "table"
   ]
  },
  {
   "cell_type": "code",
   "execution_count": null,
   "id": "b9c5f8eb",
   "metadata": {},
   "outputs": [],
   "source": []
  }
 ],
 "metadata": {
  "kernelspec": {
   "display_name": "Python 3 (ipykernel)",
   "language": "python",
   "name": "python3"
  },
  "language_info": {
   "codemirror_mode": {
    "name": "ipython",
    "version": 3
   },
   "file_extension": ".py",
   "mimetype": "text/x-python",
   "name": "python",
   "nbconvert_exporter": "python",
   "pygments_lexer": "ipython3",
   "version": "3.9.12"
  }
 },
 "nbformat": 4,
 "nbformat_minor": 5
}
