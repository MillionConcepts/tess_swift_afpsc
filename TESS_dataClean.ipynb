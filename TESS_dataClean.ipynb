{
 "cells": [
  {
   "cell_type": "code",
   "execution_count": 3,
   "id": "d2e8fa10",
   "metadata": {},
   "outputs": [],
   "source": [
    "import astropy\n",
    "from astropy.io import fits \n",
    "import numpy as np\n",
    "import matplotlib.pyplot as plt\n",
    "from astropy.time import Time"
   ]
  },
  {
   "cell_type": "code",
   "execution_count": 4,
   "id": "207f9838",
   "metadata": {},
   "outputs": [],
   "source": [
    "#Goal: define 2 functions to apply to TESS data\n",
    "#     1. dataClean\n",
    "#      -remove nan values \n",
    "#      -remove flagged values \n",
    "#      -correct time values\n",
    "\n",
    "#     2. flareFinder\n",
    "#       -compare avg flux value of light curve to flux data\n",
    "#       -if value_flux > avg flux by x(sigma), pull into new array (until equal to or less than x(sigma)) (new array for each flare?)\n",
    "#       -then continue through the rest of the data\n",
    "#       -find max flux in each array \n",
    "#       -pull associated timestamp from cleaned data \n",
    "#       -print timestamp, flux value for each flare discovered"
   ]
  },
  {
   "cell_type": "code",
   "execution_count": 42,
   "id": "85320cdb",
   "metadata": {},
   "outputs": [],
   "source": [
    "def dataClean(filename): #Can I use the file path as an input?\n",
    "    \"\"\" This function will remove nan values from TESS \n",
    "        20 second lightcurve data and correct time values\"\"\"\n",
    "    \n",
    " #Create an array of time and flux data with nans removed    \n",
    "    with fits.open(filename, mode=\"readonly\") as hdulist:\n",
    "        raw_time = hdulist[1].data['TIME']\n",
    "        raw_flux = hdulist[1].data['PDCSAP_FLUX']\n",
    "    \n",
    "    data = np.vstack((raw_time, raw_flux))\n",
    "    nonan_data = data[:, ~np.isnan(data).any(axis=0)]\n",
    "\n",
    "#Apply time correction and create array of corrected and cleaned data\n",
    "    times = nonan_data[0]\n",
    "    flux = nonan_data[1]\n",
    "\n",
    "    t_corr = []\n",
    "    for i in times:\n",
    "        r = i + 2457000\n",
    "        t_corr.append(r)\n",
    "    time = Time(t_corr, format = 'jd', scale = 'utc')\n",
    "    time.format = 'iso'\n",
    "    time = np.array(time)\n",
    "    flux = np.array(flux)\n",
    "    \n",
    "#Return cleaned data\n",
    "    return[time,flux]"
   ]
  },
  {
   "cell_type": "code",
   "execution_count": 159,
   "id": "55076139",
   "metadata": {},
   "outputs": [],
   "source": [
    "def flareFinder(cleaned_data, sigma_multiplier):\n",
    "    \"\"\" This function will take cleaned data and a multiple to be applied to sigma. \n",
    "        The function will run through the data, creating arrays of flux values \n",
    "        when the flux is > avg flux by the specified multiple of sigma. Using the max\n",
    "        flux value from each array, the corresponding time value will be pulled from\n",
    "        the cleaned data set. Timestamp and max flux will be printed \"\"\"\n",
    "\n",
    "#find avg flux and sigma from tess data, set as variables, using random number for now\n",
    "    flux = cleaned_data[1]\n",
    "    time = cleaned_data[0]\n",
    "    \n",
    "#NEXT: ix = np.where(flux > avg_flux + sigma_multiplier*sigma)\n",
    "    ix = np.where((flux > 4180)&(flux < 4800))\n",
    "    flareFlux = flux[ix]\n",
    "    flareTime = time[ix]\n",
    "    \n",
    "    return[flareFlux,flareTime]"
   ]
  },
  {
   "cell_type": "code",
   "execution_count": 160,
   "id": "6fa3c695",
   "metadata": {},
   "outputs": [],
   "source": [
    "TESSDATA = '/Users/katborski/Documents/GitHub/AFPSC/TESS/tess2021232031932-s0042-0000000250081915-0213-a_fast-lc.fits'\n",
    "cleaned_data = dataClean(TESSDATA)"
   ]
  },
  {
   "cell_type": "code",
   "execution_count": 167,
   "id": "48e4e077",
   "metadata": {},
   "outputs": [],
   "source": [
    "flares = flareFinder(cleaned_data)"
   ]
  },
  {
   "cell_type": "code",
   "execution_count": 168,
   "id": "b1938d1f",
   "metadata": {},
   "outputs": [
    {
     "name": "stdout",
     "output_type": "stream",
     "text": [
      "15222\n",
      "15222\n"
     ]
    }
   ],
   "source": [
    "print(len(flares[0]))\n",
    "print(len(flares[1]))"
   ]
  },
  {
   "cell_type": "code",
   "execution_count": null,
   "id": "843b3cf6",
   "metadata": {},
   "outputs": [],
   "source": []
  }
 ],
 "metadata": {
  "kernelspec": {
   "display_name": "Python 3 (ipykernel)",
   "language": "python",
   "name": "python3"
  },
  "language_info": {
   "codemirror_mode": {
    "name": "ipython",
    "version": 3
   },
   "file_extension": ".py",
   "mimetype": "text/x-python",
   "name": "python",
   "nbconvert_exporter": "python",
   "pygments_lexer": "ipython3",
   "version": "3.9.12"
  }
 },
 "nbformat": 4,
 "nbformat_minor": 5
}
