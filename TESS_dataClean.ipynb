{
 "cells": [
  {
   "cell_type": "code",
   "execution_count": 15,
   "id": "d2e8fa10",
   "metadata": {},
   "outputs": [],
   "source": [
    "import astropy\n",
    "from astropy.io import fits \n",
    "from astropy.table import Table\n",
    "from astropy.time import Time\n",
    "import matplotlib.pyplot as plt\n",
    "import numpy as np\n",
    "import pandas as pd\n",
    "import scipy.signal as sig"
   ]
  },
  {
   "cell_type": "code",
   "execution_count": 16,
   "id": "207f9838",
   "metadata": {},
   "outputs": [],
   "source": [
    "#Goal: define 2 functions to apply to TESS data\n",
    "#     1. dataClean\n",
    "#      -remove nan values \n",
    "#      -remove flagged values \n",
    "#      -correct time values\n",
    "\n",
    "#     2. flareFinder\n",
    "#       -compare avg flux value of light curve to flux data\n",
    "#       -if value_flux > avg flux by x(sigma), pull into new array (until equal to or less than x(sigma)) (new array for each flare?)\n",
    "#       -then continue through the rest of the data\n",
    "#       -find max flux in each array \n",
    "#       -pull associated timestamp from cleaned data \n",
    "#       -print timestamp, flux value for each flare discovered"
   ]
  },
  {
   "cell_type": "code",
   "execution_count": 17,
   "id": "85320cdb",
   "metadata": {},
   "outputs": [],
   "source": [
    "def dataClean(filename): #Can I use the file path as an input?\n",
    "    \"\"\" This function will remove nan values from TESS \n",
    "        20 second lightcurve data and correct time values\"\"\"\n",
    "    \n",
    " #Create an array of time and flux data with nans removed    \n",
    "    with fits.open(filename, mode=\"readonly\") as hdulist:\n",
    "        raw_time = hdulist[1].data['TIME']\n",
    "        raw_flux = hdulist[1].data['PDCSAP_FLUX']\n",
    "        raw_err = hdulist[1].data['PDCSAP_FLUX_ERR']\n",
    "    \n",
    "    data = np.vstack((raw_time, raw_flux, raw_err))\n",
    "    nonan_data = data[:, ~np.isnan(data).any(axis=0)]\n",
    " #   error = np.where(np.isfinite(raw_err))\n",
    "#Apply time correction and create array of corrected and cleaned data\n",
    "    times = nonan_data[0]\n",
    "    flux = nonan_data[1]\n",
    "    error = nonan_data[2]\n",
    "    t_corr = []\n",
    "    for i in times:\n",
    "        r = i + 2457000\n",
    "        t_corr.append(r)\n",
    "    time = Time(t_corr, format = 'jd', scale = 'utc')\n",
    "    time.format = 'iso'\n",
    "    time = np.array(time)\n",
    "    flux = np.array(flux)\n",
    "    err = np.array(error)\n",
    "#Return cleaned data\n",
    "    return[time,flux,err]"
   ]
  },
  {
   "cell_type": "code",
   "execution_count": 119,
   "id": "55076139",
   "metadata": {},
   "outputs": [],
   "source": [
    "def flareFinder(cleaned_data, sigma_multiplier):\n",
    "    \"\"\" This function will take cleaned data and a multiple to be applied to sigma. \n",
    "        The function will run through the data, creating arrays of flux values \n",
    "        when the flux is > avg flux by the specified multiple of sigma. Using the max\n",
    "        flux value from each array, the corresponding time value will be pulled from\n",
    "        the cleaned data set. Timestamp and max flux will be printed \"\"\"\n",
    "#identify quiescent light curve\n",
    "\n",
    "    flux_smooth = sig.savgol_filter(cleaned_data[1], 1400, 3) #my opinion of the best parameters for this data\n",
    "    index = np.where(cleaned_data[1] < (flux_smooth + (3*cleaned_data[2]))) #using 3 as the significance for the error for now\n",
    "    q_time = cleaned_data[0][index]\n",
    "    q_flux = sig.savgol_filter(cleaned_data[1][index],2000,3)\n",
    "    ind2 = np.where(q_flux>0)\n",
    "    \n",
    "#find avg flux and flux error from tess data, set as variables, using random number for avg flux\n",
    "    fluxes = cleaned_data[1]\n",
    "    times = cleaned_data[0]\n",
    "    F_err = cleaned_data[2] \n",
    "  \n",
    " #make sure lengths of data sets are equal \n",
    "    flux_list = fluxes[ind2]\n",
    "    time_list = times[ind2]\n",
    "    err_list = F_err[ind2]\n",
    "    \n",
    "    ix = np.where(flux_list > (q_flux + (sigma_multiplier*err_list)))\n",
    "    flareFlux = flux_list[ix]\n",
    "    flareTime = time_list[ix]\n",
    "    flareTable = pd.DataFrame({\n",
    "                            'Flux':flareFlux,\n",
    "                            'Time':flareTime\n",
    "    })\n",
    "    \n",
    "    return[flareTable]"
   ]
  },
  {
   "cell_type": "code",
   "execution_count": 120,
   "id": "6fa3c695",
   "metadata": {},
   "outputs": [],
   "source": [
    "TESSDATA = '/Users/katborski/Documents/TESSGI4/AFPSC/TESS/tess2021232031932-s0042-0000000250081915-0213-a_fast-lc.fits'\n",
    "cleaned_data = dataClean(TESSDATA)"
   ]
  },
  {
   "cell_type": "code",
   "execution_count": 130,
   "id": "48e4e077",
   "metadata": {},
   "outputs": [
    {
     "data": {
      "text/plain": [
       "[            Flux                     Time\n",
       " 0    4238.275391  2021-08-21 04:56:35.476\n",
       " 1    4300.040039  2021-08-21 05:15:15.525\n",
       " 2    4262.517578  2021-08-21 10:30:16.318\n",
       " 3    4227.937988  2021-08-21 10:31:36.322\n",
       " 4    4230.927246  2021-08-21 10:40:36.344\n",
       " ..           ...                      ...\n",
       " 753  4234.636230  2021-09-12 21:52:35.299\n",
       " 754  4244.537598  2021-09-12 23:26:55.306\n",
       " 755  4233.805176  2021-09-13 01:08:35.313\n",
       " 756  4237.577148  2021-09-13 03:00:35.320\n",
       " 757  4229.994629  2021-09-13 03:20:15.321\n",
       " \n",
       " [758 rows x 2 columns]]"
      ]
     },
     "execution_count": 130,
     "metadata": {},
     "output_type": "execute_result"
    }
   ],
   "source": [
    "flareFinder(cleaned_data,3)"
   ]
  },
  {
   "cell_type": "code",
   "execution_count": 57,
   "id": "b1938d1f",
   "metadata": {},
   "outputs": [
    {
     "data": {
      "text/plain": [
       "1"
      ]
     },
     "execution_count": 57,
     "metadata": {},
     "output_type": "execute_result"
    }
   ],
   "source": []
  },
  {
   "cell_type": "code",
   "execution_count": null,
   "id": "b9c5f8eb",
   "metadata": {},
   "outputs": [],
   "source": []
  }
 ],
 "metadata": {
  "kernelspec": {
   "display_name": "Python 3 (ipykernel)",
   "language": "python",
   "name": "python3"
  },
  "language_info": {
   "codemirror_mode": {
    "name": "ipython",
    "version": 3
   },
   "file_extension": ".py",
   "mimetype": "text/x-python",
   "name": "python",
   "nbconvert_exporter": "python",
   "pygments_lexer": "ipython3",
   "version": "3.9.12"
  }
 },
 "nbformat": 4,
 "nbformat_minor": 5
}
