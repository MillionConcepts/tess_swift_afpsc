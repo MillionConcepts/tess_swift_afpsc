{
 "cells": [
  {
   "cell_type": "code",
   "execution_count": 6,
   "id": "d2e8fa10",
   "metadata": {},
   "outputs": [],
   "source": [
    "import astropy\n",
    "from astropy.io import fits \n",
    "import numpy as np\n",
    "import matplotlib.pyplot as plt\n",
    "from astropy.time import Time"
   ]
  },
  {
   "cell_type": "code",
   "execution_count": 7,
   "id": "207f9838",
   "metadata": {},
   "outputs": [],
   "source": [
    "#Goal: define 2 functions to apply to TESS data\n",
    "#     1. dataClean\n",
    "#      -remove nan values \n",
    "#      -remove flagged values \n",
    "#      -correct time values\n",
    "\n",
    "#     2. flareFinder\n",
    "#       -compare avg flux value of light curve to flux data\n",
    "#       -if value_flux > avg flux by x(sigma), pull into new array (until equal to or less than x(sigma)) (new array for each flare?)\n",
    "#       -then continue through the rest of the data\n",
    "#       -find max flux in each array \n",
    "#       -pull associated timestamp from cleaned data \n",
    "#       -print timestamp, flux value for each flare discovered"
   ]
  },
  {
   "cell_type": "code",
   "execution_count": 34,
   "id": "85320cdb",
   "metadata": {},
   "outputs": [],
   "source": [
    "def dataClean(filename): #Can I use the file path as an input?\n",
    "    \"\"\" This function will remove nan values from TESS \n",
    "        20 second lightcurve data and correct time values\"\"\"\n",
    "    \n",
    "    #Create an array of time and flux data with nans removed    \n",
    "    with fits.open(filename, mode=\"readonly\") as hdulist:\n",
    "        raw_time = hdulist[1].data['TIME']\n",
    "        raw_flux = hdulist[1].data['PDCSAP_FLUX']\n",
    "    \n",
    "    data = np.vstack((raw_time, raw_flux))\n",
    "    nonan_data = data[:, ~np.isnan(data).any(axis=0)]\n",
    "\n",
    "    #Apply time correction and create array of corrected and cleaned data\n",
    "    times = nonan_data[0]\n",
    "    flux = nonan_data[1]\n",
    "\n",
    "    t_corr = []\n",
    "    for i in times:\n",
    "        r = i + 2457000\n",
    "        t_corr.append(r)\n",
    "    time = Time(t_corr, format = 'jd', scale = 'utc')\n",
    "    time.format = 'iso'\n",
    "    time = np.array(time)\n",
    "    flux = np.array(flux)\n",
    "    cleaned_data  = time,flux\n",
    "    #Return cleaned data\n",
    "    return[cleaned_data]"
   ]
  },
  {
   "cell_type": "code",
   "execution_count": 35,
   "id": "55076139",
   "metadata": {},
   "outputs": [],
   "source": [
    "def flareFinder(cleaned_data, sigma_m):\n",
    "    \"\"\" This function will take cleaned data and a multiple to be applied to sigma. \n",
    "        The function will run through the data, creating arrays of flux values \n",
    "        when the flux is > avg flux by the specified multiple of sigma. Using the max\n",
    "        flux value from each array, the corresponding time value will be pulled from\n",
    "        the cleaned data set. Timestamp and max flux will be printed \"\"\"\n",
    "\n",
    "    \n",
    "    \n",
    "    \n",
    "    return[flareTime,flareFlux]"
   ]
  },
  {
   "cell_type": "code",
   "execution_count": 36,
   "id": "6fa3c695",
   "metadata": {},
   "outputs": [
    {
     "data": {
      "text/plain": [
       "[(array([<Time object: scale='utc' format='iso' value=2021-08-21 04:41:55.439>,\n",
       "         <Time object: scale='utc' format='iso' value=2021-08-21 04:42:15.439>,\n",
       "         <Time object: scale='utc' format='iso' value=2021-08-21 04:42:35.440>,\n",
       "         ...,\n",
       "         <Time object: scale='utc' format='iso' value=2021-09-13 08:03:55.338>,\n",
       "         <Time object: scale='utc' format='iso' value=2021-09-13 08:04:15.338>,\n",
       "         <Time object: scale='utc' format='iso' value=2021-09-13 08:04:35.338>],\n",
       "        dtype=object),\n",
       "  array([4178.15673828, 4193.41992188, 4184.61328125, ..., 4188.24169922,\n",
       "         4175.39599609, 4178.83740234]))]"
      ]
     },
     "execution_count": 36,
     "metadata": {},
     "output_type": "execute_result"
    }
   ],
   "source": [
    "TESSDATA = '/Users/katborski/Documents/GitHub/AFPSC/TESS/tess2021232031932-s0042-0000000250081915-0213-a_fast-lc.fits'\n",
    "dataClean(TESSDATA)"
   ]
  },
  {
   "cell_type": "code",
   "execution_count": 37,
   "id": "48e4e077",
   "metadata": {},
   "outputs": [
    {
     "ename": "AttributeError",
     "evalue": "'str' object has no attribute 'columns'",
     "output_type": "error",
     "traceback": [
      "\u001b[0;31m---------------------------------------------------------------------------\u001b[0m",
      "\u001b[0;31mAttributeError\u001b[0m                            Traceback (most recent call last)",
      "Input \u001b[0;32mIn [37]\u001b[0m, in \u001b[0;36m<cell line: 1>\u001b[0;34m()\u001b[0m\n\u001b[0;32m----> 1\u001b[0m \u001b[43mTESSDATA\u001b[49m\u001b[38;5;241;43m.\u001b[39;49m\u001b[43mcolumns\u001b[49m\n",
      "\u001b[0;31mAttributeError\u001b[0m: 'str' object has no attribute 'columns'"
     ]
    }
   ],
   "source": []
  },
  {
   "cell_type": "code",
   "execution_count": null,
   "id": "b1938d1f",
   "metadata": {},
   "outputs": [],
   "source": []
  }
 ],
 "metadata": {
  "kernelspec": {
   "display_name": "Python 3 (ipykernel)",
   "language": "python",
   "name": "python3"
  },
  "language_info": {
   "codemirror_mode": {
    "name": "ipython",
    "version": 3
   },
   "file_extension": ".py",
   "mimetype": "text/x-python",
   "name": "python",
   "nbconvert_exporter": "python",
   "pygments_lexer": "ipython3",
   "version": "3.9.12"
  }
 },
 "nbformat": 4,
 "nbformat_minor": 5
}
